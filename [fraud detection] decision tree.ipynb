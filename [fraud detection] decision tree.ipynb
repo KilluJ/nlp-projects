{
  "nbformat": 4,
  "nbformat_minor": 0,
  "metadata": {
    "colab": {
      "provenance": [],
      "authorship_tag": "ABX9TyNqmMLPIiC7gtAbWEzoB8Ul",
      "include_colab_link": true
    },
    "kernelspec": {
      "name": "python3",
      "display_name": "Python 3"
    },
    "language_info": {
      "name": "python"
    }
  },
  "cells": [
    {
      "cell_type": "markdown",
      "metadata": {
        "id": "view-in-github",
        "colab_type": "text"
      },
      "source": [
        "<a href=\"https://colab.research.google.com/github/KilluJ/nlp-projects/blob/main/%5Bfraud%20detection%5D%20decision%20tree.ipynb\" target=\"_parent\"><img src=\"https://colab.research.google.com/assets/colab-badge.svg\" alt=\"Open In Colab\"/></a>"
      ]
    },
    {
      "cell_type": "code",
      "execution_count": 1,
      "metadata": {
        "id": "UG-Yw5xRbzsK"
      },
      "outputs": [],
      "source": [
        "import pandas as pd\n",
        "\n",
        "df = pd.read_csv('creditcard.csv')\n",
        "X = df.drop(['Class'], axis = 1)\n",
        "y = df['Class']\n",
        "from sklearn.model_selection import train_test_split\n",
        "\n",
        "# the train and test sets are the same as in other models\n",
        "X_train, X_test, y_train, y_test = train_test_split(X, y, test_size = 0.2, random_state = 0)"
      ]
    },
    {
      "cell_type": "code",
      "source": [
        "# preprocessing data\n",
        "X_train_np = X_train.to_numpy()\n",
        "X_test_np = X_test.to_numpy()\n",
        "y_train_np = y_train.to_numpy()\n",
        "y_test_np = y_test.to_numpy()\n",
        "X_train = X_train_np.astype('uint8')\n",
        "y_train = y_train_np.astype('uint8')\n",
        "X_test = X_test_np.astype('uint8')\n",
        "y_test = y_test_np.astype('uint8')\n",
        "X_train.shape, y_train.shape"
      ],
      "metadata": {
        "colab": {
          "base_uri": "https://localhost:8080/"
        },
        "id": "TctIItzfb6HH",
        "outputId": "d488411e-7590-4e59-c881-81e993b42b8e"
      },
      "execution_count": 2,
      "outputs": [
        {
          "output_type": "execute_result",
          "data": {
            "text/plain": [
              "((227845, 30), (227845,))"
            ]
          },
          "metadata": {},
          "execution_count": 2
        }
      ]
    },
    {
      "cell_type": "code",
      "source": [
        "from sklearn import tree\n",
        "\n",
        "# train decision tree\n",
        "# with class weight roughly the reciprocal of the original data portion\n",
        "clf = tree.DecisionTreeClassifier(class_weight = {0:.0017, 1:.9983})\n",
        "clf = clf.fit(X_train, y_train)\n",
        "y_pred_test = clf.predict(X_test)"
      ],
      "metadata": {
        "id": "TD4nKBftcH__"
      },
      "execution_count": 3,
      "outputs": []
    },
    {
      "cell_type": "code",
      "source": [
        "# Print the Confusion Matrix and slice it into four pieces\n",
        "\n",
        "from sklearn.metrics import confusion_matrix\n",
        "\n",
        "cm = confusion_matrix(y_test, y_pred_test)\n",
        "\n",
        "print('Confusion matrix\\n\\n', cm)\n",
        "\n",
        "print('\\nTrue Negatives(TN) = ', cm[0,0])\n",
        "\n",
        "print('\\nTrue Positives(TP) = ', cm[1,1])\n",
        "\n",
        "print('\\nFalse Positives(FP) = ', cm[0,1])\n",
        "\n",
        "print('\\nFalse Negatives(FN) = ', cm[1,0])"
      ],
      "metadata": {
        "colab": {
          "base_uri": "https://localhost:8080/"
        },
        "id": "VHlVbj21cV7S",
        "outputId": "8fe3ddf6-2d36-4f10-a772-201b94d5da82"
      },
      "execution_count": 4,
      "outputs": [
        {
          "output_type": "stream",
          "name": "stdout",
          "text": [
            "Confusion matrix\n",
            "\n",
            " [[56841    20]\n",
            " [   27    74]]\n",
            "\n",
            "True Negatives(TN) =  56841\n",
            "\n",
            "True Positives(TP) =  74\n",
            "\n",
            "False Positives(FP) =  20\n",
            "\n",
            "False Negatives(FN) =  27\n"
          ]
        }
      ]
    },
    {
      "cell_type": "code",
      "source": [
        "# visualize confusion matrix with seaborn heatmap\n",
        "import numpy as np # linear algebra\n",
        "import matplotlib.pyplot as plt # data visualization\n",
        "import seaborn as sns # statistical data visualization\n",
        "%matplotlib inline\n",
        "cm_matrix = pd.DataFrame(data=cm, columns=['Actual Negative : 0', 'Actual Positive : 1'],\n",
        "                                 index=['Predict Negative : 0', 'Predict Positive : 1'])\n",
        "\n",
        "sns.heatmap(cm_matrix, annot=True, fmt='d', cmap='YlGnBu')"
      ],
      "metadata": {
        "colab": {
          "base_uri": "https://localhost:8080/",
          "height": 448
        },
        "id": "WN1eHX1dcdxf",
        "outputId": "3a16b9a4-edeb-4ae1-a2e3-dfe596ba47e5"
      },
      "execution_count": 5,
      "outputs": [
        {
          "output_type": "execute_result",
          "data": {
            "text/plain": [
              "<Axes: >"
            ]
          },
          "metadata": {},
          "execution_count": 5
        },
        {
          "output_type": "display_data",
          "data": {
            "text/plain": [
              "<Figure size 640x480 with 2 Axes>"
            ],
            "image/png": "[encoded data removed]"
          },
          "metadata": {}
        }
      ]
    },
    {
      "cell_type": "code",
      "source": [
        "from sklearn.metrics import classification_report\n",
        "\n",
        "print(classification_report(y_test, y_pred_test))"
      ],
      "metadata": {
        "colab": {
          "base_uri": "https://localhost:8080/"
        },
        "id": "Y4UWPq8fcgHX",
        "outputId": "2a93ca34-3b29-436e-8e20-b00cba92d9a6"
      },
      "execution_count": 7,
      "outputs": [
        {
          "output_type": "stream",
          "name": "stdout",
          "text": [
            "              precision    recall  f1-score   support\n",
            "\n",
            "           0       1.00      1.00      1.00     56861\n",
            "           1       0.79      0.73      0.76       101\n",
            "\n",
            "    accuracy                           1.00     56962\n",
            "   macro avg       0.89      0.87      0.88     56962\n",
            "weighted avg       1.00      1.00      1.00     56962\n",
            "\n"
          ]
        }
      ]
    }
  ]
}
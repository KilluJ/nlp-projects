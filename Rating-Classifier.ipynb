{
  "nbformat": 4,
  "nbformat_minor": 0,
  "metadata": {
    "colab": {
      "provenance": [],
      "gpuType": "T4",
      "authorship_tag": "ABX9TyPHUW4w0r1DyeX+xn3IYR59",
      "include_colab_link": true
    },
    "kernelspec": {
      "name": "python3",
      "display_name": "Python 3"
    },
    "language_info": {
      "name": "python"
    },
    "accelerator": "GPU"
  },
  "cells": [
    {
      "cell_type": "markdown",
      "metadata": {
        "id": "view-in-github",
        "colab_type": "text"
      },
      "source": [
        "<a href=\"https://colab.research.google.com/github/KilluJ/nlp-projects/blob/main/Rating-Classifier.ipynb\" target=\"_parent\"><img src=\"https://colab.research.google.com/assets/colab-badge.svg\" alt=\"Open In Colab\"/></a>"
      ]
    },
    {
      "cell_type": "code",
      "execution_count": 1,
      "metadata": {
        "id": "z7t5C9cN0oVR"
      },
      "outputs": [],
      "source": [
        "#preprocess the .json file\n",
        "import pandas as pd\n",
        "\n",
        "df = pd.read_json('reviews.json', lines=True)\n",
        "data = df[[\"reviewText\", \"overall\"]]"
      ]
    },
    {
      "cell_type": "code",
      "source": [
        "#equally split the train set and the test set\n",
        "train, test = data[:len(data)//2], data[len(data)//2:]"
      ],
      "metadata": {
        "id": "vfLQkVJ_2CVM"
      },
      "execution_count": 2,
      "outputs": []
    },
    {
      "cell_type": "code",
      "source": [
        "import matplotlib.pyplot as plt\n",
        "import os\n",
        "import re\n",
        "import shutil\n",
        "import string\n",
        "import tensorflow as tf\n",
        "\n",
        "from tensorflow.keras import layers\n",
        "from tensorflow.keras import losses"
      ],
      "metadata": {
        "id": "lPAGNIaY2Hm1"
      },
      "execution_count": 3,
      "outputs": []
    },
    {
      "cell_type": "code",
      "source": [
        "#make new directory to store .text files for each review under each rating group\n",
        "train_dir, test_dir = './train', './test'\n",
        "os.mkdir(train_dir)\n",
        "os.mkdir(test_dir)"
      ],
      "metadata": {
        "id": "DKGGLReC2J63"
      },
      "execution_count": 4,
      "outputs": []
    },
    {
      "cell_type": "code",
      "source": [
        "#make new directory for each rating group\n",
        "for k in set(train[\"overall\"]):\n",
        "    os.mkdir(os.path.join(train_dir, str(k)))\n",
        "    os.mkdir(os.path.join(test_dir, str(k)))"
      ],
      "metadata": {
        "id": "Vg-sMvDL2NEw"
      },
      "execution_count": 5,
      "outputs": []
    },
    {
      "cell_type": "code",
      "source": [
        "#convert each review to a .text file for training set\n",
        "for index, row in train.iterrows():\n",
        "    curdir = os.path.join(train_dir, str(row['overall']))\n",
        "    curname = str(row['overall']) + str(index) + '.txt'\n",
        "    f = open(os.path.join(curdir, curname), 'w', encoding='utf-8')\n",
        "    f.write(row['reviewText'])\n",
        "    f.close()"
      ],
      "metadata": {
        "id": "kDri26-i2SvM"
      },
      "execution_count": 6,
      "outputs": []
    },
    {
      "cell_type": "code",
      "source": [
        "#convert each review to a .text file for testing set\n",
        "for index, row in test.iterrows():\n",
        "    curdir = os.path.join(test_dir, str(row['overall']))\n",
        "    curname = str(row['overall']) + str(index) + '.txt'\n",
        "    f = open(os.path.join(curdir, curname), 'w', encoding='utf-8')\n",
        "    f.write(row['reviewText'])\n",
        "    f.close()"
      ],
      "metadata": {
        "id": "56InTqHc2XM1"
      },
      "execution_count": 7,
      "outputs": []
    },
    {
      "cell_type": "code",
      "source": [
        "#check for a random review rated 1/5\n",
        "sample_file = os.path.join(train_dir, '1/1100261.txt')\n",
        "with open(sample_file) as f:\n",
        "  print(f.read())"
      ],
      "metadata": {
        "colab": {
          "base_uri": "https://localhost:8080/"
        },
        "id": "1FnWfBjb2dTS",
        "outputId": "b9ee50b7-a25f-4f76-fa4e-a2f9a973a9b6"
      },
      "execution_count": 8,
      "outputs": [
        {
          "output_type": "stream",
          "name": "stdout",
          "text": [
            "Maybe this works for schrader valves and beach balls, but it is utterly useless for presta valves. After 30 frustrating minutes of trying to air up a tube on my bike, I returned it to the store, bought a Giant Control Tower T1 pump at my local bike shop, and I was back in business.\n"
          ]
        }
      ]
    },
    {
      "cell_type": "code",
      "source": [
        "#preparing input for training set\n",
        "batch_size = 32\n",
        "seed = 42\n",
        "\n",
        "raw_train_ds = tf.keras.utils.text_dataset_from_directory(\n",
        "    './train',\n",
        "    batch_size=batch_size,\n",
        "    validation_split=0.2,\n",
        "    subset='training',\n",
        "    seed=seed)"
      ],
      "metadata": {
        "colab": {
          "base_uri": "https://localhost:8080/"
        },
        "id": "qCSXzlQN2hsl",
        "outputId": "c50addca-ee36-4055-ab0e-35873cc94667"
      },
      "execution_count": 9,
      "outputs": [
        {
          "output_type": "stream",
          "name": "stdout",
          "text": [
            "Found 148168 files belonging to 5 classes.\n",
            "Using 118535 files for training.\n"
          ]
        }
      ]
    },
    {
      "cell_type": "code",
      "source": [
        "for text_batch, label_batch in raw_train_ds.take(1):\n",
        "  for i in range(3):\n",
        "    print(\"Review\", text_batch.numpy()[i])\n",
        "    print(\"Label\", label_batch.numpy()[i])"
      ],
      "metadata": {
        "colab": {
          "base_uri": "https://localhost:8080/"
        },
        "id": "GlbGzXtv2lTy",
        "outputId": "c694eb7b-d5cc-4430-9b91-de37231b71ce"
      },
      "execution_count": 10,
      "outputs": [
        {
          "output_type": "stream",
          "name": "stdout",
          "text": [
            "Review b\"It works.  I personally like having the wire brush part separate from the rope as opposed to the other rope cleaner that has them combined (although I haven't ever tried the other one so don't take me too seriously).  This thing is easy to use and seems like it should be gentle on the gun.  I have only used it a couple of times so far so reliability is TBD (seems like the pull cord could separate from the fat rope cleaner over time).\"\n",
            "Label 4\n",
            "Review b'Breathe good and very comfortable. Im between a small and medium, these fit good. Great for warm weather. . .'\n",
            "Label 3\n",
            "Review b\"I purchased the X-Large size and a Small size.  I got the small one to use for quick clean ups, or as a towel to pat dry my face etc, and the large one for showering AND for to use as a blanket while on an airplane.  I always use the airline's blankets, but since some started charging and they may not be that sanitary, I plan to use the Sea to Summit X-Large size one as a blanket.  I love how they pack away easily too.  I haven't used it as a towel yet, so I'm not sure how absorbent they are.  But, I love how big the X-Large one is, and not just for using as a blanket, but how it can cover your entire body after showering.\"\n",
            "Label 4\n"
          ]
        }
      ]
    },
    {
      "cell_type": "code",
      "source": [
        "print(\"Label 0 corresponds to\", raw_train_ds.class_names[0])\n",
        "print(\"Label 1 corresponds to\", raw_train_ds.class_names[1])\n",
        "print(\"Label 2 corresponds to\", raw_train_ds.class_names[2])\n",
        "print(\"Label 3 corresponds to\", raw_train_ds.class_names[3])\n",
        "print(\"Label 4 corresponds to\", raw_train_ds.class_names[4])"
      ],
      "metadata": {
        "colab": {
          "base_uri": "https://localhost:8080/"
        },
        "id": "IdZVZDY93GjF",
        "outputId": "a8de5a68-d93c-4503-c6ab-301c07cb22f6"
      },
      "execution_count": 11,
      "outputs": [
        {
          "output_type": "stream",
          "name": "stdout",
          "text": [
            "Label 0 corresponds to 1\n",
            "Label 1 corresponds to 2\n",
            "Label 2 corresponds to 3\n",
            "Label 3 corresponds to 4\n",
            "Label 4 corresponds to 5\n"
          ]
        }
      ]
    },
    {
      "cell_type": "code",
      "source": [
        "raw_val_ds = tf.keras.utils.text_dataset_from_directory(\n",
        "    './train',\n",
        "    batch_size=batch_size,\n",
        "    validation_split=0.2,\n",
        "    subset='validation',\n",
        "    seed=seed)"
      ],
      "metadata": {
        "colab": {
          "base_uri": "https://localhost:8080/"
        },
        "id": "6q-4mjp63Kj3",
        "outputId": "df42859a-e93e-47fd-cf39-c5a967f17cc6"
      },
      "execution_count": 12,
      "outputs": [
        {
          "output_type": "stream",
          "name": "stdout",
          "text": [
            "Found 148168 files belonging to 5 classes.\n",
            "Using 29633 files for validation.\n"
          ]
        }
      ]
    },
    {
      "cell_type": "code",
      "source": [
        "raw_test_ds = tf.keras.utils.text_dataset_from_directory(\n",
        "    './test',\n",
        "    batch_size=batch_size)"
      ],
      "metadata": {
        "colab": {
          "base_uri": "https://localhost:8080/"
        },
        "id": "xZPoexGV3NvT",
        "outputId": "04430544-f301-4e90-97b6-bea77daa84d1"
      },
      "execution_count": 13,
      "outputs": [
        {
          "output_type": "stream",
          "name": "stdout",
          "text": [
            "Found 148169 files belonging to 5 classes.\n"
          ]
        }
      ]
    },
    {
      "cell_type": "code",
      "source": [
        "def custom_standardization(input_data):\n",
        "  lowercase = tf.strings.lower(input_data)\n",
        "  stripped_html = tf.strings.regex_replace(lowercase, '<br />', ' ')\n",
        "  return tf.strings.regex_replace(stripped_html,\n",
        "                                  '[%s]' % re.escape(string.punctuation),\n",
        "                                  '')"
      ],
      "metadata": {
        "id": "qhwjJv-E3RfA"
      },
      "execution_count": 14,
      "outputs": []
    },
    {
      "cell_type": "code",
      "source": [
        "#vectorize the input\n",
        "max_features = 10000\n",
        "sequence_length = 250\n",
        "\n",
        "vectorize_layer = layers.TextVectorization(\n",
        "    standardize=custom_standardization,\n",
        "    max_tokens=max_features,\n",
        "    output_mode='int',\n",
        "    output_sequence_length=sequence_length)"
      ],
      "metadata": {
        "id": "a9CcSXVO3UIc"
      },
      "execution_count": 15,
      "outputs": []
    },
    {
      "cell_type": "code",
      "source": [
        "# Make a text-only dataset (without labels), then call adapt\n",
        "train_text = raw_train_ds.map(lambda x, y: x)\n",
        "vectorize_layer.adapt(train_text)"
      ],
      "metadata": {
        "id": "MlS-Z9Qh3WsD"
      },
      "execution_count": 16,
      "outputs": []
    },
    {
      "cell_type": "code",
      "source": [
        "def vectorize_text(text, label):\n",
        "  text = tf.expand_dims(text, -1)\n",
        "  return vectorize_layer(text), label"
      ],
      "metadata": {
        "id": "HeA8s1QX3Yov"
      },
      "execution_count": 17,
      "outputs": []
    },
    {
      "cell_type": "code",
      "source": [
        "# retrieve a batch (of 32 reviews and labels) from the dataset\n",
        "text_batch, label_batch = next(iter(raw_train_ds))\n",
        "first_review, first_label = text_batch[0], label_batch[0]\n",
        "print(\"Review\", first_review)\n",
        "print(\"Label\", raw_train_ds.class_names[first_label])\n",
        "print(\"Vectorized review\", vectorize_text(first_review, first_label))"
      ],
      "metadata": {
        "colab": {
          "base_uri": "https://localhost:8080/"
        },
        "id": "OEfc6Wae3e3y",
        "outputId": "7fee51cb-16c6-4646-9eef-8dfe4bdd2f95"
      },
      "execution_count": 18,
      "outputs": [
        {
          "output_type": "stream",
          "name": "stdout",
          "text": [
            "Review tf.Tensor(b'These targets take a beating and keep on going.  I have shot 9mm, .40, .45acp, .44mag, 7.62x39 and .308..... No problems.  This is a good to great item, we as a family shoot and its a great way to add a little fun to our family time.. just wish shells were cheaper.. im just glad this unit is and was sold as said.  I foresee lot more good time in the future', shape=(), dtype=string)\n",
            "Label 5\n",
            "Vectorized review (<tf.Tensor: shape=(1, 250), dtype=int64, numpy=\n",
            "array([[  32,  820,  147,    3, 2535,    4,  124,   14,  171,    5,   19,\n",
            "         480,  963,  642, 5061,    1, 6493,    4, 2277,   57,  363,   11,\n",
            "           8,    3,   37,    6,   33,  254,  137,   21,    3,  997,  459,\n",
            "           4,   26,    3,   33,  118,    6,  426,    3,   62,  563,    6,\n",
            "         303,  997,   72,   35,  377, 1002,  129,  622,   91,   35,  687,\n",
            "          11,  506,    8,    4,   23, 1163,   21,  315,    5, 8416,  146,\n",
            "          49,   37,   72,   12,    2, 1184,    0,    0,    0,    0,    0,\n",
            "           0,    0,    0,    0,    0,    0,    0,    0,    0,    0,    0,\n",
            "           0,    0,    0,    0,    0,    0,    0,    0,    0,    0,    0,\n",
            "           0,    0,    0,    0,    0,    0,    0,    0,    0,    0,    0,\n",
            "           0,    0,    0,    0,    0,    0,    0,    0,    0,    0,    0,\n",
            "           0,    0,    0,    0,    0,    0,    0,    0,    0,    0,    0,\n",
            "           0,    0,    0,    0,    0,    0,    0,    0,    0,    0,    0,\n",
            "           0,    0,    0,    0,    0,    0,    0,    0,    0,    0,    0,\n",
            "           0,    0,    0,    0,    0,    0,    0,    0,    0,    0,    0,\n",
            "           0,    0,    0,    0,    0,    0,    0,    0,    0,    0,    0,\n",
            "           0,    0,    0,    0,    0,    0,    0,    0,    0,    0,    0,\n",
            "           0,    0,    0,    0,    0,    0,    0,    0,    0,    0,    0,\n",
            "           0,    0,    0,    0,    0,    0,    0,    0,    0,    0,    0,\n",
            "           0,    0,    0,    0,    0,    0,    0,    0,    0,    0,    0,\n",
            "           0,    0,    0,    0,    0,    0,    0,    0,    0,    0,    0,\n",
            "           0,    0,    0,    0,    0,    0,    0,    0,    0,    0,    0,\n",
            "           0,    0,    0,    0,    0,    0,    0,    0]])>, <tf.Tensor: shape=(), dtype=int32, numpy=4>)\n"
          ]
        }
      ]
    },
    {
      "cell_type": "code",
      "source": [
        "print(\"820 ---> \",vectorize_layer.get_vocabulary()[820])\n",
        "print(\"147 ---> \",vectorize_layer.get_vocabulary()[147])\n",
        "print('Vocabulary size: {}'.format(len(vectorize_layer.get_vocabulary())))"
      ],
      "metadata": {
        "colab": {
          "base_uri": "https://localhost:8080/"
        },
        "id": "4smc3VQL3f56",
        "outputId": "e8df0fdb-578f-4f73-e236-cc2d8c71e856"
      },
      "execution_count": 19,
      "outputs": [
        {
          "output_type": "stream",
          "name": "stdout",
          "text": [
            "820 --->  targets\n",
            "147 --->  take\n",
            "Vocabulary size: 10000\n"
          ]
        }
      ]
    },
    {
      "cell_type": "code",
      "source": [
        "#do the final vectorization for each data group\n",
        "train_ds = raw_train_ds.map(vectorize_text)\n",
        "val_ds = raw_val_ds.map(vectorize_text)\n",
        "test_ds = raw_test_ds.map(vectorize_text)"
      ],
      "metadata": {
        "id": "G9_tNnP73mcC"
      },
      "execution_count": 20,
      "outputs": []
    },
    {
      "cell_type": "code",
      "source": [
        "AUTOTUNE = tf.data.AUTOTUNE\n",
        "\n",
        "train_ds = train_ds.cache().prefetch(buffer_size=AUTOTUNE)\n",
        "val_ds = val_ds.cache().prefetch(buffer_size=AUTOTUNE)\n",
        "test_ds = test_ds.cache().prefetch(buffer_size=AUTOTUNE)"
      ],
      "metadata": {
        "id": "-TF2ghYP3pgY"
      },
      "execution_count": 21,
      "outputs": []
    },
    {
      "cell_type": "code",
      "source": [
        "#define our model\n",
        "embedding_dim = 16\n",
        "model = tf.keras.Sequential([\n",
        "  layers.Embedding(max_features, embedding_dim),\n",
        "  layers.Dropout(0.2),\n",
        "  layers.GlobalAveragePooling1D(),\n",
        "  layers.Dropout(0.2),\n",
        "  layers.Dense(5, activation='softmax')])\n",
        "\n",
        "model.summary()"
      ],
      "metadata": {
        "colab": {
          "base_uri": "https://localhost:8080/"
        },
        "id": "y1Xv_8qr3rZF",
        "outputId": "779f14a7-5e21-476c-bc3a-d3b26b80a5ac"
      },
      "execution_count": 22,
      "outputs": [
        {
          "output_type": "stream",
          "name": "stdout",
          "text": [
            "Model: \"sequential\"\n",
            "_________________________________________________________________\n",
            " Layer (type)                Output Shape              Param #   \n",
            "=================================================================\n",
            " embedding (Embedding)       (None, None, 16)          160000    \n",
            "                                                                 \n",
            " dropout (Dropout)           (None, None, 16)          0         \n",
            "                                                                 \n",
            " global_average_pooling1d (  (None, 16)                0         \n",
            " GlobalAveragePooling1D)                                         \n",
            "                                                                 \n",
            " dropout_1 (Dropout)         (None, 16)                0         \n",
            "                                                                 \n",
            " dense (Dense)               (None, 5)                 85        \n",
            "                                                                 \n",
            "=================================================================\n",
            "Total params: 160085 (625.33 KB)\n",
            "Trainable params: 160085 (625.33 KB)\n",
            "Non-trainable params: 0 (0.00 Byte)\n",
            "_________________________________________________________________\n"
          ]
        }
      ]
    },
    {
      "cell_type": "code",
      "source": [
        "model.compile(loss=\"sparse_categorical_crossentropy\",optimizer='adam',\n",
        "              metrics=['accuracy'])"
      ],
      "metadata": {
        "id": "0pAfnv-F3tpV"
      },
      "execution_count": 23,
      "outputs": []
    },
    {
      "cell_type": "code",
      "source": [
        "#start training\n",
        "epochs = 10\n",
        "history = model.fit(\n",
        "    train_ds,\n",
        "    validation_data=val_ds,\n",
        "    epochs=epochs)"
      ],
      "metadata": {
        "colab": {
          "base_uri": "https://localhost:8080/"
        },
        "id": "rYovQv0g3wEt",
        "outputId": "b44eb400-e3c5-41c3-c169-ff54f49edf03"
      },
      "execution_count": 24,
      "outputs": [
        {
          "output_type": "stream",
          "name": "stdout",
          "text": [
            "Epoch 1/10\n",
            "3705/3705 [==============================] - 106s 28ms/step - loss: 1.0288 - accuracy: 0.6378 - val_loss: 0.9731 - val_accuracy: 0.6430\n",
            "Epoch 2/10\n",
            "3705/3705 [==============================] - 17s 5ms/step - loss: 0.9283 - accuracy: 0.6486 - val_loss: 0.8979 - val_accuracy: 0.6540\n",
            "Epoch 3/10\n",
            "3705/3705 [==============================] - 16s 4ms/step - loss: 0.8693 - accuracy: 0.6616 - val_loss: 0.8615 - val_accuracy: 0.6633\n",
            "Epoch 4/10\n",
            "3705/3705 [==============================] - 18s 5ms/step - loss: 0.8340 - accuracy: 0.6725 - val_loss: 0.8381 - val_accuracy: 0.6746\n",
            "Epoch 5/10\n",
            "3705/3705 [==============================] - 17s 5ms/step - loss: 0.8098 - accuracy: 0.6807 - val_loss: 0.8257 - val_accuracy: 0.6812\n",
            "Epoch 6/10\n",
            "3705/3705 [==============================] - 16s 4ms/step - loss: 0.7934 - accuracy: 0.6870 - val_loss: 0.8182 - val_accuracy: 0.6835\n",
            "Epoch 7/10\n",
            "3705/3705 [==============================] - 16s 4ms/step - loss: 0.7832 - accuracy: 0.6907 - val_loss: 0.8143 - val_accuracy: 0.6861\n",
            "Epoch 8/10\n",
            "3705/3705 [==============================] - 17s 5ms/step - loss: 0.7738 - accuracy: 0.6937 - val_loss: 0.8124 - val_accuracy: 0.6873\n",
            "Epoch 9/10\n",
            "3705/3705 [==============================] - 18s 5ms/step - loss: 0.7660 - accuracy: 0.6976 - val_loss: 0.8108 - val_accuracy: 0.6884\n",
            "Epoch 10/10\n",
            "3705/3705 [==============================] - 18s 5ms/step - loss: 0.7598 - accuracy: 0.6995 - val_loss: 0.8106 - val_accuracy: 0.6884\n"
          ]
        }
      ]
    },
    {
      "cell_type": "code",
      "source": [
        "loss, accuracy = model.evaluate(test_ds)\n",
        "\n",
        "print(\"Loss: \", loss)\n",
        "print(\"Accuracy: \", accuracy)"
      ],
      "metadata": {
        "colab": {
          "base_uri": "https://localhost:8080/"
        },
        "id": "r30_UC8F3yDi",
        "outputId": "ded527b8-f40c-481e-e4e2-83400a70c8a3"
      },
      "execution_count": 25,
      "outputs": [
        {
          "output_type": "stream",
          "name": "stdout",
          "text": [
            "4631/4631 [==============================] - 22s 5ms/step - loss: 0.8170 - accuracy: 0.6810\n",
            "Loss:  0.8170382380485535\n",
            "Accuracy:  0.6810331344604492\n"
          ]
        }
      ]
    },
    {
      "cell_type": "code",
      "source": [
        "history_dict = history.history\n",
        "history_dict.keys()"
      ],
      "metadata": {
        "colab": {
          "base_uri": "https://localhost:8080/"
        },
        "id": "FWlcYYHT5Lzi",
        "outputId": "235c522d-b1b6-4daf-c65b-2bdf04b9defe"
      },
      "execution_count": 26,
      "outputs": [
        {
          "output_type": "execute_result",
          "data": {
            "text/plain": [
              "dict_keys(['loss', 'accuracy', 'val_loss', 'val_accuracy'])"
            ]
          },
          "metadata": {},
          "execution_count": 26
        }
      ]
    },
    {
      "cell_type": "code",
      "source": [
        "acc = history_dict['accuracy']\n",
        "val_acc = history_dict['val_accuracy']\n",
        "loss = history_dict['loss']\n",
        "val_loss = history_dict['val_loss']\n",
        "\n",
        "epochs = range(1, len(acc) + 1)\n",
        "\n",
        "# \"bo\" is for \"blue dot\"\n",
        "plt.plot(epochs, loss, 'bo', label='Training loss')\n",
        "# b is for \"solid blue line\"\n",
        "plt.plot(epochs, val_loss, 'b', label='Validation loss')\n",
        "plt.title('Training and validation loss')\n",
        "plt.xlabel('Epochs')\n",
        "plt.ylabel('Loss')\n",
        "plt.legend()\n",
        "\n",
        "plt.show()"
      ],
      "metadata": {
        "colab": {
          "base_uri": "https://localhost:8080/",
          "height": 472
        },
        "id": "esRXN-Km5VFU",
        "outputId": "ccb992d0-3cdc-4f28-f012-7d02753b1b93"
      },
      "execution_count": 27,
      "outputs": [
        {
          "output_type": "display_data",
          "data": {
            "text/plain": [
              "<Figure size 640x480 with 1 Axes>"
            ],
            "image/png": "[encoded data removed]"
          },
          "metadata": {}
        }
      ]
    },
    {
      "cell_type": "code",
      "source": [
        "plt.plot(epochs, acc, 'bo', label='Training acc')\n",
        "plt.plot(epochs, val_acc, 'b', label='Validation acc')\n",
        "plt.title('Training and validation accuracy')\n",
        "plt.xlabel('Epochs')\n",
        "plt.ylabel('Accuracy')\n",
        "plt.legend(loc='lower right')\n",
        "\n",
        "plt.show()"
      ],
      "metadata": {
        "colab": {
          "base_uri": "https://localhost:8080/",
          "height": 472
        },
        "id": "J0_WWY7M5XXm",
        "outputId": "6069314e-4a33-4945-f4e9-ef2dd5b8b0e8"
      },
      "execution_count": 28,
      "outputs": [
        {
          "output_type": "display_data",
          "data": {
            "text/plain": [
              "<Figure size 640x480 with 1 Axes>"
            ],
            "image/png": "[encoded data removed]"
          },
          "metadata": {}
        }
      ]
    },
    {
      "cell_type": "code",
      "source": [
        "export_model = tf.keras.Sequential([\n",
        "  vectorize_layer,\n",
        "  model,\n",
        "  layers.Activation('softmax')\n",
        "])\n",
        "\n",
        "export_model.compile(\n",
        "    loss=\"sparse_categorical_crossentropy\", optimizer=\"adam\", metrics=['accuracy']\n",
        ")\n",
        "\n",
        "# Test it with `raw_test_ds`, which yields raw strings\n",
        "loss, accuracy = export_model.evaluate(raw_test_ds)\n",
        "print(accuracy)"
      ],
      "metadata": {
        "colab": {
          "base_uri": "https://localhost:8080/"
        },
        "id": "v4bY3B1X5bUy",
        "outputId": "499c0bf8-7e11-40ca-ac3e-fa0595073e7a"
      },
      "execution_count": 29,
      "outputs": [
        {
          "output_type": "stream",
          "name": "stdout",
          "text": [
            "4631/4631 [==============================] - 28s 6ms/step - loss: 1.2827 - accuracy: 0.6810\n",
            "0.6810331344604492\n"
          ]
        }
      ]
    },
    {
      "cell_type": "code",
      "source": [
        "#the examples are randomwly picked from the 'summary' section of the original .json file\n",
        "examples = [\n",
        "  \"Seems okay.\", #3\n",
        "  \"Love love love!\", #5\n",
        "  \"Great for my device\", #4\n",
        "    \"perfect.\", #5\n",
        "    \"do not waste your money.\", #1\n",
        "    \"try it yourself.\", #3\n",
        "]\n",
        "\n",
        "[int(tf.math.argmax(l)) + 1 for l in export_model.predict(examples)]"
      ],
      "metadata": {
        "colab": {
          "base_uri": "https://localhost:8080/"
        },
        "id": "BXTD0uRc5gZl",
        "outputId": "86c79c6e-30c2-430c-e77d-a0921b168e9f"
      },
      "execution_count": 31,
      "outputs": [
        {
          "output_type": "stream",
          "name": "stdout",
          "text": [
            "1/1 [==============================] - 0s 54ms/step\n"
          ]
        },
        {
          "output_type": "execute_result",
          "data": {
            "text/plain": [
              "[3, 5, 5, 5, 1, 5]"
            ]
          },
          "metadata": {},
          "execution_count": 31
        }
      ]
    },
    {
      "cell_type": "code",
      "source": [],
      "metadata": {
        "id": "AlblGeY-5vap"
      },
      "execution_count": null,
      "outputs": []
    }
  ]
}
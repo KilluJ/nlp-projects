{
  "nbformat": 4,
  "nbformat_minor": 0,
  "metadata": {
    "colab": {
      "provenance": [],
      "gpuType": "T4",
      "authorship_tag": "ABX9TyOOrebcJzREmd83BzxzZC7u",
      "include_colab_link": true
    },
    "kernelspec": {
      "name": "python3",
      "display_name": "Python 3"
    },
    "language_info": {
      "name": "python"
    },
    "accelerator": "GPU"
  },
  "cells": [
    {
      "cell_type": "markdown",
      "metadata": {
        "id": "view-in-github",
        "colab_type": "text"
      },
      "source": [
        "<a href=\"https://colab.research.google.com/github/KilluJ/nlp-projects/blob/main/Rating%20Classifier%20(with%20more%20text%20preprocessing%20less%20overfitting).ipynb\" target=\"_parent\"><img src=\"https://colab.research.google.com/assets/colab-badge.svg\" alt=\"Open In Colab\"/></a>"
      ]
    },
    {
      "cell_type": "code",
      "execution_count": 1,
      "metadata": {
        "id": "_UKlJdNitupi"
      },
      "outputs": [],
      "source": [
        "#preprocess the .json file\n",
        "import pandas as pd\n",
        "\n",
        "df = pd.read_json('reviews.json', lines=True)\n",
        "data = df[[\"reviewText\", \"overall\"]]\n",
        "\n",
        "#equally split the train set and the test set\n",
        "train, test = data[:len(data)//2], data[len(data)//2:]\n"
      ]
    },
    {
      "cell_type": "code",
      "source": [
        "import matplotlib.pyplot as plt\n",
        "import os\n",
        "import re\n",
        "import shutil\n",
        "import string\n",
        "import tensorflow as tf\n",
        "from gensim.parsing.preprocessing import remove_stopwords\n",
        "import nltk\n",
        "from nltk.stem import WordNetLemmatizer\n",
        "\n",
        "from tensorflow.keras import layers\n",
        "from tensorflow.keras import losses\n",
        "\n",
        "#lemmatize and removing stop words\n",
        "from nltk.corpus import stopwords\n",
        "from nltk.tokenize import word_tokenize\n",
        "\n",
        "nltk.download('stopwords')\n",
        "nltk.download('punkt')\n",
        "nltk.download('wordnet')\n",
        "nltk.download('omw-1.4')\n",
        "\n",
        "lemmatizer = WordNetLemmatizer()\n",
        "stop_words = set(stopwords.words('english'))\n",
        "def lemma_n_stopwords(sentence):\n",
        "    word_list = nltk.word_tokenize(sentence)\n",
        "    filtered_sentence = []\n",
        "    for w in word_list:\n",
        "        if w not in stop_words:\n",
        "            filtered_sentence.append(w)\n",
        "    lemmatized_output = ' '.join([lemmatizer.lemmatize(w) for w in filtered_sentence])\n",
        "    return lemmatized_output"
      ],
      "metadata": {
        "colab": {
          "base_uri": "https://localhost:8080/"
        },
        "id": "r20QNmOdvH4L",
        "outputId": "04cce467-2f80-4ae8-9821-cecd54bf90d5"
      },
      "execution_count": 2,
      "outputs": [
        {
          "output_type": "stream",
          "name": "stderr",
          "text": [
            "[nltk_data] Downloading package stopwords to /root/nltk_data...\n",
            "[nltk_data]   Unzipping corpora/stopwords.zip.\n",
            "[nltk_data] Downloading package punkt to /root/nltk_data...\n",
            "[nltk_data]   Unzipping tokenizers/punkt.zip.\n",
            "[nltk_data] Downloading package wordnet to /root/nltk_data...\n",
            "[nltk_data] Downloading package omw-1.4 to /root/nltk_data...\n"
          ]
        }
      ]
    },
    {
      "cell_type": "code",
      "source": [
        "#make new directory to store .text files for each review under each rating group\n",
        "train_dir, test_dir = './train', './test'\n",
        "os.mkdir(train_dir)\n",
        "os.mkdir(test_dir)\n",
        "\n",
        "#make new directory for each rating group\n",
        "for k in set(train[\"overall\"]):\n",
        "    os.mkdir(os.path.join(train_dir, str(k)))\n",
        "    os.mkdir(os.path.join(test_dir, str(k)))\n",
        "\n",
        "#convert each review to a .text file for training set\n",
        "for index, row in train.iterrows():\n",
        "    curdir = os.path.join(train_dir, str(row['overall']))\n",
        "    curname = str(row['overall']) + str(index) + '.txt'\n",
        "    f = open(os.path.join(curdir, curname), 'w', encoding='utf-8')\n",
        "    #f.write(row['reviewText'])\n",
        "    f.write(lemma_n_stopwords(row['reviewText']))\n",
        "    f.close()\n",
        "\n",
        "#convert each review to a .text file for testing set\n",
        "for index, row in test.iterrows():\n",
        "    curdir = os.path.join(test_dir, str(row['overall']))\n",
        "    curname = str(row['overall']) + str(index) + '.txt'\n",
        "    f = open(os.path.join(curdir, curname), 'w', encoding='utf-8')\n",
        "    #f.write(row['reviewText'])\n",
        "    f.write(lemma_n_stopwords(row['reviewText']))\n",
        "    f.close()"
      ],
      "metadata": {
        "id": "WOQjL7mkuWha"
      },
      "execution_count": 3,
      "outputs": []
    },
    {
      "cell_type": "code",
      "source": [
        "#check for a random review rated 1/5\n",
        "sample_file = os.path.join(train_dir, '1/1100261.txt')\n",
        "with open(sample_file) as f:\n",
        "    print(f.read())"
      ],
      "metadata": {
        "colab": {
          "base_uri": "https://localhost:8080/"
        },
        "id": "NSPpNRbKufu2",
        "outputId": "501f7697-38f1-4ea8-ed91-b11c8de00429"
      },
      "execution_count": 4,
      "outputs": [
        {
          "output_type": "stream",
          "name": "stdout",
          "text": [
            "Maybe work schrader valve beach ball , utterly useless presta valve . After 30 frustrating minute trying air tube bike , I returned store , bought Giant Control Tower T1 pump local bike shop , I back business .\n"
          ]
        }
      ]
    },
    {
      "cell_type": "code",
      "source": [
        "#preparing input for training set\n",
        "batch_size = 32\n",
        "seed = 42\n",
        "\n",
        "raw_train_ds = tf.keras.utils.text_dataset_from_directory(\n",
        "    './train',\n",
        "    batch_size=batch_size,\n",
        "    validation_split=0.2,\n",
        "    subset='training',\n",
        "    seed=seed)"
      ],
      "metadata": {
        "colab": {
          "base_uri": "https://localhost:8080/"
        },
        "id": "SBhv0D1iulvE",
        "outputId": "b3fc2204-56ca-4afa-9218-ac442e8200dd"
      },
      "execution_count": 5,
      "outputs": [
        {
          "output_type": "stream",
          "name": "stdout",
          "text": [
            "Found 148168 files belonging to 5 classes.\n",
            "Using 118535 files for training.\n"
          ]
        }
      ]
    },
    {
      "cell_type": "code",
      "source": [
        "for text_batch, label_batch in raw_train_ds.take(1):\n",
        "    for i in range(3):\n",
        "        print(\"Review\", text_batch.numpy()[i])\n",
        "        print(\"Label\", label_batch.numpy()[i])"
      ],
      "metadata": {
        "colab": {
          "base_uri": "https://localhost:8080/"
        },
        "id": "zPn5bMqauoUY",
        "outputId": "c2117597-e3e8-4de2-e698-857128b167cb"
      },
      "execution_count": 6,
      "outputs": [
        {
          "output_type": "stream",
          "name": "stdout",
          "text": [
            "Review b\"It work . I personally like wire brush part separate rope opposed rope cleaner combined ( although I n't ever tried one n't take seriously ) . This thing easy use seems like gentle gun . I used couple time far reliability TBD ( seems like pull cord could separate fat rope cleaner time ) .\"\n",
            "Label 4\n",
            "Review b'Breathe good comfortable . Im small medium , fit good . Great warm weather . . .'\n",
            "Label 3\n",
            "Review b\"I purchased X-Large size Small size . I got small one use quick clean ups , towel pat dry face etc , large one showering AND use blanket airplane . I always use airline 's blanket , since started charging may sanitary , I plan use Sea Summit X-Large size one blanket . I love pack away easily . I n't used towel yet , I 'm sure absorbent . But , I love big X-Large one , using blanket , cover entire body showering .\"\n",
            "Label 4\n"
          ]
        }
      ]
    },
    {
      "cell_type": "code",
      "source": [
        "raw_val_ds = tf.keras.utils.text_dataset_from_directory(\n",
        "    './train',\n",
        "    batch_size=batch_size,\n",
        "    validation_split=0.2,\n",
        "    subset='validation',\n",
        "    seed=seed)"
      ],
      "metadata": {
        "colab": {
          "base_uri": "https://localhost:8080/"
        },
        "id": "c4zWaFrFuusb",
        "outputId": "c5e2e5d1-9dc8-45f0-d8ed-feab75cebc45"
      },
      "execution_count": 7,
      "outputs": [
        {
          "output_type": "stream",
          "name": "stdout",
          "text": [
            "Found 148168 files belonging to 5 classes.\n",
            "Using 29633 files for validation.\n"
          ]
        }
      ]
    },
    {
      "cell_type": "code",
      "source": [
        "raw_test_ds = tf.keras.utils.text_dataset_from_directory(\n",
        "    './test',\n",
        "    batch_size=batch_size)"
      ],
      "metadata": {
        "colab": {
          "base_uri": "https://localhost:8080/"
        },
        "id": "1qpl1QiXvZ82",
        "outputId": "f0441bcf-0187-4187-fda9-21826b605bf4"
      },
      "execution_count": 8,
      "outputs": [
        {
          "output_type": "stream",
          "name": "stdout",
          "text": [
            "Found 148169 files belonging to 5 classes.\n"
          ]
        }
      ]
    },
    {
      "cell_type": "code",
      "source": [
        "def custom_standardization(input_data):\n",
        "    lowercase = tf.strings.lower(input_data)\n",
        "    stripped_html = tf.strings.regex_replace(lowercase, '<br />', ' ')\n",
        "    return tf.strings.regex_replace(stripped_html, '[%s]' % re.escape(string.punctuation),'')\n",
        "\n",
        "#vectorize the input\n",
        "max_features = 10000\n",
        "sequence_length = 250\n",
        "vectorize_layer = layers.TextVectorization(\n",
        "    standardize=custom_standardization,\n",
        "    max_tokens=max_features,\n",
        "    output_mode='int',\n",
        "    output_sequence_length=sequence_length)"
      ],
      "metadata": {
        "id": "2UzMmJjbvdsh"
      },
      "execution_count": 9,
      "outputs": []
    },
    {
      "cell_type": "code",
      "source": [
        "# Make a text-only dataset (without labels), then call adapt\n",
        "train_text = raw_train_ds.map(lambda x, y: x)\n",
        "vectorize_layer.adapt(train_text)\n",
        "def vectorize_text(text, label):\n",
        "    text = tf.expand_dims(text, -1)\n",
        "    return vectorize_layer(text), label\n"
      ],
      "metadata": {
        "id": "ebuXS1HEvjOx"
      },
      "execution_count": 10,
      "outputs": []
    },
    {
      "cell_type": "code",
      "source": [
        "# retrieve a batch (of 32 reviews and labels) from the dataset\n",
        "text_batch, label_batch = next(iter(raw_train_ds))\n",
        "first_review, first_label = text_batch[0], label_batch[0]\n",
        "print(\"Review\", first_review)\n",
        "print(\"Label\", raw_train_ds.class_names[first_label])\n",
        "print(\"Vectorized review\", vectorize_text(first_review, first_label))"
      ],
      "metadata": {
        "colab": {
          "base_uri": "https://localhost:8080/"
        },
        "id": "E-x8wTxXvwGz",
        "outputId": "e3162b70-c3d3-407c-9433-1a7dc202f267"
      },
      "execution_count": 11,
      "outputs": [
        {
          "output_type": "stream",
          "name": "stdout",
          "text": [
            "Review tf.Tensor(b'These target take beating keep going . I shot 9mm , .40 , .45acp , .44mag , 7.62x39 .308 ..... No problem . This good great item , family shoot great way add little fun family time .. wish shell cheaper .. im glad unit sold said . I foresee lot good time future', shape=(), dtype=string)\n",
            "Label 5\n",
            "Vectorized review (<tf.Tensor: shape=(1, 250), dtype=int64, numpy=\n",
            "array([[  93,  221,   67, 2295,   52,  114,    2,  284,  882,  548, 4548,\n",
            "           1, 5792, 2064,  238,   81,   13,   10,    8,  111,  883,  350,\n",
            "           8,   61,  302,   20,  489,  883,   19,  325,  520,  547, 1073,\n",
            "         615,  389, 1056,  253,    2, 7495,   78,   10,   19, 1074,    0,\n",
            "           0,    0,    0,    0,    0,    0,    0,    0,    0,    0,    0,\n",
            "           0,    0,    0,    0,    0,    0,    0,    0,    0,    0,    0,\n",
            "           0,    0,    0,    0,    0,    0,    0,    0,    0,    0,    0,\n",
            "           0,    0,    0,    0,    0,    0,    0,    0,    0,    0,    0,\n",
            "           0,    0,    0,    0,    0,    0,    0,    0,    0,    0,    0,\n",
            "           0,    0,    0,    0,    0,    0,    0,    0,    0,    0,    0,\n",
            "           0,    0,    0,    0,    0,    0,    0,    0,    0,    0,    0,\n",
            "           0,    0,    0,    0,    0,    0,    0,    0,    0,    0,    0,\n",
            "           0,    0,    0,    0,    0,    0,    0,    0,    0,    0,    0,\n",
            "           0,    0,    0,    0,    0,    0,    0,    0,    0,    0,    0,\n",
            "           0,    0,    0,    0,    0,    0,    0,    0,    0,    0,    0,\n",
            "           0,    0,    0,    0,    0,    0,    0,    0,    0,    0,    0,\n",
            "           0,    0,    0,    0,    0,    0,    0,    0,    0,    0,    0,\n",
            "           0,    0,    0,    0,    0,    0,    0,    0,    0,    0,    0,\n",
            "           0,    0,    0,    0,    0,    0,    0,    0,    0,    0,    0,\n",
            "           0,    0,    0,    0,    0,    0,    0,    0,    0,    0,    0,\n",
            "           0,    0,    0,    0,    0,    0,    0,    0,    0,    0,    0,\n",
            "           0,    0,    0,    0,    0,    0,    0,    0,    0,    0,    0,\n",
            "           0,    0,    0,    0,    0,    0,    0,    0]])>, <tf.Tensor: shape=(), dtype=int32, numpy=4>)\n"
          ]
        }
      ]
    },
    {
      "cell_type": "code",
      "source": [
        "print(\"2535 ---> \",vectorize_layer.get_vocabulary()[2535])\n",
        "print(\"124 ---> \",vectorize_layer.get_vocabulary()[124])\n",
        "print('Vocabulary size: {}'.format(len(vectorize_layer.get_vocabulary())))"
      ],
      "metadata": {
        "colab": {
          "base_uri": "https://localhost:8080/"
        },
        "id": "KynpaBzxvwmc",
        "outputId": "be9fd275-56e4-4e67-cf9d-ee28797b840e"
      },
      "execution_count": 12,
      "outputs": [
        {
          "output_type": "stream",
          "name": "stdout",
          "text": [
            "2535 --->  tea\n",
            "124 --->  hard\n",
            "Vocabulary size: 10000\n"
          ]
        }
      ]
    },
    {
      "cell_type": "code",
      "source": [
        "#do the final vectorization for each data group\n",
        "train_ds = raw_train_ds.map(vectorize_text)\n",
        "val_ds = raw_val_ds.map(vectorize_text)\n",
        "test_ds = raw_test_ds.map(vectorize_text)"
      ],
      "metadata": {
        "id": "uLb0YWWZvyp8"
      },
      "execution_count": 13,
      "outputs": []
    },
    {
      "cell_type": "code",
      "source": [
        "AUTOTUNE = tf.data.AUTOTUNE\n",
        "\n",
        "train_ds = train_ds.cache().prefetch(buffer_size=AUTOTUNE)\n",
        "val_ds = val_ds.cache().prefetch(buffer_size=AUTOTUNE)\n",
        "test_ds = test_ds.cache().prefetch(buffer_size=AUTOTUNE)"
      ],
      "metadata": {
        "id": "0bmjNkfsv0eL"
      },
      "execution_count": 14,
      "outputs": []
    },
    {
      "cell_type": "code",
      "source": [
        "#define our model\n",
        "embedding_dim = 16\n",
        "model = tf.keras.Sequential([\n",
        "  layers.Embedding(max_features, embedding_dim),\n",
        "  layers.Dropout(0.5),\n",
        "  layers.GlobalAveragePooling1D(),\n",
        "  layers.Dropout(0.2),\n",
        "  layers.Dense(5, activation='softmax')])\n",
        "\n",
        "model.summary()"
      ],
      "metadata": {
        "colab": {
          "base_uri": "https://localhost:8080/"
        },
        "id": "43i6HPdVv2rD",
        "outputId": "14c829dd-c5b0-4f1e-e813-dc19d4b2c00a"
      },
      "execution_count": 15,
      "outputs": [
        {
          "output_type": "stream",
          "name": "stdout",
          "text": [
            "Model: \"sequential\"\n",
            "_________________________________________________________________\n",
            " Layer (type)                Output Shape              Param #   \n",
            "=================================================================\n",
            " embedding (Embedding)       (None, None, 16)          160000    \n",
            "                                                                 \n",
            " dropout (Dropout)           (None, None, 16)          0         \n",
            "                                                                 \n",
            " global_average_pooling1d (  (None, 16)                0         \n",
            " GlobalAveragePooling1D)                                         \n",
            "                                                                 \n",
            " dropout_1 (Dropout)         (None, 16)                0         \n",
            "                                                                 \n",
            " dense (Dense)               (None, 5)                 85        \n",
            "                                                                 \n",
            "=================================================================\n",
            "Total params: 160085 (625.33 KB)\n",
            "Trainable params: 160085 (625.33 KB)\n",
            "Non-trainable params: 0 (0.00 Byte)\n",
            "_________________________________________________________________\n"
          ]
        }
      ]
    },
    {
      "cell_type": "code",
      "source": [
        "model.compile(loss=\"sparse_categorical_crossentropy\",optimizer='adam',\n",
        "              metrics=['accuracy'])"
      ],
      "metadata": {
        "id": "mfeRpEgjv4jM"
      },
      "execution_count": 16,
      "outputs": []
    },
    {
      "cell_type": "code",
      "source": [
        "#start training\n",
        "epochs = 10\n",
        "\n",
        "checkpoint_filepath = './checkpoint.model.keras'\n",
        "model_checkpoint_callback = tf.keras.callbacks.ModelCheckpoint(\n",
        "    filepath=checkpoint_filepath,\n",
        "    monitor='val_accuracy',\n",
        "    mode='max',\n",
        "    save_best_only=True)\n",
        "\n",
        "earlystop_callback = tf.keras.callbacks.EarlyStopping(monitor='val_loss', min_delta=0.005, patience=0)\n",
        "\n",
        "history = model.fit(\n",
        "    train_ds,\n",
        "    validation_data=val_ds,\n",
        "    epochs=epochs,\n",
        "    callbacks=[model_checkpoint_callback, earlystop_callback])"
      ],
      "metadata": {
        "colab": {
          "base_uri": "https://localhost:8080/"
        },
        "id": "OlR82U1KwWBD",
        "outputId": "e7d6dd12-ef27-4cdf-ba36-63a2f42a4994"
      },
      "execution_count": 17,
      "outputs": [
        {
          "output_type": "stream",
          "name": "stdout",
          "text": [
            "Epoch 1/10\n",
            "3705/3705 [==============================] - 108s 29ms/step - loss: 1.0426 - accuracy: 0.6403 - val_loss: 1.0058 - val_accuracy: 0.6414\n",
            "Epoch 2/10\n",
            "3705/3705 [==============================] - 15s 4ms/step - loss: 0.9717 - accuracy: 0.6433 - val_loss: 0.9363 - val_accuracy: 0.6475\n",
            "Epoch 3/10\n",
            "3705/3705 [==============================] - 15s 4ms/step - loss: 0.9084 - accuracy: 0.6528 - val_loss: 0.8926 - val_accuracy: 0.6578\n",
            "Epoch 4/10\n",
            "3705/3705 [==============================] - 16s 4ms/step - loss: 0.8722 - accuracy: 0.6629 - val_loss: 0.8684 - val_accuracy: 0.6663\n",
            "Epoch 5/10\n",
            "3705/3705 [==============================] - 16s 4ms/step - loss: 0.8483 - accuracy: 0.6715 - val_loss: 0.8515 - val_accuracy: 0.6729\n",
            "Epoch 6/10\n",
            "3705/3705 [==============================] - 15s 4ms/step - loss: 0.8319 - accuracy: 0.6762 - val_loss: 0.8408 - val_accuracy: 0.6765\n",
            "Epoch 7/10\n",
            "3705/3705 [==============================] - 15s 4ms/step - loss: 0.8200 - accuracy: 0.6801 - val_loss: 0.8344 - val_accuracy: 0.6794\n",
            "Epoch 8/10\n",
            "3705/3705 [==============================] - 16s 4ms/step - loss: 0.8098 - accuracy: 0.6838 - val_loss: 0.8308 - val_accuracy: 0.6823\n"
          ]
        }
      ]
    },
    {
      "cell_type": "code",
      "source": [
        "loss, accuracy = model.evaluate(test_ds)\n",
        "\n",
        "print(\"Loss: \", loss)\n",
        "print(\"Accuracy: \", accuracy)"
      ],
      "metadata": {
        "colab": {
          "base_uri": "https://localhost:8080/"
        },
        "id": "xToN9swzwcNp",
        "outputId": "4a4f45c6-17fb-4ac1-cf6c-f6da5395f3f3"
      },
      "execution_count": 18,
      "outputs": [
        {
          "output_type": "stream",
          "name": "stdout",
          "text": [
            "4631/4631 [==============================] - 17s 4ms/step - loss: 0.8372 - accuracy: 0.6726\n",
            "Loss:  0.8371558785438538\n",
            "Accuracy:  0.6725766062736511\n"
          ]
        }
      ]
    },
    {
      "cell_type": "code",
      "source": [
        "history_dict = history.history\n",
        "history_dict.keys()"
      ],
      "metadata": {
        "colab": {
          "base_uri": "https://localhost:8080/"
        },
        "id": "rrVxxBZEwhwk",
        "outputId": "49c146be-443d-4872-d4b0-c4dad6ccf1ca"
      },
      "execution_count": 19,
      "outputs": [
        {
          "output_type": "execute_result",
          "data": {
            "text/plain": [
              "dict_keys(['loss', 'accuracy', 'val_loss', 'val_accuracy'])"
            ]
          },
          "metadata": {},
          "execution_count": 19
        }
      ]
    },
    {
      "cell_type": "code",
      "source": [
        "acc = history_dict['accuracy']\n",
        "val_acc = history_dict['val_accuracy']\n",
        "loss = history_dict['loss']\n",
        "val_loss = history_dict['val_loss']\n",
        "\n",
        "epochs = range(1, len(acc) + 1)\n",
        "\n",
        "# \"bo\" is for \"blue dot\"\n",
        "plt.plot(epochs, loss, 'bo', label='Training loss')\n",
        "# b is for \"solid blue line\"\n",
        "plt.plot(epochs, val_loss, 'b', label='Validation loss')\n",
        "plt.title('Training and validation loss')\n",
        "plt.xlabel('Epochs')\n",
        "plt.ylabel('Loss')\n",
        "plt.legend()\n",
        "\n",
        "plt.show()"
      ],
      "metadata": {
        "colab": {
          "base_uri": "https://localhost:8080/",
          "height": 472
        },
        "id": "D64VpLgfwj-Z",
        "outputId": "79143791-320e-4772-a967-ef9af7c6199e"
      },
      "execution_count": 20,
      "outputs": [
        {
          "output_type": "display_data",
          "data": {
            "text/plain": [
              "<Figure size 640x480 with 1 Axes>"
            ],
            "image/png": "[encoded data removed]"
          },
          "metadata": {}
        }
      ]
    },
    {
      "cell_type": "code",
      "source": [
        "plt.plot(epochs, acc, 'bo', label='Training acc')\n",
        "plt.plot(epochs, val_acc, 'b', label='Validation acc')\n",
        "plt.title('Training and validation accuracy')\n",
        "plt.xlabel('Epochs')\n",
        "plt.ylabel('Accuracy')\n",
        "plt.legend(loc='lower right')\n",
        "\n",
        "plt.show()"
      ],
      "metadata": {
        "colab": {
          "base_uri": "https://localhost:8080/",
          "height": 472
        },
        "id": "datd3ZiKwmjN",
        "outputId": "49d38f20-ed6b-4bee-9ae4-d0f86ce4fa9a"
      },
      "execution_count": 21,
      "outputs": [
        {
          "output_type": "display_data",
          "data": {
            "text/plain": [
              "<Figure size 640x480 with 1 Axes>"
            ],
            "image/png": "[encoded data removed]"
          },
          "metadata": {}
        }
      ]
    },
    {
      "cell_type": "code",
      "source": [
        "export_model = tf.keras.Sequential([\n",
        "  vectorize_layer,\n",
        "  model,\n",
        "  layers.Activation('softmax')\n",
        "])\n",
        "\n",
        "export_model.compile(\n",
        "    loss=\"sparse_categorical_crossentropy\", optimizer=\"adam\", metrics=['accuracy']\n",
        ")\n",
        "\n",
        "# Test it with `raw_test_ds`, which yields raw strings\n",
        "loss, accuracy = export_model.evaluate(raw_test_ds)\n",
        "print(accuracy)"
      ],
      "metadata": {
        "colab": {
          "base_uri": "https://localhost:8080/"
        },
        "id": "pRKunowewpDx",
        "outputId": "4d6fb387-750e-4d96-9f81-3099a50b051c"
      },
      "execution_count": 22,
      "outputs": [
        {
          "output_type": "stream",
          "name": "stdout",
          "text": [
            "4631/4631 [==============================] - 21s 5ms/step - loss: 1.2975 - accuracy: 0.6726\n",
            "0.6725766062736511\n"
          ]
        }
      ]
    },
    {
      "cell_type": "code",
      "source": [
        "#the examples are randomwly picked from the 'summary' section of the original .json file\n",
        "examples = [\n",
        "  \"seems okay.\", #3\n",
        "  \"love love love!\", #5\n",
        "  \"great for my device\", #4\n",
        "    \"perfect.\", #5\n",
        "    \"do not waste your money.\", #1\n",
        "    \"try it yourself.\", #3\n",
        "]\n",
        "\n",
        "[int(tf.math.argmax(l)) + 1 for l in export_model.predict(examples)]"
      ],
      "metadata": {
        "colab": {
          "base_uri": "https://localhost:8080/"
        },
        "id": "DR6ro4Rhwrdm",
        "outputId": "d6d95234-e1ac-45f0-be20-64864c8555c7"
      },
      "execution_count": 23,
      "outputs": [
        {
          "output_type": "stream",
          "name": "stdout",
          "text": [
            "1/1 [==============================] - 0s 149ms/step\n"
          ]
        },
        {
          "output_type": "execute_result",
          "data": {
            "text/plain": [
              "[5, 5, 5, 5, 1, 5]"
            ]
          },
          "metadata": {},
          "execution_count": 23
        }
      ]
    },
    {
      "cell_type": "code",
      "source": [],
      "metadata": {
        "id": "lO1brZgzyAu8"
      },
      "execution_count": 23,
      "outputs": []
    }
  ]
}
{
  "nbformat": 4,
  "nbformat_minor": 0,
  "metadata": {
    "colab": {
      "provenance": [],
      "authorship_tag": "ABX9TyOZcRHCntGLOyjBlch0iSl8",
      "include_colab_link": true
    },
    "kernelspec": {
      "name": "python3",
      "display_name": "Python 3"
    },
    "language_info": {
      "name": "python"
    }
  },
  "cells": [
    {
      "cell_type": "markdown",
      "metadata": {
        "id": "view-in-github",
        "colab_type": "text"
      },
      "source": [
        "<a href=\"https://colab.research.google.com/github/KilluJ/nlp-projects/blob/main/tf-idf%20top%20500%20words.ipynb\" target=\"_parent\"><img src=\"https://colab.research.google.com/assets/colab-badge.svg\" alt=\"Open In Colab\"/></a>"
      ]
    },
    {
      "cell_type": "code",
      "execution_count": 1,
      "metadata": {
        "id": "GVyRdrs65H4E"
      },
      "outputs": [],
      "source": [
        "from sklearn.feature_extraction.text import TfidfVectorizer\n",
        "\n",
        "# open the .txt file preprocessed from the raw .csv file in word2vec development\n",
        "my_file = open(\"stackoverflow.txt\", \"r\")\n",
        "data = my_file.read()\n",
        "# get the list consisting of the lines in the .txt file\n",
        "data_into_list = data.split(\"\\n\")"
      ]
    },
    {
      "cell_type": "code",
      "source": [
        "# the tf-idf model with stop words ignored and return only the top 500 frequent words\n",
        "\n",
        "vectorizer = TfidfVectorizer(max_features = 500, stop_words = ['english'])\n",
        "X = vectorizer.fit_transform(data_into_list)\n",
        "common = vectorizer.get_feature_names_out()\n",
        "common"
      ],
      "metadata": {
        "colab": {
          "base_uri": "https://localhost:8080/"
        },
        "id": "EUel3eiH5jjy",
        "outputId": "8df5140c-0fd6-44d6-d7ba-c1b96d753005"
      },
      "execution_count": 2,
      "outputs": [
        {
          "output_type": "execute_result",
          "data": {
            "text/plain": [
              "array(['00', '01', '10', '100', '11', '12', '20', '50', 'able', 'about',\n",
              "       'above', 'access', 'action', 'actually', 'add', 'added', 'address',\n",
              "       'after', 'again', 'ajax', 'alert', 'all', 'already', 'also',\n",
              "       'always', 'am', 'amp', 'an', 'and', 'android', 'another', 'answer',\n",
              "       'any', 'api', 'app', 'append', 'application', 'approach', 'are',\n",
              "       'args', 'array', 'as', 'at', 'back', 'background', 'bar', 'base',\n",
              "       'based', 'be', 'because', 'been', 'before', 'being', 'below',\n",
              "       'best', 'better', 'between', 'bit', 'block', 'body', 'border',\n",
              "       'both', 'box', 'br', 'break', 'browser', 'build', 'but', 'button',\n",
              "       'by', 'call', 'called', 'can', 'case', 'catch', 'cell', 'change',\n",
              "       'changes', 'char', 'check', 'child', 'class', 'classes', 'click',\n",
              "       'client', 'close', 'code', 'color', 'column', 'columns', 'com',\n",
              "       'command', 'config', 'connection', 'console', 'const', 'container',\n",
              "       'contains', 'content', 'context', 'control', 'controller', 'copy',\n",
              "       'correct', 'could', 'count', 'create', 'created', 'css', 'current',\n",
              "       'custom', 'data', 'database', 'date', 'db', 'def', 'default',\n",
              "       'define', 'delete', 'did', 'different', 'dim', 'directory',\n",
              "       'display', 'div', 'do', 'document', 'does', 'doesn', 'doing',\n",
              "       'don', 'done', 'double', 'each', 'echo', 'edit', 'either',\n",
              "       'element', 'elements', 'else', 'email', 'empty', 'end', 'error',\n",
              "       'etc', 'even', 'event', 'every', 'example', 'exception', 'false',\n",
              "       'field', 'file', 'files', 'filter', 'final', 'find', 'first',\n",
              "       'float', 'folder', 'following', 'font', 'foo', 'for', 'foreach',\n",
              "       'form', 'format', 'found', 'frame', 'from', 'function',\n",
              "       'functions', 'get', 'give', 'go', 'going', 'good', 'google',\n",
              "       'group', 'gt', 'had', 'handle', 'has', 'have', 'having', 'head',\n",
              "       'header', 'height', 'help', 'helps', 'here', 'hope', 'how',\n",
              "       'however', 'href', 'html', 'http', 'id', 'if', 'image', 'images',\n",
              "       'img', 'import', 'in', 'include', 'index', 'information', 'input',\n",
              "       'insert', 'inside', 'instance', 'instead', 'int', 'integer',\n",
              "       'intent', 'into', 'is', 'issue', 'it', 'item', 'items', 'its',\n",
              "       'java', 'javascript', 'join', 'jquery', 'js', 'json', 'just',\n",
              "       'keep', 'key', 'know', 'label', 'last', 'layout', 'left', 'length',\n",
              "       'let', 'level', 'li', 'library', 'like', 'line', 'lines', 'link',\n",
              "       'list', 'll', 'load', 'local', 'location', 'log', 'long', 'look',\n",
              "       'looking', 'looks', 'loop', 'lt', 'main', 'make', 'many', 'map',\n",
              "       'margin', 'match', 'max', 'may', 'maybe', 'me', 'means', 'memory',\n",
              "       'message', 'method', 'methods', 'might', 'min', 'model', 'more',\n",
              "       'most', 'much', 'multiple', 'must', 'my', 'name', 'names', 'need',\n",
              "       'net', 'new', 'next', 'no', 'node', 'none', 'not', 'note', 'now',\n",
              "       'null', 'number', 'obj', 'object', 'objects', 'of', 'on', 'once',\n",
              "       'one', 'only', 'open', 'option', 'options', 'or', 'order', 'org',\n",
              "       'other', 'out', 'output', 'over', 'override', 'own', 'page',\n",
              "       'parameter', 'parameters', 'parent', 'part', 'pass', 'password',\n",
              "       'path', 'php', 'please', 'point', 'position', 'possible', 'post',\n",
              "       'print', 'println', 'private', 'probably', 'problem', 'process',\n",
              "       'program', 'project', 'properties', 'property', 'public', 'put',\n",
              "       'query', 'question', 'range', 're', 'read', 'really', 'reference',\n",
              "       'remove', 'replace', 'request', 'response', 'result', 'results',\n",
              "       'return', 'returns', 'right', 'root', 'row', 'rows', 'run',\n",
              "       'running', 'same', 'save', 'say', 'scope', 'script', 'search',\n",
              "       'second', 'see', 'seems', 'select', 'self', 'send', 'server',\n",
              "       'service', 'session', 'set', 'should', 'show', 'side', 'simple',\n",
              "       'simply', 'since', 'single', 'size', 'so', 'solution', 'some',\n",
              "       'something', 'source', 'span', 'specific', 'split', 'sql', 'src',\n",
              "       'start', 'state', 'static', 'status', 'std', 'still', 'store',\n",
              "       'str', 'string', 'style', 'sub', 'such', 'sum', 'super', 'support',\n",
              "       'sure', 'system', 'table', 'tag', 'take', 'target', 'td',\n",
              "       'template', 'test', 'text', 'than', 'that', 'the', 'their', 'them',\n",
              "       'then', 'there', 'these', 'they', 'thing', 'things', 'think',\n",
              "       'this', 'those', 'though', 'thread', 'through', 'time', 'title',\n",
              "       'to', 'too', 'top', 'tostring', 'tr', 'true', 'try', 'trying',\n",
              "       'two', 'type', 'ui', 'ul', 'up', 'update', 'url', 'use', 'used',\n",
              "       'user', 'username', 'users', 'using', 'val', 'value', 'values',\n",
              "       'var', 'variable', 've', 'version', 'very', 'view', 'void', 'want',\n",
              "       'was', 'way', 'we', 'web', 'well', 'what', 'when', 'where',\n",
              "       'which', 'while', 'why', 'width', 'will', 'window', 'windows',\n",
              "       'with', 'without', 'work', 'working', 'works', 'would', 'write',\n",
              "       'www', 'xml', 'xsl', 'yes', 'you', 'your'], dtype=object)"
            ]
          },
          "metadata": {},
          "execution_count": 2
        }
      ]
    },
    {
      "cell_type": "code",
      "source": [
        "# write the most frequent words into a file\n",
        "\n",
        "with open('top 500.txt', 'w') as f:\n",
        "    for line in common:\n",
        "        f.write(f\"{line}\\n\")\n",
        "f.close()"
      ],
      "metadata": {
        "id": "5WLqzF7b5x6v"
      },
      "execution_count": 3,
      "outputs": []
    }
  ]
}
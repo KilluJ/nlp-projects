{
  "nbformat": 4,
  "nbformat_minor": 0,
  "metadata": {
    "colab": {
      "provenance": [],
      "authorship_tag": "ABX9TyM2s+slthrVRD6iieex1LCL",
      "include_colab_link": true
    },
    "kernelspec": {
      "name": "python3",
      "display_name": "Python 3"
    },
    "language_info": {
      "name": "python"
    }
  },
  "cells": [
    {
      "cell_type": "markdown",
      "metadata": {
        "id": "view-in-github",
        "colab_type": "text"
      },
      "source": [
        "<a href=\"https://colab.research.google.com/github/KilluJ/nlp-projects/blob/main/Rating%20Classifier%20using%20summary.ipynb\" target=\"_parent\"><img src=\"https://colab.research.google.com/assets/colab-badge.svg\" alt=\"Open In Colab\"/></a>"
      ]
    },
    {
      "cell_type": "code",
      "execution_count": 1,
      "metadata": {
        "id": "0iLj0tpQ0weT"
      },
      "outputs": [],
      "source": [
        "#preprocess the .json file\n",
        "import pandas as pd\n",
        "\n",
        "df = pd.read_json('reviews.json', lines=True)\n",
        "data = df[[\"summary\", \"overall\"]]\n",
        "\n",
        "#equally split the train set and the test set\n",
        "train, test = data[:len(data)//2], data[len(data)//2:]"
      ]
    },
    {
      "cell_type": "code",
      "source": [
        "import matplotlib.pyplot as plt\n",
        "import os\n",
        "import re\n",
        "import shutil\n",
        "import string\n",
        "import tensorflow as tf\n",
        "\n",
        "from tensorflow.keras import layers\n",
        "from tensorflow.keras import losses"
      ],
      "metadata": {
        "id": "a614CzGO1p1m"
      },
      "execution_count": 2,
      "outputs": []
    },
    {
      "cell_type": "code",
      "source": [
        "#make new directory to store .text files for each review under each rating group\n",
        "train_dir, test_dir = './train_s', './test_s'\n",
        "os.mkdir(train_dir)\n",
        "os.mkdir(test_dir)\n",
        "\n",
        "#make new directory for each rating group\n",
        "for k in set(train[\"overall\"]):\n",
        "    os.mkdir(os.path.join(train_dir, str(k)))\n",
        "    os.mkdir(os.path.join(test_dir, str(k)))\n",
        "\n",
        "#convert each review to a .text file for training set\n",
        "for index, row in train.iterrows():\n",
        "    curdir = os.path.join(train_dir, str(row['overall']))\n",
        "    curname = str(row['overall']) + str(index) + '.txt'\n",
        "    f = open(os.path.join(curdir, curname), 'w', encoding='utf-8')\n",
        "    f.write(row['summary'])\n",
        "    f.close()\n",
        "\n",
        "#convert each review to a .text file for testing set\n",
        "for index, row in test.iterrows():\n",
        "    curdir = os.path.join(test_dir, str(row['overall']))\n",
        "    curname = str(row['overall']) + str(index) + '.txt'\n",
        "    f = open(os.path.join(curdir, curname), 'w', encoding='utf-8')\n",
        "    f.write(row['summary'])\n",
        "    f.close()"
      ],
      "metadata": {
        "id": "jkwx3MYj1sh-"
      },
      "execution_count": 3,
      "outputs": []
    },
    {
      "cell_type": "code",
      "source": [
        "#check for a random review rated 1/5\n",
        "sample_file = os.path.join(train_dir, '1/1100261.txt')\n",
        "with open(sample_file) as f:\n",
        "  print(f.read())"
      ],
      "metadata": {
        "colab": {
          "base_uri": "https://localhost:8080/"
        },
        "id": "WKJsFASo1zu2",
        "outputId": "b4131658-53ee-4eda-a2b3-3cbc3967db86"
      },
      "execution_count": 4,
      "outputs": [
        {
          "output_type": "stream",
          "name": "stdout",
          "text": [
            "Worthless for presta valves\n"
          ]
        }
      ]
    },
    {
      "cell_type": "code",
      "source": [
        "#preparing input for training set\n",
        "batch_size = 32\n",
        "seed = 42\n",
        "\n",
        "raw_train_ds = tf.keras.utils.text_dataset_from_directory(\n",
        "    './train_s',\n",
        "    batch_size=batch_size,\n",
        "    validation_split=0.2,\n",
        "    subset='training',\n",
        "    seed=seed)"
      ],
      "metadata": {
        "colab": {
          "base_uri": "https://localhost:8080/"
        },
        "id": "t3hu4DAM12A5",
        "outputId": "0bc6555f-854d-4410-ffcd-8003cccca609"
      },
      "execution_count": 5,
      "outputs": [
        {
          "output_type": "stream",
          "name": "stdout",
          "text": [
            "Found 148168 files belonging to 5 classes.\n",
            "Using 118535 files for training.\n"
          ]
        }
      ]
    },
    {
      "cell_type": "code",
      "source": [
        "for text_batch, label_batch in raw_train_ds.take(1):\n",
        "  for i in range(3):\n",
        "    print(\"Review\", text_batch.numpy()[i])\n",
        "    print(\"Label\", label_batch.numpy()[i])"
      ],
      "metadata": {
        "colab": {
          "base_uri": "https://localhost:8080/"
        },
        "id": "VOhrjfxR14Y1",
        "outputId": "c71a2e8d-087f-4a35-90f3-7e627f61f83c"
      },
      "execution_count": 6,
      "outputs": [
        {
          "output_type": "stream",
          "name": "stdout",
          "text": [
            "Review b'Like it!'\n",
            "Label 4\n",
            "Review b'comfortable'\n",
            "Label 3\n",
            "Review b'Could be used as a Blanket (X-Large Size)'\n",
            "Label 4\n"
          ]
        }
      ]
    },
    {
      "cell_type": "code",
      "source": [
        "print(\"Label 0 corresponds to\", raw_train_ds.class_names[0])\n",
        "print(\"Label 1 corresponds to\", raw_train_ds.class_names[1])\n",
        "print(\"Label 2 corresponds to\", raw_train_ds.class_names[2])\n",
        "print(\"Label 3 corresponds to\", raw_train_ds.class_names[3])\n",
        "print(\"Label 4 corresponds to\", raw_train_ds.class_names[4])"
      ],
      "metadata": {
        "colab": {
          "base_uri": "https://localhost:8080/"
        },
        "id": "S1_Shz_416Iz",
        "outputId": "3761b0d1-ec01-4ef9-88bf-2ab27f9e5f26"
      },
      "execution_count": 7,
      "outputs": [
        {
          "output_type": "stream",
          "name": "stdout",
          "text": [
            "Label 0 corresponds to 1\n",
            "Label 1 corresponds to 2\n",
            "Label 2 corresponds to 3\n",
            "Label 3 corresponds to 4\n",
            "Label 4 corresponds to 5\n"
          ]
        }
      ]
    },
    {
      "cell_type": "code",
      "source": [
        "raw_val_ds = tf.keras.utils.text_dataset_from_directory(\n",
        "    './train_s',\n",
        "    batch_size=batch_size,\n",
        "    validation_split=0.2,\n",
        "    subset='validation',\n",
        "    seed=seed)\n",
        "raw_test_ds = tf.keras.utils.text_dataset_from_directory(\n",
        "    './test_s',\n",
        "    batch_size=batch_size)"
      ],
      "metadata": {
        "colab": {
          "base_uri": "https://localhost:8080/"
        },
        "id": "py-c9jsr18_R",
        "outputId": "44032997-12e7-4c77-8b08-68fbf2098a0a"
      },
      "execution_count": 8,
      "outputs": [
        {
          "output_type": "stream",
          "name": "stdout",
          "text": [
            "Found 148168 files belonging to 5 classes.\n",
            "Using 29633 files for validation.\n",
            "Found 148169 files belonging to 5 classes.\n"
          ]
        }
      ]
    },
    {
      "cell_type": "code",
      "source": [
        "def custom_standardization(input_data):\n",
        "  lowercase = tf.strings.lower(input_data)\n",
        "  stripped_html = tf.strings.regex_replace(lowercase, '<br />', ' ')\n",
        "  return tf.strings.regex_replace(stripped_html,\n",
        "                                  '[%s]' % re.escape(string.punctuation),\n",
        "                                  '')\n",
        "#vectorize the input\n",
        "max_features = 1000\n",
        "sequence_length = 50\n",
        "\n",
        "vectorize_layer = layers.TextVectorization(\n",
        "    standardize=custom_standardization,\n",
        "    max_tokens=max_features,\n",
        "    output_mode='int',\n",
        "    output_sequence_length=sequence_length)"
      ],
      "metadata": {
        "id": "T-XvNBHH2CwR"
      },
      "execution_count": 9,
      "outputs": []
    },
    {
      "cell_type": "code",
      "source": [
        "# Make a text-only dataset (without labels), then call adapt\n",
        "train_text = raw_train_ds.map(lambda x, y: x)\n",
        "vectorize_layer.adapt(train_text)\n",
        "def vectorize_text(text, label):\n",
        "  text = tf.expand_dims(text, -1)\n",
        "  return vectorize_layer(text), label\n",
        "# retrieve a batch (of 32 reviews and labels) from the dataset\n",
        "text_batch, label_batch = next(iter(raw_train_ds))\n",
        "first_review, first_label = text_batch[0], label_batch[0]\n",
        "print(\"Review\", first_review)\n",
        "print(\"Label\", raw_train_ds.class_names[first_label])\n",
        "print(\"Vectorized review\", vectorize_text(first_review, first_label))"
      ],
      "metadata": {
        "colab": {
          "base_uri": "https://localhost:8080/"
        },
        "id": "y-RPe9Vv2IvE",
        "outputId": "c97d751e-de85-4222-c4da-ea607ab779cf"
      },
      "execution_count": 10,
      "outputs": [
        {
          "output_type": "stream",
          "name": "stdout",
          "text": [
            "Review tf.Tensor(b'Great family fun', shape=(), dtype=string)\n",
            "Label 5\n",
            "Vectorized review (<tf.Tensor: shape=(1, 50), dtype=int64, numpy=\n",
            "array([[  2,   1, 131,   0,   0,   0,   0,   0,   0,   0,   0,   0,   0,\n",
            "          0,   0,   0,   0,   0,   0,   0,   0,   0,   0,   0,   0,   0,\n",
            "          0,   0,   0,   0,   0,   0,   0,   0,   0,   0,   0,   0,   0,\n",
            "          0,   0,   0,   0,   0,   0,   0,   0,   0,   0,   0]])>, <tf.Tensor: shape=(), dtype=int32, numpy=4>)\n"
          ]
        }
      ]
    },
    {
      "cell_type": "code",
      "source": [
        "print(\"926 ---> \",vectorize_layer.get_vocabulary()[926])\n",
        "print(\"127 ---> \",vectorize_layer.get_vocabulary()[127])\n",
        "print('Vocabulary size: {}'.format(len(vectorize_layer.get_vocabulary())))"
      ],
      "metadata": {
        "colab": {
          "base_uri": "https://localhost:8080/"
        },
        "id": "jsgc3kjd2Qoi",
        "outputId": "84194954-00b3-44e1-aa94-121c09a7581b"
      },
      "execution_count": 11,
      "outputs": [
        {
          "output_type": "stream",
          "name": "stdout",
          "text": [
            "926 --->  adapter\n",
            "127 --->  belt\n",
            "Vocabulary size: 1000\n"
          ]
        }
      ]
    },
    {
      "cell_type": "code",
      "source": [
        "#do the final vectorization for each data group\n",
        "train_ds = raw_train_ds.map(vectorize_text)\n",
        "val_ds = raw_val_ds.map(vectorize_text)\n",
        "test_ds = raw_test_ds.map(vectorize_text)\n",
        "\n",
        "AUTOTUNE = tf.data.AUTOTUNE\n",
        "\n",
        "train_ds = train_ds.cache().prefetch(buffer_size=AUTOTUNE)\n",
        "val_ds = val_ds.cache().prefetch(buffer_size=AUTOTUNE)\n",
        "test_ds = test_ds.cache().prefetch(buffer_size=AUTOTUNE)"
      ],
      "metadata": {
        "id": "zLNkFHkh2Rh1"
      },
      "execution_count": 12,
      "outputs": []
    },
    {
      "cell_type": "code",
      "source": [
        "#define our model\n",
        "embedding_dim = 16\n",
        "model = tf.keras.Sequential([\n",
        "  layers.Embedding(max_features, embedding_dim),\n",
        "  layers.Dropout(0.4),\n",
        "  layers.GlobalAveragePooling1D(),\n",
        "  layers.Dropout(0.2),\n",
        "  layers.Dense(5, activation='softmax')])\n",
        "\n",
        "model.summary()"
      ],
      "metadata": {
        "colab": {
          "base_uri": "https://localhost:8080/"
        },
        "id": "kGySnO6F2WY7",
        "outputId": "49773f27-732c-4ae8-93f6-3a3a3f17f7ec"
      },
      "execution_count": 13,
      "outputs": [
        {
          "output_type": "stream",
          "name": "stdout",
          "text": [
            "Model: \"sequential\"\n",
            "_________________________________________________________________\n",
            " Layer (type)                Output Shape              Param #   \n",
            "=================================================================\n",
            " embedding (Embedding)       (None, None, 16)          16000     \n",
            "                                                                 \n",
            " dropout (Dropout)           (None, None, 16)          0         \n",
            "                                                                 \n",
            " global_average_pooling1d (  (None, 16)                0         \n",
            " GlobalAveragePooling1D)                                         \n",
            "                                                                 \n",
            " dropout_1 (Dropout)         (None, 16)                0         \n",
            "                                                                 \n",
            " dense (Dense)               (None, 5)                 85        \n",
            "                                                                 \n",
            "=================================================================\n",
            "Total params: 16085 (62.83 KB)\n",
            "Trainable params: 16085 (62.83 KB)\n",
            "Non-trainable params: 0 (0.00 Byte)\n",
            "_________________________________________________________________\n"
          ]
        }
      ]
    },
    {
      "cell_type": "code",
      "source": [
        "model.compile(loss=\"sparse_categorical_crossentropy\",optimizer='adam',\n",
        "              metrics=['accuracy'])"
      ],
      "metadata": {
        "id": "8QyBqPwO2ahT"
      },
      "execution_count": 14,
      "outputs": []
    },
    {
      "cell_type": "code",
      "source": [
        "#start training\n",
        "epochs = 15\n",
        "\n",
        "checkpoint_filepath = './checkpoint.model.keras'\n",
        "model_checkpoint_callback = tf.keras.callbacks.ModelCheckpoint(\n",
        "    filepath=checkpoint_filepath,\n",
        "    monitor='val_accuracy',\n",
        "    mode='max',\n",
        "    save_best_only=True)\n",
        "\n",
        "earlystop_callback = tf.keras.callbacks.EarlyStopping(monitor='val_loss', min_delta=0.002, patience=0)\n",
        "\n",
        "history = model.fit(\n",
        "    train_ds,\n",
        "    validation_data=val_ds,\n",
        "    epochs=epochs,\n",
        "    callbacks=[model_checkpoint_callback, earlystop_callback])"
      ],
      "metadata": {
        "colab": {
          "base_uri": "https://localhost:8080/"
        },
        "id": "bDcgKD882cX-",
        "outputId": "22886428-03b1-4331-ec9e-85e877512ca4"
      },
      "execution_count": 15,
      "outputs": [
        {
          "output_type": "stream",
          "name": "stdout",
          "text": [
            "Epoch 1/15\n",
            "3705/3705 [==============================] - 28s 7ms/step - loss: 1.0288 - accuracy: 0.6400 - val_loss: 0.9671 - val_accuracy: 0.6433\n",
            "Epoch 2/15\n",
            "3705/3705 [==============================] - 35s 10ms/step - loss: 0.9351 - accuracy: 0.6505 - val_loss: 0.9038 - val_accuracy: 0.6564\n",
            "Epoch 3/15\n",
            "3705/3705 [==============================] - 13s 3ms/step - loss: 0.8951 - accuracy: 0.6584 - val_loss: 0.8756 - val_accuracy: 0.6666\n",
            "Epoch 4/15\n",
            "3705/3705 [==============================] - 14s 4ms/step - loss: 0.8735 - accuracy: 0.6641 - val_loss: 0.8601 - val_accuracy: 0.6712\n",
            "Epoch 5/15\n",
            "3705/3705 [==============================] - 15s 4ms/step - loss: 0.8624 - accuracy: 0.6680 - val_loss: 0.8518 - val_accuracy: 0.6756\n",
            "Epoch 6/15\n",
            "3705/3705 [==============================] - 13s 3ms/step - loss: 0.8542 - accuracy: 0.6713 - val_loss: 0.8464 - val_accuracy: 0.6771\n",
            "Epoch 7/15\n",
            "3705/3705 [==============================] - 13s 4ms/step - loss: 0.8497 - accuracy: 0.6729 - val_loss: 0.8428 - val_accuracy: 0.6784\n",
            "Epoch 8/15\n",
            "3705/3705 [==============================] - 14s 4ms/step - loss: 0.8474 - accuracy: 0.6733 - val_loss: 0.8408 - val_accuracy: 0.6796\n",
            "Epoch 9/15\n",
            "3705/3705 [==============================] - 14s 4ms/step - loss: 0.8443 - accuracy: 0.6741 - val_loss: 0.8388 - val_accuracy: 0.6804\n"
          ]
        }
      ]
    },
    {
      "cell_type": "code",
      "source": [
        "loss, accuracy = model.evaluate(test_ds)\n",
        "\n",
        "print(\"Loss: \", loss)\n",
        "print(\"Accuracy: \", accuracy)"
      ],
      "metadata": {
        "colab": {
          "base_uri": "https://localhost:8080/"
        },
        "id": "dBqOjy1b2eqb",
        "outputId": "bb24fa8d-ab95-49ad-b772-229bc2f37f4a"
      },
      "execution_count": 16,
      "outputs": [
        {
          "output_type": "stream",
          "name": "stdout",
          "text": [
            "4631/4631 [==============================] - 22s 5ms/step - loss: 0.8460 - accuracy: 0.6709\n",
            "Loss:  0.8460015058517456\n",
            "Accuracy:  0.6708690524101257\n"
          ]
        }
      ]
    },
    {
      "cell_type": "code",
      "source": [
        "history_dict = history.history\n",
        "history_dict.keys()"
      ],
      "metadata": {
        "colab": {
          "base_uri": "https://localhost:8080/"
        },
        "id": "wk5nPt8g2hgC",
        "outputId": "7e7abaea-c997-42bc-e8d6-f0c9121359ec"
      },
      "execution_count": 17,
      "outputs": [
        {
          "output_type": "execute_result",
          "data": {
            "text/plain": [
              "dict_keys(['loss', 'accuracy', 'val_loss', 'val_accuracy'])"
            ]
          },
          "metadata": {},
          "execution_count": 17
        }
      ]
    },
    {
      "cell_type": "code",
      "source": [
        "acc = history_dict['accuracy']\n",
        "val_acc = history_dict['val_accuracy']\n",
        "loss = history_dict['loss']\n",
        "val_loss = history_dict['val_loss']\n",
        "\n",
        "epochs = range(1, len(acc) + 1)\n",
        "\n",
        "# \"bo\" is for \"blue dot\"\n",
        "plt.plot(epochs, loss, 'bo', label='Training loss')\n",
        "# b is for \"solid blue line\"\n",
        "plt.plot(epochs, val_loss, 'b', label='Validation loss')\n",
        "plt.title('Training and validation loss')\n",
        "plt.xlabel('Epochs')\n",
        "plt.ylabel('Loss')\n",
        "plt.legend()\n",
        "\n",
        "plt.show()"
      ],
      "metadata": {
        "colab": {
          "base_uri": "https://localhost:8080/",
          "height": 472
        },
        "id": "Rn0LlpE12jRB",
        "outputId": "a0a50d3f-1571-4888-a9ee-7673b495558a"
      },
      "execution_count": 18,
      "outputs": [
        {
          "output_type": "display_data",
          "data": {
            "text/plain": [
              "<Figure size 640x480 with 1 Axes>"
            ],
            "image/png": "[encoded data removed]"
          },
          "metadata": {}
        }
      ]
    },
    {
      "cell_type": "code",
      "source": [
        "plt.plot(epochs, acc, 'bo', label='Training acc')\n",
        "plt.plot(epochs, val_acc, 'b', label='Validation acc')\n",
        "plt.title('Training and validation accuracy')\n",
        "plt.xlabel('Epochs')\n",
        "plt.ylabel('Accuracy')\n",
        "plt.legend(loc='lower right')\n",
        "\n",
        "plt.show()"
      ],
      "metadata": {
        "colab": {
          "base_uri": "https://localhost:8080/",
          "height": 472
        },
        "id": "hefeHQ9C2lIJ",
        "outputId": "eb7579fc-caa1-4677-cf45-3f670a65a2e3"
      },
      "execution_count": 19,
      "outputs": [
        {
          "output_type": "display_data",
          "data": {
            "text/plain": [
              "<Figure size 640x480 with 1 Axes>"
            ],
            "image/png": "[encoded data removed]"
          },
          "metadata": {}
        }
      ]
    },
    {
      "cell_type": "code",
      "source": [
        "export_model = tf.keras.Sequential([\n",
        "  vectorize_layer,\n",
        "  model,\n",
        "  layers.Activation('softmax')\n",
        "])\n",
        "\n",
        "export_model.compile(\n",
        "    loss=\"sparse_categorical_crossentropy\", optimizer=\"adam\", metrics=['accuracy']\n",
        ")\n",
        "\n",
        "# Test it with `raw_test_ds`, which yields raw strings\n",
        "loss, accuracy = export_model.evaluate(raw_test_ds)\n",
        "print(accuracy)"
      ],
      "metadata": {
        "colab": {
          "base_uri": "https://localhost:8080/"
        },
        "id": "7Lm-IniG2m7W",
        "outputId": "49539f35-12a2-49d7-e6f2-4d69b977a071"
      },
      "execution_count": 20,
      "outputs": [
        {
          "output_type": "stream",
          "name": "stdout",
          "text": [
            "4631/4631 [==============================] - 17s 4ms/step - loss: 1.3028 - accuracy: 0.6709\n",
            "0.6708690524101257\n"
          ]
        }
      ]
    },
    {
      "cell_type": "code",
      "source": [
        "#the examples are randomwly picked from the original .json file\n",
        "examples = [\n",
        "  \"Seems okay.\", #3\n",
        "  \"Love love love!\", #5\n",
        "  \"Great for my device\", #4\n",
        "    \"perfect.\", #5\n",
        "    \"do not waste your money.\", #1\n",
        "    \"try it yourself.\", #3\n",
        "]\n",
        "\n",
        "[int(tf.math.argmax(l)) + 1 for l in export_model.predict(examples)]\n",
        "#the prediction looks not bad"
      ],
      "metadata": {
        "colab": {
          "base_uri": "https://localhost:8080/"
        },
        "id": "hj5Ag2Dk2ovO",
        "outputId": "99ec3aa3-77a8-4e0c-c0e8-5ca14bd6f8a4"
      },
      "execution_count": 21,
      "outputs": [
        {
          "output_type": "stream",
          "name": "stdout",
          "text": [
            "1/1 [==============================] - 0s 169ms/step\n"
          ]
        },
        {
          "output_type": "execute_result",
          "data": {
            "text/plain": [
              "[3, 5, 5, 5, 1, 5]"
            ]
          },
          "metadata": {},
          "execution_count": 21
        }
      ]
    },
    {
      "cell_type": "code",
      "source": [],
      "metadata": {
        "id": "407ewZqE2qoY"
      },
      "execution_count": null,
      "outputs": []
    }
  ]
}
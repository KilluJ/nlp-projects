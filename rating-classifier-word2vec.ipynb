{
 "cells": [
  {
   "cell_type": "code",
   "execution_count": 1,
   "metadata": {
    "id": "z7t5C9cN0oVR"
   },
   "outputs": [],
   "source": [
    "#preprocess the .json file\n",
    "import gensim\n",
    "import numpy as np\n",
    "import pandas as pd\n",
    "from sklearn.model_selection import train_test_split\n",
    "pd.set_option('display.max_colwidth', 100)\n",
    "\n",
    "df = pd.read_json('reviews.json', lines=True)\n",
    "data = df[[\"reviewText\", \"overall\"]]"
   ]
  },
  {
   "cell_type": "code",
   "execution_count": 2,
   "metadata": {},
   "outputs": [
    {
     "data": {
      "text/html": [
       "<div>\n",
       "<style scoped>\n",
       "    .dataframe tbody tr th:only-of-type {\n",
       "        vertical-align: middle;\n",
       "    }\n",
       "\n",
       "    .dataframe tbody tr th {\n",
       "        vertical-align: top;\n",
       "    }\n",
       "\n",
       "    .dataframe thead th {\n",
       "        text-align: right;\n",
       "    }\n",
       "</style>\n",
       "<table border=\"1\" class=\"dataframe\">\n",
       "  <thead>\n",
       "    <tr style=\"text-align: right;\">\n",
       "      <th></th>\n",
       "      <th>reviewText</th>\n",
       "      <th>overall</th>\n",
       "    </tr>\n",
       "  </thead>\n",
       "  <tbody>\n",
       "    <tr>\n",
       "      <th>0</th>\n",
       "      <td>This came in on time and I am veru happy with it, I haved used it already and it makes taking ou...</td>\n",
       "      <td>5</td>\n",
       "    </tr>\n",
       "    <tr>\n",
       "      <th>1</th>\n",
       "      <td>I had a factory Glock tool that I was using for my Glock 26, 27, and 17.  I've since lost it and...</td>\n",
       "      <td>5</td>\n",
       "    </tr>\n",
       "    <tr>\n",
       "      <th>2</th>\n",
       "      <td>If you don't have a 3/32 punch or would like to have one in your Glock bag, this is okay.  The b...</td>\n",
       "      <td>4</td>\n",
       "    </tr>\n",
       "    <tr>\n",
       "      <th>3</th>\n",
       "      <td>This works no better than any 3/32 punch you would find at the hardware store. Actually, I think...</td>\n",
       "      <td>4</td>\n",
       "    </tr>\n",
       "    <tr>\n",
       "      <th>4</th>\n",
       "      <td>I purchased this thinking maybe I need a special tool to easily pop off my base plates for my ma...</td>\n",
       "      <td>4</td>\n",
       "    </tr>\n",
       "  </tbody>\n",
       "</table>\n",
       "</div>"
      ],
      "text/plain": [
       "                                                                                            reviewText  \\\n",
       "0  This came in on time and I am veru happy with it, I haved used it already and it makes taking ou...   \n",
       "1  I had a factory Glock tool that I was using for my Glock 26, 27, and 17.  I've since lost it and...   \n",
       "2  If you don't have a 3/32 punch or would like to have one in your Glock bag, this is okay.  The b...   \n",
       "3  This works no better than any 3/32 punch you would find at the hardware store. Actually, I think...   \n",
       "4  I purchased this thinking maybe I need a special tool to easily pop off my base plates for my ma...   \n",
       "\n",
       "   overall  \n",
       "0        5  \n",
       "1        5  \n",
       "2        4  \n",
       "3        4  \n",
       "4        4  "
      ]
     },
     "execution_count": 2,
     "metadata": {},
     "output_type": "execute_result"
    }
   ],
   "source": [
    "data.head()"
   ]
  },
  {
   "cell_type": "code",
   "execution_count": 3,
   "metadata": {},
   "outputs": [],
   "source": [
    "# the preprocess_documents function in gensim automatically stem\n",
    "# which is not desired\n",
    "# thus this customized gensim_strip function\n",
    "\n",
    "#from gensim.parsing.preprocessing import preprocess_documents\n",
    "from gensim.parsing.preprocessing import strip_tags\n",
    "from gensim.parsing.preprocessing import strip_short\n",
    "from gensim.parsing.preprocessing import strip_punctuation\n",
    "from gensim.parsing.preprocessing import strip_numeric\n",
    "from gensim.parsing.preprocessing import strip_non_alphanum\n",
    "from gensim.parsing.preprocessing import strip_multiple_whitespaces\n",
    "\n",
    "def gensim_strip(input_data):\n",
    "    input_data = input_data.lower()\n",
    "    input_data = strip_tags(input_data)\n",
    "    input_data = strip_short(input_data, minsize = 3)\n",
    "    input_data = strip_punctuation(input_data)\n",
    "    input_data = strip_numeric(input_data)\n",
    "    input_data = strip_non_alphanum(input_data)\n",
    "    input_data = strip_multiple_whitespaces(input_data)\n",
    "    return input_data"
   ]
  },
  {
   "cell_type": "code",
   "execution_count": 4,
   "metadata": {},
   "outputs": [],
   "source": [
    "import spacy\n",
    "\n",
    "# Initialize spacy 'en' model, keeping only tagger component needed for lemmatization\n",
    "nlp = spacy.load(\"en_core_web_sm\", disable=['parser', 'ner'])"
   ]
  },
  {
   "cell_type": "code",
   "execution_count": 5,
   "metadata": {},
   "outputs": [],
   "source": [
    "# preprocess text using strip and lemmatization\n",
    "def tokenvec(line):\n",
    "    line = gensim_strip(line)\n",
    "    doc = nlp(line)\n",
    "    doc = [token.lemma_ for token in doc]\n",
    "    return [token for token in doc if len(token) >= 3]"
   ]
  },
  {
   "cell_type": "code",
   "execution_count": 12,
   "metadata": {},
   "outputs": [
    {
     "name": "stderr",
     "output_type": "stream",
     "text": [
      "/var/folders/7x/mknq0g2s07jdkg8524w7snh40000gn/T/ipykernel_47594/896329802.py:4: SettingWithCopyWarning: \n",
      "A value is trying to be set on a copy of a slice from a DataFrame.\n",
      "Try using .loc[row_indexer,col_indexer] = value instead\n",
      "\n",
      "See the caveats in the documentation: https://pandas.pydata.org/pandas-docs/stable/user_guide/indexing.html#returning-a-view-versus-a-copy\n",
      "  data['tokenized review'] = l\n"
     ]
    },
    {
     "data": {
      "text/html": [
       "<div>\n",
       "<style scoped>\n",
       "    .dataframe tbody tr th:only-of-type {\n",
       "        vertical-align: middle;\n",
       "    }\n",
       "\n",
       "    .dataframe tbody tr th {\n",
       "        vertical-align: top;\n",
       "    }\n",
       "\n",
       "    .dataframe thead th {\n",
       "        text-align: right;\n",
       "    }\n",
       "</style>\n",
       "<table border=\"1\" class=\"dataframe\">\n",
       "  <thead>\n",
       "    <tr style=\"text-align: right;\">\n",
       "      <th></th>\n",
       "      <th>reviewText</th>\n",
       "      <th>overall</th>\n",
       "      <th>tokenized review</th>\n",
       "    </tr>\n",
       "  </thead>\n",
       "  <tbody>\n",
       "    <tr>\n",
       "      <th>0</th>\n",
       "      <td>This came in on time and I am veru happy with it, I haved used it already and it makes taking ou...</td>\n",
       "      <td>5</td>\n",
       "      <td>[this, come, time, and, veru, happy, with, have, use, already, and, make, take, out, the, pin, g...</td>\n",
       "    </tr>\n",
       "    <tr>\n",
       "      <th>1</th>\n",
       "      <td>I had a factory Glock tool that I was using for my Glock 26, 27, and 17.  I've since lost it and...</td>\n",
       "      <td>5</td>\n",
       "      <td>[have, factory, glock, tool, that, use, for, glock, and, since, lose, and, have, need, another, ...</td>\n",
       "    </tr>\n",
       "    <tr>\n",
       "      <th>2</th>\n",
       "      <td>If you don't have a 3/32 punch or would like to have one in your Glock bag, this is okay.  The b...</td>\n",
       "      <td>4</td>\n",
       "      <td>[you, don, have, punch, would, like, have, one, your, glock, bag, this, okay, the, butt, end, ha...</td>\n",
       "    </tr>\n",
       "    <tr>\n",
       "      <th>3</th>\n",
       "      <td>This works no better than any 3/32 punch you would find at the hardware store. Actually, I think...</td>\n",
       "      <td>4</td>\n",
       "      <td>[this, work, well, than, any, punch, you, would, find, the, hardware, store, actually, think, yo...</td>\n",
       "    </tr>\n",
       "    <tr>\n",
       "      <th>4</th>\n",
       "      <td>I purchased this thinking maybe I need a special tool to easily pop off my base plates for my ma...</td>\n",
       "      <td>4</td>\n",
       "      <td>[purchase, this, thinking, maybe, need, special, tool, easily, pop, off, base, plate, for, magaz...</td>\n",
       "    </tr>\n",
       "  </tbody>\n",
       "</table>\n",
       "</div>"
      ],
      "text/plain": [
       "                                                                                            reviewText  \\\n",
       "0  This came in on time and I am veru happy with it, I haved used it already and it makes taking ou...   \n",
       "1  I had a factory Glock tool that I was using for my Glock 26, 27, and 17.  I've since lost it and...   \n",
       "2  If you don't have a 3/32 punch or would like to have one in your Glock bag, this is okay.  The b...   \n",
       "3  This works no better than any 3/32 punch you would find at the hardware store. Actually, I think...   \n",
       "4  I purchased this thinking maybe I need a special tool to easily pop off my base plates for my ma...   \n",
       "\n",
       "   overall  \\\n",
       "0        5   \n",
       "1        5   \n",
       "2        4   \n",
       "3        4   \n",
       "4        4   \n",
       "\n",
       "                                                                                      tokenized review  \n",
       "0  [this, come, time, and, veru, happy, with, have, use, already, and, make, take, out, the, pin, g...  \n",
       "1  [have, factory, glock, tool, that, use, for, glock, and, since, lose, and, have, need, another, ...  \n",
       "2  [you, don, have, punch, would, like, have, one, your, glock, bag, this, okay, the, butt, end, ha...  \n",
       "3  [this, work, well, than, any, punch, you, would, find, the, hardware, store, actually, think, yo...  \n",
       "4  [purchase, this, thinking, maybe, need, special, tool, easily, pop, off, base, plate, for, magaz...  "
      ]
     },
     "execution_count": 12,
     "metadata": {},
     "output_type": "execute_result"
    }
   ],
   "source": [
    "l = []\n",
    "for index, row in data.iterrows():\n",
    "    l.append(tokenvec(row['reviewText']))\n",
    "data['tokenized review'] = l\n",
    "data.head()"
   ]
  },
  {
   "cell_type": "code",
   "execution_count": 13,
   "metadata": {},
   "outputs": [
    {
     "data": {
      "text/html": [
       "<div>\n",
       "<style scoped>\n",
       "    .dataframe tbody tr th:only-of-type {\n",
       "        vertical-align: middle;\n",
       "    }\n",
       "\n",
       "    .dataframe tbody tr th {\n",
       "        vertical-align: top;\n",
       "    }\n",
       "\n",
       "    .dataframe thead th {\n",
       "        text-align: right;\n",
       "    }\n",
       "</style>\n",
       "<table border=\"1\" class=\"dataframe\">\n",
       "  <thead>\n",
       "    <tr style=\"text-align: right;\">\n",
       "      <th></th>\n",
       "      <th>overall</th>\n",
       "      <th>tokenized review</th>\n",
       "    </tr>\n",
       "  </thead>\n",
       "  <tbody>\n",
       "    <tr>\n",
       "      <th>0</th>\n",
       "      <td>5</td>\n",
       "      <td>[this, come, time, and, veru, happy, with, have, use, already, and, make, take, out, the, pin, g...</td>\n",
       "    </tr>\n",
       "    <tr>\n",
       "      <th>1</th>\n",
       "      <td>5</td>\n",
       "      <td>[have, factory, glock, tool, that, use, for, glock, and, since, lose, and, have, need, another, ...</td>\n",
       "    </tr>\n",
       "    <tr>\n",
       "      <th>2</th>\n",
       "      <td>4</td>\n",
       "      <td>[you, don, have, punch, would, like, have, one, your, glock, bag, this, okay, the, butt, end, ha...</td>\n",
       "    </tr>\n",
       "    <tr>\n",
       "      <th>3</th>\n",
       "      <td>4</td>\n",
       "      <td>[this, work, well, than, any, punch, you, would, find, the, hardware, store, actually, think, yo...</td>\n",
       "    </tr>\n",
       "    <tr>\n",
       "      <th>4</th>\n",
       "      <td>4</td>\n",
       "      <td>[purchase, this, thinking, maybe, need, special, tool, easily, pop, off, base, plate, for, magaz...</td>\n",
       "    </tr>\n",
       "  </tbody>\n",
       "</table>\n",
       "</div>"
      ],
      "text/plain": [
       "   overall  \\\n",
       "0        5   \n",
       "1        5   \n",
       "2        4   \n",
       "3        4   \n",
       "4        4   \n",
       "\n",
       "                                                                                      tokenized review  \n",
       "0  [this, come, time, and, veru, happy, with, have, use, already, and, make, take, out, the, pin, g...  \n",
       "1  [have, factory, glock, tool, that, use, for, glock, and, since, lose, and, have, need, another, ...  \n",
       "2  [you, don, have, punch, would, like, have, one, your, glock, bag, this, okay, the, butt, end, ha...  \n",
       "3  [this, work, well, than, any, punch, you, would, find, the, hardware, store, actually, think, yo...  \n",
       "4  [purchase, this, thinking, maybe, need, special, tool, easily, pop, off, base, plate, for, magaz...  "
      ]
     },
     "execution_count": 13,
     "metadata": {},
     "output_type": "execute_result"
    }
   ],
   "source": [
    "df = data[['overall', 'tokenized review']]\n",
    "df.head()"
   ]
  },
  {
   "cell_type": "code",
   "execution_count": 24,
   "metadata": {},
   "outputs": [],
   "source": [
    "df.to_csv('reviews cleaned.csv', index=False) "
   ]
  },
  {
   "cell_type": "code",
   "execution_count": 36,
   "metadata": {},
   "outputs": [],
   "source": [
    "# Split data into train and test sets\n",
    "X_train, X_test, y_train, y_test = train_test_split(df['tokenized review'], df['overall'] , test_size=0.4)"
   ]
  },
  {
   "cell_type": "code",
   "execution_count": 37,
   "metadata": {},
   "outputs": [],
   "source": [
    "# Train the word2vec model\n",
    "w2v_model = gensim.models.Word2Vec(X_train,\n",
    "                                   vector_size=100,\n",
    "                                   window=5,\n",
    "                                   min_count=2)"
   ]
  },
  {
   "cell_type": "code",
   "execution_count": 38,
   "metadata": {
    "id": "AlblGeY-5vap"
   },
   "outputs": [
    {
     "data": {
      "text/plain": [
       "['the',\n",
       " 'and',\n",
       " 'for',\n",
       " 'this',\n",
       " 'have',\n",
       " 'you',\n",
       " 'that',\n",
       " 'with',\n",
       " 'but',\n",
       " 'not',\n",
       " 'they',\n",
       " 'use',\n",
       " 'well',\n",
       " 'get',\n",
       " 'one',\n",
       " 'can',\n",
       " 'very',\n",
       " 'good',\n",
       " 'great',\n",
       " 'like']"
      ]
     },
     "execution_count": 38,
     "metadata": {},
     "output_type": "execute_result"
    }
   ],
   "source": [
    "w2v_model.wv.index_to_key[:20]"
   ]
  },
  {
   "cell_type": "code",
   "execution_count": 39,
   "metadata": {},
   "outputs": [
    {
     "data": {
      "text/plain": [
       "[('fantastic', 0.8327916264533997),\n",
       " ('excellent', 0.7735987305641174),\n",
       " ('good', 0.7623379230499268),\n",
       " ('awesome', 0.7607489228248596),\n",
       " ('wonderful', 0.6825358867645264),\n",
       " ('wonderfully', 0.6691790819168091),\n",
       " ('nice', 0.6552520990371704),\n",
       " ('perfect', 0.6474815011024475),\n",
       " ('terrific', 0.6224292516708374),\n",
       " ('amazing', 0.6089505553245544)]"
      ]
     },
     "execution_count": 39,
     "metadata": {},
     "output_type": "execute_result"
    }
   ],
   "source": [
    "# Find the most similar words to \"great\" based on word vectors from our trained model\n",
    "w2v_model.wv.most_similar('great')"
   ]
  },
  {
   "cell_type": "code",
   "execution_count": 40,
   "metadata": {},
   "outputs": [
    {
     "name": "stderr",
     "output_type": "stream",
     "text": [
      "/var/folders/7x/mknq0g2s07jdkg8524w7snh40000gn/T/ipykernel_47594/22094319.py:2: VisibleDeprecationWarning: Creating an ndarray from ragged nested sequences (which is a list-or-tuple of lists-or-tuples-or ndarrays with different lengths or shapes) is deprecated. If you meant to do this, you must specify 'dtype=object' when creating the ndarray.\n",
      "  X_train_vect = np.array([np.array([w2v_model.wv[i] for i in ls if i in words])\n",
      "/var/folders/7x/mknq0g2s07jdkg8524w7snh40000gn/T/ipykernel_47594/22094319.py:4: VisibleDeprecationWarning: Creating an ndarray from ragged nested sequences (which is a list-or-tuple of lists-or-tuples-or ndarrays with different lengths or shapes) is deprecated. If you meant to do this, you must specify 'dtype=object' when creating the ndarray.\n",
      "  X_test_vect = np.array([np.array([w2v_model.wv[i] for i in ls if i in words])\n"
     ]
    }
   ],
   "source": [
    "words = set(w2v_model.wv.index_to_key )\n",
    "X_train_vect = np.array([np.array([w2v_model.wv[i] for i in ls if i in words])\n",
    "                         for ls in X_train])\n",
    "X_test_vect = np.array([np.array([w2v_model.wv[i] for i in ls if i in words])\n",
    "                         for ls in X_test])"
   ]
  },
  {
   "cell_type": "code",
   "execution_count": 41,
   "metadata": {},
   "outputs": [],
   "source": [
    "# Compute sentence vectors by averaging the word vectors for the words contained in the sentence\n",
    "X_train_vect_avg = []\n",
    "for v in X_train_vect:\n",
    "    if v.size:\n",
    "        X_train_vect_avg.append(v.mean(axis=0))\n",
    "    else:\n",
    "        X_train_vect_avg.append(np.zeros(100, dtype=float))\n",
    "        \n",
    "X_test_vect_avg = []\n",
    "for v in X_test_vect:\n",
    "    if v.size:\n",
    "        X_test_vect_avg.append(v.mean(axis=0))\n",
    "    else:\n",
    "        X_test_vect_avg.append(np.zeros(100, dtype=float))"
   ]
  },
  {
   "cell_type": "code",
   "execution_count": 42,
   "metadata": {},
   "outputs": [
    {
     "name": "stdout",
     "output_type": "stream",
     "text": [
      "18 100\n",
      "43 100\n",
      "101 100\n",
      "90 100\n",
      "21 100\n"
     ]
    }
   ],
   "source": [
    "for i in range(5):\n",
    "    print(len(X_train_vect[i]), len(X_train_vect_avg[i]))"
   ]
  },
  {
   "cell_type": "code",
   "execution_count": 43,
   "metadata": {},
   "outputs": [],
   "source": [
    "# Instantiate and fit a basic Random Forest model on top of the vectors\n",
    "from sklearn.ensemble import RandomForestClassifier\n",
    "rf = RandomForestClassifier()\n",
    "rf_model = rf.fit(X_train_vect_avg, y_train.values.ravel())"
   ]
  },
  {
   "cell_type": "code",
   "execution_count": 44,
   "metadata": {},
   "outputs": [],
   "source": [
    "# Use the trained model to make predictions on the test data\n",
    "y_pred = rf_model.predict(X_test_vect_avg)"
   ]
  },
  {
   "cell_type": "code",
   "execution_count": 45,
   "metadata": {},
   "outputs": [
    {
     "data": {
      "text/plain": [
       "286550    3\n",
       "249500    5\n",
       "272298    4\n",
       "248675    5\n",
       "214103    3\n",
       "253136    5\n",
       "228542    5\n",
       "102010    5\n",
       "120387    3\n",
       "200542    4\n",
       "133867    5\n",
       "40369     5\n",
       "142116    5\n",
       "190640    5\n",
       "149930    4\n",
       "281714    4\n",
       "145249    4\n",
       "78847     5\n",
       "178192    5\n",
       "156567    5\n",
       "Name: overall, dtype: int64"
      ]
     },
     "execution_count": 45,
     "metadata": {},
     "output_type": "execute_result"
    }
   ],
   "source": [
    "y_test[:20]"
   ]
  },
  {
   "cell_type": "code",
   "execution_count": 46,
   "metadata": {},
   "outputs": [
    {
     "data": {
      "text/plain": [
       "array([5, 5, 5, 5, 4, 5, 5, 5, 5, 5, 5, 5, 5, 5, 4, 5, 5, 5, 5, 5])"
      ]
     },
     "execution_count": 46,
     "metadata": {},
     "output_type": "execute_result"
    }
   ],
   "source": [
    "y_pred[:20]"
   ]
  },
  {
   "cell_type": "code",
   "execution_count": 47,
   "metadata": {},
   "outputs": [
    {
     "data": {
      "text/plain": [
       "0.6457164550554688"
      ]
     },
     "execution_count": 47,
     "metadata": {},
     "output_type": "execute_result"
    }
   ],
   "source": [
    "from sklearn.metrics import accuracy_score\n",
    "accuracy_score(y_test, y_pred)"
   ]
  },
  {
   "cell_type": "code",
   "execution_count": null,
   "metadata": {},
   "outputs": [],
   "source": []
  }
 ],
 "metadata": {
  "accelerator": "GPU",
  "colab": {
   "gpuType": "T4",
   "provenance": []
  },
  "kernelspec": {
   "display_name": "Python 3 (ipykernel)",
   "language": "python",
   "name": "python3"
  },
  "language_info": {
   "codemirror_mode": {
    "name": "ipython",
    "version": 3
   },
   "file_extension": ".py",
   "mimetype": "text/x-python",
   "name": "python",
   "nbconvert_exporter": "python",
   "pygments_lexer": "ipython3",
   "version": "3.10.9"
  }
 },
 "nbformat": 4,
 "nbformat_minor": 4
}

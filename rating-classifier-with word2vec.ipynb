{
 "cells": [
  {
   "cell_type": "markdown",
   "metadata": {
    "tags": []
   },
   "source": [
    "## preparing tokenized data"
   ]
  },
  {
   "cell_type": "code",
   "execution_count": 218,
   "metadata": {
    "id": "z7t5C9cN0oVR"
   },
   "outputs": [],
   "source": [
    "# import libraries\n",
    "import gensim\n",
    "import numpy as np\n",
    "import pandas as pd\n",
    "from sklearn.model_selection import train_test_split\n",
    "from tensorflow.keras.models import Sequential\n",
    "pd.set_option('display.max_colwidth', 80)"
   ]
  },
  {
   "cell_type": "code",
   "execution_count": 2,
   "metadata": {},
   "outputs": [],
   "source": [
    "# read the json file into a dataframe\n",
    "df = pd.read_json('reviews.json', lines=True)\n",
    "data = df[[\"reviewText\", \"overall\", \"summary\"]]"
   ]
  },
  {
   "cell_type": "code",
   "execution_count": 3,
   "metadata": {},
   "outputs": [
    {
     "data": {
      "text/html": [
       "<div>\n",
       "<style scoped>\n",
       "    .dataframe tbody tr th:only-of-type {\n",
       "        vertical-align: middle;\n",
       "    }\n",
       "\n",
       "    .dataframe tbody tr th {\n",
       "        vertical-align: top;\n",
       "    }\n",
       "\n",
       "    .dataframe thead th {\n",
       "        text-align: right;\n",
       "    }\n",
       "</style>\n",
       "<table border=\"1\" class=\"dataframe\">\n",
       "  <thead>\n",
       "    <tr style=\"text-align: right;\">\n",
       "      <th></th>\n",
       "      <th>reviewText</th>\n",
       "      <th>overall</th>\n",
       "      <th>summary</th>\n",
       "    </tr>\n",
       "  </thead>\n",
       "  <tbody>\n",
       "    <tr>\n",
       "      <th>0</th>\n",
       "      <td>This came in on time and I am veru happy with it, I haved used it already an...</td>\n",
       "      <td>5</td>\n",
       "      <td>Woks very good</td>\n",
       "    </tr>\n",
       "    <tr>\n",
       "      <th>1</th>\n",
       "      <td>I had a factory Glock tool that I was using for my Glock 26, 27, and 17.  I'...</td>\n",
       "      <td>5</td>\n",
       "      <td>Works as well as the factory tool</td>\n",
       "    </tr>\n",
       "    <tr>\n",
       "      <th>2</th>\n",
       "      <td>If you don't have a 3/32 punch or would like to have one in your Glock bag, ...</td>\n",
       "      <td>4</td>\n",
       "      <td>It's a punch, that's all.</td>\n",
       "    </tr>\n",
       "    <tr>\n",
       "      <th>3</th>\n",
       "      <td>This works no better than any 3/32 punch you would find at the hardware stor...</td>\n",
       "      <td>4</td>\n",
       "      <td>It's a punch with a Glock logo.</td>\n",
       "    </tr>\n",
       "    <tr>\n",
       "      <th>4</th>\n",
       "      <td>I purchased this thinking maybe I need a special tool to easily pop off my b...</td>\n",
       "      <td>4</td>\n",
       "      <td>Ok,tool does what a regular punch does.</td>\n",
       "    </tr>\n",
       "  </tbody>\n",
       "</table>\n",
       "</div>"
      ],
      "text/plain": [
       "                                                                        reviewText  \\\n",
       "0  This came in on time and I am veru happy with it, I haved used it already an...   \n",
       "1  I had a factory Glock tool that I was using for my Glock 26, 27, and 17.  I'...   \n",
       "2  If you don't have a 3/32 punch or would like to have one in your Glock bag, ...   \n",
       "3  This works no better than any 3/32 punch you would find at the hardware stor...   \n",
       "4  I purchased this thinking maybe I need a special tool to easily pop off my b...   \n",
       "\n",
       "   overall                                  summary  \n",
       "0        5                           Woks very good  \n",
       "1        5        Works as well as the factory tool  \n",
       "2        4                It's a punch, that's all.  \n",
       "3        4          It's a punch with a Glock logo.  \n",
       "4        4  Ok,tool does what a regular punch does.  "
      ]
     },
     "execution_count": 3,
     "metadata": {},
     "output_type": "execute_result"
    }
   ],
   "source": [
    "data.head()"
   ]
  },
  {
   "cell_type": "code",
   "execution_count": 4,
   "metadata": {},
   "outputs": [],
   "source": [
    "# the preprocess_documents function in gensim automatically stem\n",
    "# which is not desired\n",
    "# thus this customized gensim_strip function\n",
    "\n",
    "#from gensim.parsing.preprocessing import preprocess_documents\n",
    "from gensim.parsing.preprocessing import strip_tags\n",
    "from gensim.parsing.preprocessing import strip_short\n",
    "from gensim.parsing.preprocessing import strip_punctuation\n",
    "from gensim.parsing.preprocessing import strip_numeric\n",
    "from gensim.parsing.preprocessing import strip_non_alphanum\n",
    "from gensim.parsing.preprocessing import strip_multiple_whitespaces\n",
    "\n",
    "def gensim_strip(input_data):\n",
    "    input_data = input_data.lower()\n",
    "    input_data = strip_tags(input_data)\n",
    "    input_data = strip_short(input_data, minsize = 3)\n",
    "    input_data = strip_punctuation(input_data)\n",
    "    input_data = strip_numeric(input_data)\n",
    "    input_data = strip_non_alphanum(input_data)\n",
    "    input_data = strip_multiple_whitespaces(input_data)\n",
    "    return input_data"
   ]
  },
  {
   "cell_type": "code",
   "execution_count": 5,
   "metadata": {},
   "outputs": [],
   "source": [
    "import spacy\n",
    "\n",
    "# Initialize spacy 'en' model, keeping only tagger component needed for lemmatization\n",
    "nlp = spacy.load(\"en_core_web_sm\")"
   ]
  },
  {
   "cell_type": "code",
   "execution_count": 6,
   "metadata": {},
   "outputs": [],
   "source": [
    "# preprocess text using strip and lemmatization\n",
    "def tokenvec(line):\n",
    "    line = gensim_strip(line)\n",
    "    doc = nlp(line)\n",
    "    doc = [token.lemma_ for token in doc]\n",
    "    return [token for token in doc if len(token) >= 3]"
   ]
  },
  {
   "cell_type": "code",
   "execution_count": 7,
   "metadata": {},
   "outputs": [
    {
     "name": "stderr",
     "output_type": "stream",
     "text": [
      "/var/folders/7x/mknq0g2s07jdkg8524w7snh40000gn/T/ipykernel_63869/4063547692.py:6: SettingWithCopyWarning: \n",
      "A value is trying to be set on a copy of a slice from a DataFrame.\n",
      "Try using .loc[row_indexer,col_indexer] = value instead\n",
      "\n",
      "See the caveats in the documentation: https://pandas.pydata.org/pandas-docs/stable/user_guide/indexing.html#returning-a-view-versus-a-copy\n",
      "  data['tokenized review'] = reviewText_token\n",
      "/var/folders/7x/mknq0g2s07jdkg8524w7snh40000gn/T/ipykernel_63869/4063547692.py:7: SettingWithCopyWarning: \n",
      "A value is trying to be set on a copy of a slice from a DataFrame.\n",
      "Try using .loc[row_indexer,col_indexer] = value instead\n",
      "\n",
      "See the caveats in the documentation: https://pandas.pydata.org/pandas-docs/stable/user_guide/indexing.html#returning-a-view-versus-a-copy\n",
      "  data['tokenized summary'] = summary_token\n"
     ]
    },
    {
     "data": {
      "text/html": [
       "<div>\n",
       "<style scoped>\n",
       "    .dataframe tbody tr th:only-of-type {\n",
       "        vertical-align: middle;\n",
       "    }\n",
       "\n",
       "    .dataframe tbody tr th {\n",
       "        vertical-align: top;\n",
       "    }\n",
       "\n",
       "    .dataframe thead th {\n",
       "        text-align: right;\n",
       "    }\n",
       "</style>\n",
       "<table border=\"1\" class=\"dataframe\">\n",
       "  <thead>\n",
       "    <tr style=\"text-align: right;\">\n",
       "      <th></th>\n",
       "      <th>reviewText</th>\n",
       "      <th>overall</th>\n",
       "      <th>summary</th>\n",
       "      <th>tokenized review</th>\n",
       "      <th>tokenized summary</th>\n",
       "    </tr>\n",
       "  </thead>\n",
       "  <tbody>\n",
       "    <tr>\n",
       "      <th>0</th>\n",
       "      <td>This came in on time and I am veru happy with it, I haved used it already an...</td>\n",
       "      <td>5</td>\n",
       "      <td>Woks very good</td>\n",
       "      <td>[this, come, time, and, veru, happy, with, have, use, already, and, make, ta...</td>\n",
       "      <td>[wok, very, good]</td>\n",
       "    </tr>\n",
       "    <tr>\n",
       "      <th>1</th>\n",
       "      <td>I had a factory Glock tool that I was using for my Glock 26, 27, and 17.  I'...</td>\n",
       "      <td>5</td>\n",
       "      <td>Works as well as the factory tool</td>\n",
       "      <td>[have, factory, glock, tool, that, use, for, glock, and, since, lose, and, h...</td>\n",
       "      <td>[work, well, the, factory, tool]</td>\n",
       "    </tr>\n",
       "    <tr>\n",
       "      <th>2</th>\n",
       "      <td>If you don't have a 3/32 punch or would like to have one in your Glock bag, ...</td>\n",
       "      <td>4</td>\n",
       "      <td>It's a punch, that's all.</td>\n",
       "      <td>[you, don, have, punch, would, like, have, one, your, glock, bag, this, okay...</td>\n",
       "      <td>[punch, that, all]</td>\n",
       "    </tr>\n",
       "    <tr>\n",
       "      <th>3</th>\n",
       "      <td>This works no better than any 3/32 punch you would find at the hardware stor...</td>\n",
       "      <td>4</td>\n",
       "      <td>It's a punch with a Glock logo.</td>\n",
       "      <td>[this, work, well, than, any, punch, you, would, find, the, hardware, store,...</td>\n",
       "      <td>[punch, with, glock, logo]</td>\n",
       "    </tr>\n",
       "    <tr>\n",
       "      <th>4</th>\n",
       "      <td>I purchased this thinking maybe I need a special tool to easily pop off my b...</td>\n",
       "      <td>4</td>\n",
       "      <td>Ok,tool does what a regular punch does.</td>\n",
       "      <td>[purchase, this, thinking, maybe, need, special, tool, easily, pop, off, bas...</td>\n",
       "      <td>[tool, what, regular, punch]</td>\n",
       "    </tr>\n",
       "  </tbody>\n",
       "</table>\n",
       "</div>"
      ],
      "text/plain": [
       "                                                                        reviewText  \\\n",
       "0  This came in on time and I am veru happy with it, I haved used it already an...   \n",
       "1  I had a factory Glock tool that I was using for my Glock 26, 27, and 17.  I'...   \n",
       "2  If you don't have a 3/32 punch or would like to have one in your Glock bag, ...   \n",
       "3  This works no better than any 3/32 punch you would find at the hardware stor...   \n",
       "4  I purchased this thinking maybe I need a special tool to easily pop off my b...   \n",
       "\n",
       "   overall                                  summary  \\\n",
       "0        5                           Woks very good   \n",
       "1        5        Works as well as the factory tool   \n",
       "2        4                It's a punch, that's all.   \n",
       "3        4          It's a punch with a Glock logo.   \n",
       "4        4  Ok,tool does what a regular punch does.   \n",
       "\n",
       "                                                                  tokenized review  \\\n",
       "0  [this, come, time, and, veru, happy, with, have, use, already, and, make, ta...   \n",
       "1  [have, factory, glock, tool, that, use, for, glock, and, since, lose, and, h...   \n",
       "2  [you, don, have, punch, would, like, have, one, your, glock, bag, this, okay...   \n",
       "3  [this, work, well, than, any, punch, you, would, find, the, hardware, store,...   \n",
       "4  [purchase, this, thinking, maybe, need, special, tool, easily, pop, off, bas...   \n",
       "\n",
       "                  tokenized summary  \n",
       "0                 [wok, very, good]  \n",
       "1  [work, well, the, factory, tool]  \n",
       "2                [punch, that, all]  \n",
       "3        [punch, with, glock, logo]  \n",
       "4      [tool, what, regular, punch]  "
      ]
     },
     "execution_count": 7,
     "metadata": {},
     "output_type": "execute_result"
    }
   ],
   "source": [
    "reviewText_token = []\n",
    "summary_token = []\n",
    "for index, row in data.iterrows():\n",
    "    reviewText_token.append(tokenvec(row['reviewText']))\n",
    "    summary_token.append(tokenvec(row['summary']))\n",
    "data['tokenized review'] = reviewText_token\n",
    "data['tokenized summary'] = summary_token\n",
    "data.head()"
   ]
  },
  {
   "cell_type": "code",
   "execution_count": 8,
   "metadata": {},
   "outputs": [
    {
     "data": {
      "text/html": [
       "<div>\n",
       "<style scoped>\n",
       "    .dataframe tbody tr th:only-of-type {\n",
       "        vertical-align: middle;\n",
       "    }\n",
       "\n",
       "    .dataframe tbody tr th {\n",
       "        vertical-align: top;\n",
       "    }\n",
       "\n",
       "    .dataframe thead th {\n",
       "        text-align: right;\n",
       "    }\n",
       "</style>\n",
       "<table border=\"1\" class=\"dataframe\">\n",
       "  <thead>\n",
       "    <tr style=\"text-align: right;\">\n",
       "      <th></th>\n",
       "      <th>overall</th>\n",
       "      <th>tokenized review</th>\n",
       "      <th>tokenized summary</th>\n",
       "    </tr>\n",
       "  </thead>\n",
       "  <tbody>\n",
       "    <tr>\n",
       "      <th>0</th>\n",
       "      <td>5</td>\n",
       "      <td>[this, come, time, and, veru, happy, with, have, use, already, and, make, ta...</td>\n",
       "      <td>[wok, very, good]</td>\n",
       "    </tr>\n",
       "    <tr>\n",
       "      <th>1</th>\n",
       "      <td>5</td>\n",
       "      <td>[have, factory, glock, tool, that, use, for, glock, and, since, lose, and, h...</td>\n",
       "      <td>[work, well, the, factory, tool]</td>\n",
       "    </tr>\n",
       "    <tr>\n",
       "      <th>2</th>\n",
       "      <td>4</td>\n",
       "      <td>[you, don, have, punch, would, like, have, one, your, glock, bag, this, okay...</td>\n",
       "      <td>[punch, that, all]</td>\n",
       "    </tr>\n",
       "    <tr>\n",
       "      <th>3</th>\n",
       "      <td>4</td>\n",
       "      <td>[this, work, well, than, any, punch, you, would, find, the, hardware, store,...</td>\n",
       "      <td>[punch, with, glock, logo]</td>\n",
       "    </tr>\n",
       "    <tr>\n",
       "      <th>4</th>\n",
       "      <td>4</td>\n",
       "      <td>[purchase, this, thinking, maybe, need, special, tool, easily, pop, off, bas...</td>\n",
       "      <td>[tool, what, regular, punch]</td>\n",
       "    </tr>\n",
       "  </tbody>\n",
       "</table>\n",
       "</div>"
      ],
      "text/plain": [
       "   overall  \\\n",
       "0        5   \n",
       "1        5   \n",
       "2        4   \n",
       "3        4   \n",
       "4        4   \n",
       "\n",
       "                                                                  tokenized review  \\\n",
       "0  [this, come, time, and, veru, happy, with, have, use, already, and, make, ta...   \n",
       "1  [have, factory, glock, tool, that, use, for, glock, and, since, lose, and, h...   \n",
       "2  [you, don, have, punch, would, like, have, one, your, glock, bag, this, okay...   \n",
       "3  [this, work, well, than, any, punch, you, would, find, the, hardware, store,...   \n",
       "4  [purchase, this, thinking, maybe, need, special, tool, easily, pop, off, bas...   \n",
       "\n",
       "                  tokenized summary  \n",
       "0                 [wok, very, good]  \n",
       "1  [work, well, the, factory, tool]  \n",
       "2                [punch, that, all]  \n",
       "3        [punch, with, glock, logo]  \n",
       "4      [tool, what, regular, punch]  "
      ]
     },
     "execution_count": 8,
     "metadata": {},
     "output_type": "execute_result"
    }
   ],
   "source": [
    "df = data[['overall', 'tokenized review', 'tokenized summary']]\n",
    "df.head()"
   ]
  },
  {
   "cell_type": "code",
   "execution_count": 11,
   "metadata": {},
   "outputs": [],
   "source": [
    "# the lemmatizing takes time\n",
    "# so for future convenience,\n",
    "# save the lammatized and stripped reviews and summaries into a csv file\n",
    "import os\n",
    "\n",
    "if not os.path.isfile('./data cleaned.csv'):\n",
    "    reviewtext_str = []\n",
    "    summary_str = []\n",
    "    rating = df['overall']\n",
    "    df_copy = df\n",
    "    for index, row in df.iterrows():\n",
    "        review = \" \".join([token for token in row['tokenized review']])\n",
    "        reviewtext_str.append(review)\n",
    "        summary = \" \".join([token for token in row['tokenized summary']])\n",
    "        summary_str.append(summary)\n",
    "    df_copy['review str'] = reviewtext_str\n",
    "    df_copy['summary str'] = summary_str\n",
    "    df_copy[['overall', 'review str', 'summary str']].to_csv('data cleaned.csv', index = False)"
   ]
  },
  {
   "cell_type": "markdown",
   "metadata": {
    "tags": []
   },
   "source": [
    "## word2vec modeling"
   ]
  },
  {
   "cell_type": "code",
   "execution_count": 12,
   "metadata": {},
   "outputs": [
    {
     "name": "stdout",
     "output_type": "stream",
     "text": [
      "   overall  \\\n",
      "0        5   \n",
      "1        5   \n",
      "2        4   \n",
      "3        4   \n",
      "4        4   \n",
      "\n",
      "                                                                  tokenized review  \\\n",
      "0  [this, come, time, and, veru, happy, with, have, use, already, and, make, ta...   \n",
      "1  [have, factory, glock, tool, that, use, for, glock, and, since, lose, and, h...   \n",
      "2  [you, don, have, punch, would, like, have, one, your, glock, bag, this, okay...   \n",
      "3  [this, work, well, than, any, punch, you, would, find, the, hardware, store,...   \n",
      "4  [purchase, this, thinking, maybe, need, special, tool, easily, pop, off, bas...   \n",
      "\n",
      "                  tokenized summary  \\\n",
      "0                 [wok, very, good]   \n",
      "1  [work, well, the, factory, tool]   \n",
      "2                [punch, that, all]   \n",
      "3        [punch, with, glock, logo]   \n",
      "4      [tool, what, regular, punch]   \n",
      "\n",
      "                                                                        review str  \\\n",
      "0  this come time and veru happy with have use already and make take out the pi...   \n",
      "1  have factory glock tool that use for glock and since lose and have need anot...   \n",
      "2  you don have punch would like have one your glock bag this okay the butt end...   \n",
      "3  this work well than any punch you would find the hardware store actually thi...   \n",
      "4  purchase this thinking maybe need special tool easily pop off base plate for...   \n",
      "\n",
      "                  summary str  \n",
      "0               wok very good  \n",
      "1  work well the factory tool  \n",
      "2              punch that all  \n",
      "3       punch with glock logo  \n",
      "4     tool what regular punch  \n"
     ]
    }
   ],
   "source": [
    "# retrieve data if not exist in the current memory\n",
    "try:\n",
    "    print(df.head())\n",
    "except:\n",
    "    df = pd.read_csv('data cleaned.csv')\n",
    "    r, s = [], []\n",
    "    for index, row in df.iterrows():\n",
    "        r.append(row['review str'].split())\n",
    "        s.append(row['summary str'].split())\n",
    "    df.rename({'review str': 'tokenized review', 'summary str': 'tokenized summary'}, axis='columns')\n",
    "    df['tokenized review'] = r\n",
    "    df['tokenized summary'] = s\n",
    "    df.head()"
   ]
  },
  {
   "cell_type": "code",
   "execution_count": 250,
   "metadata": {},
   "outputs": [],
   "source": [
    "# Split data into train and test sets\n",
    "SEED = 42\n",
    "X_train_review, X_test_review, y_train, y_test = train_test_split(df['tokenized review'].tolist(), \n",
    "                                                                  df['overall'].tolist(),\n",
    "                                                                  test_size=0.2, random_state = SEED)\n",
    "\n",
    "#X_train_summary, X_test_summary, y_train, y_test = train_test_split(df['tokenized summary'].tolist(), \n",
    "#                                                                    df['overall'].tolist(),\n",
    "#                                                                    test_size=0.2, random_state = SEED)"
   ]
  },
  {
   "cell_type": "code",
   "execution_count": 16,
   "metadata": {},
   "outputs": [],
   "source": [
    "# Train the word2vec model based on reviewText\n",
    "w2v_model = gensim.models.Word2Vec(X_train_review,\n",
    "                                   vector_size=100,\n",
    "                                   window=5,\n",
    "                                   min_count=2)"
   ]
  },
  {
   "cell_type": "code",
   "execution_count": 17,
   "metadata": {
    "id": "AlblGeY-5vap"
   },
   "outputs": [
    {
     "data": {
      "text/plain": [
       "['the', 'and', 'for', 'this', 'have', 'you', 'that', 'with', 'but', 'not']"
      ]
     },
     "execution_count": 17,
     "metadata": {},
     "output_type": "execute_result"
    }
   ],
   "source": [
    "w2v_model.wv.index_to_key[:10]"
   ]
  },
  {
   "cell_type": "code",
   "execution_count": 18,
   "metadata": {},
   "outputs": [
    {
     "data": {
      "text/plain": [
       "[('fantastic', 0.840336799621582),\n",
       " ('excellent', 0.7991260290145874),\n",
       " ('awesome', 0.7884966135025024),\n",
       " ('good', 0.7774312496185303),\n",
       " ('wonderful', 0.7198064923286438),\n",
       " ('nice', 0.6559269428253174),\n",
       " ('perfect', 0.6415774822235107),\n",
       " ('terrific', 0.6379780769348145),\n",
       " ('wonderfully', 0.6291117072105408),\n",
       " ('outstanding', 0.6234756708145142)]"
      ]
     },
     "execution_count": 18,
     "metadata": {},
     "output_type": "execute_result"
    }
   ],
   "source": [
    "# Find the most similar words to \"great\" based on word vectors from our trained model\n",
    "w2v_model.wv.most_similar('great')"
   ]
  },
  {
   "cell_type": "code",
   "execution_count": 20,
   "metadata": {},
   "outputs": [
    {
     "name": "stderr",
     "output_type": "stream",
     "text": [
      "/var/folders/7x/mknq0g2s07jdkg8524w7snh40000gn/T/ipykernel_63869/1608238791.py:2: VisibleDeprecationWarning: Creating an ndarray from ragged nested sequences (which is a list-or-tuple of lists-or-tuples-or ndarrays with different lengths or shapes) is deprecated. If you meant to do this, you must specify 'dtype=object' when creating the ndarray.\n",
      "  X_train_vect_review = np.array([np.array([w2v_model.wv[i] for i in ls if i in words])\n",
      "/var/folders/7x/mknq0g2s07jdkg8524w7snh40000gn/T/ipykernel_63869/1608238791.py:4: VisibleDeprecationWarning: Creating an ndarray from ragged nested sequences (which is a list-or-tuple of lists-or-tuples-or ndarrays with different lengths or shapes) is deprecated. If you meant to do this, you must specify 'dtype=object' when creating the ndarray.\n",
      "  X_test_vect_review = np.array([np.array([w2v_model.wv[i] for i in ls if i in words])\n",
      "/var/folders/7x/mknq0g2s07jdkg8524w7snh40000gn/T/ipykernel_63869/1608238791.py:6: VisibleDeprecationWarning: Creating an ndarray from ragged nested sequences (which is a list-or-tuple of lists-or-tuples-or ndarrays with different lengths or shapes) is deprecated. If you meant to do this, you must specify 'dtype=object' when creating the ndarray.\n",
      "  X_train_vect_summary = np.array([np.array([w2v_model.wv[i] for i in ls if i in words])\n",
      "/var/folders/7x/mknq0g2s07jdkg8524w7snh40000gn/T/ipykernel_63869/1608238791.py:8: VisibleDeprecationWarning: Creating an ndarray from ragged nested sequences (which is a list-or-tuple of lists-or-tuples-or ndarrays with different lengths or shapes) is deprecated. If you meant to do this, you must specify 'dtype=object' when creating the ndarray.\n",
      "  X_test_vect_summary = np.array([np.array([w2v_model.wv[i] for i in ls if i in words])\n"
     ]
    }
   ],
   "source": [
    "words = set(w2v_model.wv.index_to_key)\n",
    "X_train_vect_review = np.array([np.array([w2v_model.wv[i] for i in ls if i in words])\n",
    "                         for ls in X_train_review])\n",
    "X_test_vect_review = np.array([np.array([w2v_model.wv[i] for i in ls if i in words])\n",
    "                         for ls in X_test_review])\n",
    "X_train_vect_summary = np.array([np.array([w2v_model.wv[i] for i in ls if i in words])\n",
    "                         for ls in X_train_summary])\n",
    "X_test_vect_summary = np.array([np.array([w2v_model.wv[i] for i in ls if i in words])\n",
    "                         for ls in X_test_summary])"
   ]
  },
  {
   "cell_type": "code",
   "execution_count": 21,
   "metadata": {},
   "outputs": [],
   "source": [
    "# Compute sentence vectors by averaging the word vectors for the words contained in the sentence\n",
    "X_train_vect_avg_review = []\n",
    "for v in X_train_vect_review:\n",
    "    if v.size:\n",
    "        X_train_vect_avg_review.append(v.mean(axis=0))\n",
    "    else:\n",
    "        X_train_vect_avg_review.append(np.zeros(100, dtype=float))\n",
    "        \n",
    "X_test_vect_avg_review = []\n",
    "for v in X_test_vect_review:\n",
    "    if v.size:\n",
    "        X_test_vect_avg_review.append(v.mean(axis=0))\n",
    "    else:\n",
    "        X_test_vect_avg_review.append(np.zeros(100, dtype=float))\n",
    "        \n",
    "X_train_vect_avg_summary = []\n",
    "for v in X_train_vect_summary:\n",
    "    if v.size:\n",
    "        X_train_vect_avg_summary.append(v.mean(axis=0))\n",
    "    else:\n",
    "        X_train_vect_avg_summary.append(np.zeros(100, dtype=float))\n",
    "        \n",
    "X_test_vect_avg_summary = []\n",
    "for v in X_test_vect_summary:\n",
    "    if v.size:\n",
    "        X_test_vect_avg_summary.append(v.mean(axis=0))\n",
    "    else:\n",
    "        X_test_vect_avg_summary.append(np.zeros(100, dtype=float))"
   ]
  },
  {
   "cell_type": "code",
   "execution_count": 22,
   "metadata": {},
   "outputs": [
    {
     "name": "stdout",
     "output_type": "stream",
     "text": [
      "28 100\n",
      "144 100\n",
      "68 100\n",
      "20 100\n",
      "30 100\n"
     ]
    }
   ],
   "source": [
    "for i in range(5):\n",
    "    print(len(X_train_vect_review[i]), len(X_train_vect_avg_review[i]))"
   ]
  },
  {
   "cell_type": "markdown",
   "metadata": {
    "jp-MarkdownHeadingCollapsed": true,
    "tags": []
   },
   "source": [
    "## random forest to see if there is a difference between review text and summary"
   ]
  },
  {
   "cell_type": "code",
   "execution_count": 26,
   "metadata": {},
   "outputs": [],
   "source": [
    "# Instantiate and fit a basic Random Forest model on top of the vectors\n",
    "from sklearn.ensemble import RandomForestClassifier\n",
    "rf = RandomForestClassifier()\n",
    "rf_model = rf.fit(X_train_vect_avg_review, y_train)"
   ]
  },
  {
   "cell_type": "code",
   "execution_count": 27,
   "metadata": {},
   "outputs": [],
   "source": [
    "# Use the trained model to make predictions on the test data\n",
    "y_pred = rf_model.predict(X_test_vect_avg_review)"
   ]
  },
  {
   "cell_type": "code",
   "execution_count": 28,
   "metadata": {},
   "outputs": [
    {
     "data": {
      "text/plain": [
       "array([5, 5, 5, 5, 5, 5, 5, 5, 3, 5, 5, 5, 5, 5, 5, 5, 5, 5, 5, 5])"
      ]
     },
     "execution_count": 28,
     "metadata": {},
     "output_type": "execute_result"
    }
   ],
   "source": [
    "y_pred[:20]"
   ]
  },
  {
   "cell_type": "code",
   "execution_count": 29,
   "metadata": {},
   "outputs": [
    {
     "data": {
      "text/plain": [
       "0.6498953904299116"
      ]
     },
     "execution_count": 29,
     "metadata": {},
     "output_type": "execute_result"
    }
   ],
   "source": [
    "from sklearn.metrics import accuracy_score\n",
    "accuracy_score(y_test, y_pred)"
   ]
  },
  {
   "cell_type": "code",
   "execution_count": 30,
   "metadata": {},
   "outputs": [],
   "source": [
    "# Use the trained model to make predictions on the test data\n",
    "y_pred_s = rf_model.predict(X_test_vect_avg_summary)"
   ]
  },
  {
   "cell_type": "code",
   "execution_count": 31,
   "metadata": {},
   "outputs": [
    {
     "data": {
      "text/plain": [
       "0.5809543092393872"
      ]
     },
     "execution_count": 31,
     "metadata": {},
     "output_type": "execute_result"
    }
   ],
   "source": [
    "accuracy_score(y_test, y_pred_s)"
   ]
  },
  {
   "cell_type": "markdown",
   "metadata": {},
   "source": [
    "Therefore we will proceeed whith the vecs from the review text."
   ]
  },
  {
   "cell_type": "markdown",
   "metadata": {},
   "source": [
    "## classification using neural net"
   ]
  },
  {
   "cell_type": "code",
   "execution_count": 81,
   "metadata": {},
   "outputs": [],
   "source": [
    "import tensorflow as tf\n",
    "from tensorflow.keras import layers\n",
    "from tensorflow.keras import losses\n",
    "from sklearn.model_selection import train_test_split"
   ]
  },
  {
   "cell_type": "code",
   "execution_count": 251,
   "metadata": {},
   "outputs": [],
   "source": [
    "# split the validation set from the test data\n",
    "X_train, X_val, y_train, y_val = train_test_split(X_train_vect_avg_review, y_train, \n",
    "                                                  test_size=0.15, \n",
    "                                                  shuffle=True,\n",
    "                                                 random_state = SEED)"
   ]
  },
  {
   "cell_type": "code",
   "execution_count": 252,
   "metadata": {},
   "outputs": [],
   "source": [
    "y_train = [x - 1 for x in y_train]\n",
    "y_val = [x - 1 for x in y_val]\n",
    "y_test = [x - 1 for x in y_test]"
   ]
  },
  {
   "cell_type": "code",
   "execution_count": 253,
   "metadata": {},
   "outputs": [
    {
     "name": "stderr",
     "output_type": "stream",
     "text": [
      "2024-02-28 10:46:11.981840: W tensorflow/core/kernels/data/cache_dataset_ops.cc:858] The calling iterator did not fully read the dataset being cached. In order to avoid unexpected truncation of the dataset, the partially cached contents of the dataset  will be discarded. This can happen if you have an input pipeline similar to `dataset.cache().take(k).repeat()`. You should use `dataset.take(k).cache().repeat()` instead.\n"
     ]
    }
   ],
   "source": [
    "# prepare data for keras\n",
    "train = tf.data.Dataset.from_tensor_slices((X_train, y_train))\n",
    "val = tf.data.Dataset.from_tensor_slices((X_val, y_val))\n",
    "test = tf.data.Dataset.from_tensor_slices((X_test_vect_avg_review, y_test))"
   ]
  },
  {
   "cell_type": "code",
   "execution_count": 254,
   "metadata": {},
   "outputs": [
    {
     "data": {
      "text/plain": [
       "<_TensorSliceDataset element_spec=(TensorSpec(shape=(100,), dtype=tf.float32, name=None), TensorSpec(shape=(), dtype=tf.int32, name=None))>"
      ]
     },
     "execution_count": 254,
     "metadata": {},
     "output_type": "execute_result"
    }
   ],
   "source": [
    "train"
   ]
  },
  {
   "cell_type": "code",
   "execution_count": 255,
   "metadata": {},
   "outputs": [],
   "source": [
    "train = train.batch(32)\n",
    "val = val.batch(32)"
   ]
  },
  {
   "cell_type": "code",
   "execution_count": 256,
   "metadata": {},
   "outputs": [],
   "source": [
    "AUTOTUNE = tf.data.AUTOTUNE\n",
    "#BATCH_SIZE = 32\n",
    "train = train.cache().prefetch(buffer_size=AUTOTUNE)\n",
    "val = val.cache().prefetch(buffer_size=AUTOTUNE)\n",
    "test = test.cache().prefetch(buffer_size=AUTOTUNE)"
   ]
  },
  {
   "cell_type": "code",
   "execution_count": 257,
   "metadata": {},
   "outputs": [
    {
     "name": "stdout",
     "output_type": "stream",
     "text": [
      "Model: \"sequential_27\"\n",
      "_________________________________________________________________\n",
      " Layer (type)                Output Shape              Param #   \n",
      "=================================================================\n",
      " dense_50 (Dense)            (None, 64)                6464      \n",
      "                                                                 \n",
      " dropout_52 (Dropout)        (None, 64)                0         \n",
      "                                                                 \n",
      " dense_51 (Dense)            (None, 32)                2080      \n",
      "                                                                 \n",
      " dropout_53 (Dropout)        (None, 32)                0         \n",
      "                                                                 \n",
      " dense_52 (Dense)            (None, 5)                 165       \n",
      "                                                                 \n",
      "=================================================================\n",
      "Total params: 8709 (34.02 KB)\n",
      "Trainable params: 8709 (34.02 KB)\n",
      "Non-trainable params: 0 (0.00 Byte)\n",
      "_________________________________________________________________\n"
     ]
    }
   ],
   "source": [
    "#define our model\n",
    "\n",
    "model = Sequential()\n",
    "model.add(layers.Dense(64, input_shape=(100,), activation='softmax'))\n",
    "model.add(layers.Dropout(0.3))\n",
    "model.add(layers.Dense(32, activation='softmax'))\n",
    "model.add(layers.Dropout(0.2))\n",
    "model.add(layers.Dense(5, activation='sigmoid'))\n",
    "\n",
    "#model.build((32, 100))\n",
    "model.summary()"
   ]
  },
  {
   "cell_type": "code",
   "execution_count": 258,
   "metadata": {},
   "outputs": [],
   "source": [
    "model.compile(loss=\"sparse_categorical_crossentropy\",optimizer='adam',\n",
    "              metrics=['accuracy'])"
   ]
  },
  {
   "cell_type": "code",
   "execution_count": 260,
   "metadata": {},
   "outputs": [
    {
     "name": "stdout",
     "output_type": "stream",
     "text": [
      "Epoch 1/20\n",
      "6298/6298 [==============================] - 4s 620us/step - loss: 0.8926 - accuracy: 0.6493 - val_loss: 0.8706 - val_accuracy: 0.6563\n",
      "Epoch 2/20\n",
      "6298/6298 [==============================] - 4s 614us/step - loss: 0.8879 - accuracy: 0.6516 - val_loss: 0.8668 - val_accuracy: 0.6582\n",
      "Epoch 3/20\n",
      "6298/6298 [==============================] - 4s 623us/step - loss: 0.8854 - accuracy: 0.6518 - val_loss: 0.8643 - val_accuracy: 0.6589\n",
      "Epoch 4/20\n",
      "6298/6298 [==============================] - 4s 621us/step - loss: 0.8833 - accuracy: 0.6523 - val_loss: 0.8627 - val_accuracy: 0.6599\n",
      "Epoch 5/20\n",
      "6298/6298 [==============================] - 4s 612us/step - loss: 0.8806 - accuracy: 0.6528 - val_loss: 0.8600 - val_accuracy: 0.6606\n",
      "Epoch 6/20\n",
      "6298/6298 [==============================] - 4s 614us/step - loss: 0.8777 - accuracy: 0.6542 - val_loss: 0.8583 - val_accuracy: 0.6615\n",
      "Epoch 7/20\n",
      "6298/6298 [==============================] - 4s 619us/step - loss: 0.8748 - accuracy: 0.6549 - val_loss: 0.8561 - val_accuracy: 0.6612\n",
      "Epoch 8/20\n",
      "6298/6298 [==============================] - 4s 615us/step - loss: 0.8732 - accuracy: 0.6552 - val_loss: 0.8549 - val_accuracy: 0.6625\n",
      "Epoch 9/20\n",
      "6298/6298 [==============================] - 4s 625us/step - loss: 0.8717 - accuracy: 0.6552 - val_loss: 0.8546 - val_accuracy: 0.6619\n"
     ]
    }
   ],
   "source": [
    "#start training\n",
    "epochs = 20\n",
    "\n",
    "checkpoint_filepath = './checkpoint.model2.keras'\n",
    "model_checkpoint_callback = tf.keras.callbacks.ModelCheckpoint(\n",
    "    filepath=checkpoint_filepath,\n",
    "    monitor='val_accuracy',\n",
    "    mode='max',\n",
    "    save_best_only=True)\n",
    "\n",
    "earlystop_callback = tf.keras.callbacks.EarlyStopping(monitor='val_loss', min_delta=0.001, patience=1)\n",
    "\n",
    "history = model.fit(\n",
    "    train,\n",
    "    validation_data=val,\n",
    "    epochs=epochs,\n",
    "    batch_size=32,\n",
    "    callbacks=[model_checkpoint_callback, earlystop_callback])"
   ]
  },
  {
   "cell_type": "markdown",
   "metadata": {},
   "source": [
    "## evaluate model perfomance"
   ]
  },
  {
   "cell_type": "code",
   "execution_count": 263,
   "metadata": {},
   "outputs": [],
   "source": [
    "test = test.batch(32)"
   ]
  },
  {
   "cell_type": "code",
   "execution_count": 264,
   "metadata": {},
   "outputs": [
    {
     "name": "stdout",
     "output_type": "stream",
     "text": [
      "1853/1853 [==============================] - 1s 403us/step - loss: 0.8542 - accuracy: 0.6632\n",
      "Loss:  0.8541759848594666\n",
      "Accuracy:  0.6632415652275085\n"
     ]
    }
   ],
   "source": [
    "loss, accuracy = model.evaluate(test)\n",
    "\n",
    "print(\"Loss: \", loss)\n",
    "print(\"Accuracy: \", accuracy)"
   ]
  },
  {
   "cell_type": "code",
   "execution_count": 265,
   "metadata": {},
   "outputs": [
    {
     "data": {
      "text/plain": [
       "dict_keys(['loss', 'accuracy', 'val_loss', 'val_accuracy'])"
      ]
     },
     "execution_count": 265,
     "metadata": {},
     "output_type": "execute_result"
    }
   ],
   "source": [
    "history_dict = history.history\n",
    "history_dict.keys()"
   ]
  },
  {
   "cell_type": "code",
   "execution_count": 266,
   "metadata": {},
   "outputs": [
    {
     "data": {
      "image/png": "[encoded data removed]",
      "text/plain": [
       "<Figure size 640x480 with 1 Axes>"
      ]
     },
     "metadata": {},
     "output_type": "display_data"
    }
   ],
   "source": [
    "import matplotlib.pyplot as plt\n",
    "\n",
    "acc = history_dict['accuracy']\n",
    "val_acc = history_dict['val_accuracy']\n",
    "loss = history_dict['loss']\n",
    "val_loss = history_dict['val_loss']\n",
    "\n",
    "epochs = range(1, len(acc) + 1)\n",
    "\n",
    "# \"bo\" is for \"blue dot\"\n",
    "plt.plot(epochs, loss, 'bo', label='Training loss')\n",
    "# b is for \"solid blue line\"\n",
    "plt.plot(epochs, val_loss, 'b', label='Validation loss')\n",
    "plt.title('Training and validation loss')\n",
    "plt.xlabel('Epochs')\n",
    "plt.ylabel('Loss')\n",
    "plt.legend()\n",
    "\n",
    "plt.show()"
   ]
  },
  {
   "cell_type": "code",
   "execution_count": 267,
   "metadata": {},
   "outputs": [
    {
     "data": {
      "image/png": "[encoded data removed]",
      "text/plain": [
       "<Figure size 640x480 with 1 Axes>"
      ]
     },
     "metadata": {},
     "output_type": "display_data"
    }
   ],
   "source": [
    "plt.plot(epochs, acc, 'bo', label='Training acc')\n",
    "plt.plot(epochs, val_acc, 'b', label='Validation acc')\n",
    "plt.title('Training and validation accuracy')\n",
    "plt.xlabel('Epochs')\n",
    "plt.ylabel('Accuracy')\n",
    "plt.legend(loc='lower right')\n",
    "\n",
    "plt.show()"
   ]
  },
  {
   "cell_type": "code",
   "execution_count": 269,
   "metadata": {},
   "outputs": [
    {
     "name": "stdout",
     "output_type": "stream",
     "text": [
      "1853/1853 [==============================] - 1s 381us/step - loss: 1.3050 - accuracy: 0.6632\n",
      "0.6632415652275085\n"
     ]
    }
   ],
   "source": [
    "export_model = tf.keras.Sequential([\n",
    "  model,\n",
    "  layers.Activation('softmax')\n",
    "])\n",
    "\n",
    "export_model.compile(\n",
    "    loss=\"sparse_categorical_crossentropy\", optimizer=\"adam\", metrics=['accuracy']\n",
    ")\n",
    "\n",
    "# Test it with `raw_test_ds`, which yields raw strings\n",
    "loss, accuracy = export_model.evaluate(test)\n",
    "print(accuracy)"
   ]
  },
  {
   "cell_type": "code",
   "execution_count": null,
   "metadata": {},
   "outputs": [],
   "source": []
  }
 ],
 "metadata": {
  "accelerator": "GPU",
  "colab": {
   "gpuType": "T4",
   "provenance": []
  },
  "kernelspec": {
   "display_name": "Python 3 (ipykernel)",
   "language": "python",
   "name": "python3"
  },
  "language_info": {
   "codemirror_mode": {
    "name": "ipython",
    "version": 3
   },
   "file_extension": ".py",
   "mimetype": "text/x-python",
   "name": "python",
   "nbconvert_exporter": "python",
   "pygments_lexer": "ipython3",
   "version": "3.10.9"
  }
 },
 "nbformat": 4,
 "nbformat_minor": 4
}

{
  "nbformat": 4,
  "nbformat_minor": 0,
  "metadata": {
    "colab": {
      "provenance": [],
      "authorship_tag": "ABX9TyO8pO+0Z5TnTO2VPoc19DLV",
      "include_colab_link": true
    },
    "kernelspec": {
      "name": "python3",
      "display_name": "Python 3"
    },
    "language_info": {
      "name": "python"
    }
  },
  "cells": [
    {
      "cell_type": "markdown",
      "metadata": {
        "id": "view-in-github",
        "colab_type": "text"
      },
      "source": [
        "<a href=\"https://colab.research.google.com/github/KilluJ/nlp-projects/blob/main/Rating%20Classifier%20(tryna%20address%20overfitting).ipynb\" target=\"_parent\"><img src=\"https://colab.research.google.com/assets/colab-badge.svg\" alt=\"Open In Colab\"/></a>"
      ]
    },
    {
      "cell_type": "code",
      "execution_count": 3,
      "metadata": {
        "id": "_UKlJdNitupi"
      },
      "outputs": [],
      "source": [
        "#preprocess the .json file\n",
        "import pandas as pd\n",
        "\n",
        "df = pd.read_json('reviews.json', lines=True)\n",
        "data = df[[\"reviewText\", \"overall\"]]\n",
        "\n",
        "#equally split the train set and the test set\n",
        "train, test = data[:len(data)//2], data[len(data)//2:]\n"
      ]
    },
    {
      "cell_type": "code",
      "source": [
        "import matplotlib.pyplot as plt\n",
        "import os\n",
        "import re\n",
        "import shutil\n",
        "import string\n",
        "import tensorflow as tf\n",
        "from gensim.parsing.preprocessing import remove_stopwords\n",
        "import nltk\n",
        "from nltk.stem import WordNetLemmatizer\n",
        "\n",
        "from tensorflow.keras import layers\n",
        "from tensorflow.keras import losses\n",
        "\n",
        "#lemmatize and removing stop words\n",
        "from nltk.corpus import stopwords\n",
        "from nltk.tokenize import word_tokenize\n",
        "\n",
        "nltk.download('stopwords')\n",
        "nltk.download('punkt')\n",
        "nltk.download('wordnet')\n",
        "nltk.download('omw-1.4')\n",
        "\n",
        "lemmatizer = WordNetLemmatizer()\n",
        "stop_words = set(stopwords.words('english'))\n",
        "def lemma_n_stopwords(sentence):\n",
        "    word_list = nltk.word_tokenize(sentence)\n",
        "    filtered_sentence = []\n",
        "    for w in word_list:\n",
        "        if w not in stop_words:\n",
        "            filtered_sentence.append(w)\n",
        "    lemmatized_output = ' '.join([lemmatizer.lemmatize(w) for w in filtered_sentence])\n",
        "    return lemmatized_output"
      ],
      "metadata": {
        "colab": {
          "base_uri": "https://localhost:8080/"
        },
        "id": "r20QNmOdvH4L",
        "outputId": "1d3dca7a-ab11-4587-ade3-68a33ea51964"
      },
      "execution_count": 4,
      "outputs": [
        {
          "output_type": "stream",
          "name": "stderr",
          "text": [
            "[nltk_data] Downloading package stopwords to /root/nltk_data...\n",
            "[nltk_data]   Package stopwords is already up-to-date!\n",
            "[nltk_data] Downloading package punkt to /root/nltk_data...\n",
            "[nltk_data]   Package punkt is already up-to-date!\n",
            "[nltk_data] Downloading package wordnet to /root/nltk_data...\n",
            "[nltk_data]   Package wordnet is already up-to-date!\n",
            "[nltk_data] Downloading package omw-1.4 to /root/nltk_data...\n",
            "[nltk_data]   Package omw-1.4 is already up-to-date!\n"
          ]
        }
      ]
    },
    {
      "cell_type": "code",
      "source": [
        "#make new directory to store .text files for each review under each rating group\n",
        "train_dir, test_dir = './train', './test'\n",
        "os.mkdir(train_dir)\n",
        "os.mkdir(test_dir)\n",
        "\n",
        "#make new directory for each rating group\n",
        "for k in set(train[\"overall\"]):\n",
        "    os.mkdir(os.path.join(train_dir, str(k)))\n",
        "    os.mkdir(os.path.join(test_dir, str(k)))\n",
        "\n",
        "#convert each review to a .text file for training set\n",
        "for index, row in train.iterrows():\n",
        "    curdir = os.path.join(train_dir, str(row['overall']))\n",
        "    curname = str(row['overall']) + str(index) + '.txt'\n",
        "    f = open(os.path.join(curdir, curname), 'w', encoding='utf-8')\n",
        "    f.write(row['reviewText'])\n",
        "    #f.write(lemma_n_stopwords(row['reviewText']))\n",
        "    f.close()\n",
        "\n",
        "#convert each review to a .text file for testing set\n",
        "for index, row in test.iterrows():\n",
        "    curdir = os.path.join(test_dir, str(row['overall']))\n",
        "    curname = str(row['overall']) + str(index) + '.txt'\n",
        "    f = open(os.path.join(curdir, curname), 'w', encoding='utf-8')\n",
        "    f.write(row['reviewText'])\n",
        "    #f.write(lemma_n_stopwords(row['reviewText']))\n",
        "    f.close()"
      ],
      "metadata": {
        "id": "WOQjL7mkuWha"
      },
      "execution_count": 5,
      "outputs": []
    },
    {
      "cell_type": "code",
      "source": [
        "#check for a random review rated 1/5\n",
        "sample_file = os.path.join(train_dir, '1/1100261.txt')\n",
        "with open(sample_file) as f:\n",
        "    print(f.read())"
      ],
      "metadata": {
        "colab": {
          "base_uri": "https://localhost:8080/"
        },
        "id": "NSPpNRbKufu2",
        "outputId": "2a09b412-9d6f-4146-a65e-d76b5f8cd75c"
      },
      "execution_count": 6,
      "outputs": [
        {
          "output_type": "stream",
          "name": "stdout",
          "text": [
            "Maybe this works for schrader valves and beach balls, but it is utterly useless for presta valves. After 30 frustrating minutes of trying to air up a tube on my bike, I returned it to the store, bought a Giant Control Tower T1 pump at my local bike shop, and I was back in business.\n"
          ]
        }
      ]
    },
    {
      "cell_type": "code",
      "source": [
        "#preparing input for training set\n",
        "batch_size = 32\n",
        "seed = 42\n",
        "\n",
        "raw_train_ds = tf.keras.utils.text_dataset_from_directory(\n",
        "    './train',\n",
        "    batch_size=batch_size,\n",
        "    validation_split=0.2,\n",
        "    subset='training',\n",
        "    seed=seed)"
      ],
      "metadata": {
        "colab": {
          "base_uri": "https://localhost:8080/"
        },
        "id": "SBhv0D1iulvE",
        "outputId": "de32bec6-0fbd-4cfb-e990-727e052ea16d"
      },
      "execution_count": 16,
      "outputs": [
        {
          "output_type": "stream",
          "name": "stdout",
          "text": [
            "Found 148168 files belonging to 5 classes.\n",
            "Using 118535 files for training.\n"
          ]
        }
      ]
    },
    {
      "cell_type": "code",
      "source": [
        "for text_batch, label_batch in raw_train_ds.take(1):\n",
        "    for i in range(3):\n",
        "        print(\"Review\", text_batch.numpy()[i])\n",
        "        print(\"Label\", label_batch.numpy()[i])"
      ],
      "metadata": {
        "colab": {
          "base_uri": "https://localhost:8080/"
        },
        "id": "zPn5bMqauoUY",
        "outputId": "e7247ff2-4169-4a2f-ad7b-439ca7329451"
      },
      "execution_count": 8,
      "outputs": [
        {
          "output_type": "stream",
          "name": "stdout",
          "text": [
            "Review b\"It works.  I personally like having the wire brush part separate from the rope as opposed to the other rope cleaner that has them combined (although I haven't ever tried the other one so don't take me too seriously).  This thing is easy to use and seems like it should be gentle on the gun.  I have only used it a couple of times so far so reliability is TBD (seems like the pull cord could separate from the fat rope cleaner over time).\"\n",
            "Label 4\n",
            "Review b'Breathe good and very comfortable. Im between a small and medium, these fit good. Great for warm weather. . .'\n",
            "Label 3\n",
            "Review b\"I purchased the X-Large size and a Small size.  I got the small one to use for quick clean ups, or as a towel to pat dry my face etc, and the large one for showering AND for to use as a blanket while on an airplane.  I always use the airline's blankets, but since some started charging and they may not be that sanitary, I plan to use the Sea to Summit X-Large size one as a blanket.  I love how they pack away easily too.  I haven't used it as a towel yet, so I'm not sure how absorbent they are.  But, I love how big the X-Large one is, and not just for using as a blanket, but how it can cover your entire body after showering.\"\n",
            "Label 4\n"
          ]
        }
      ]
    },
    {
      "cell_type": "code",
      "source": [
        "raw_val_ds = tf.keras.utils.text_dataset_from_directory(\n",
        "    './train',\n",
        "    batch_size=batch_size,\n",
        "    validation_split=0.2,\n",
        "    subset='validation',\n",
        "    seed=seed)"
      ],
      "metadata": {
        "colab": {
          "base_uri": "https://localhost:8080/"
        },
        "id": "c4zWaFrFuusb",
        "outputId": "6d6c2e2a-e20b-4c9c-f39f-f6618f24ad55"
      },
      "execution_count": 17,
      "outputs": [
        {
          "output_type": "stream",
          "name": "stdout",
          "text": [
            "Found 148168 files belonging to 5 classes.\n",
            "Using 29633 files for validation.\n"
          ]
        }
      ]
    },
    {
      "cell_type": "code",
      "source": [
        "raw_test_ds = tf.keras.utils.text_dataset_from_directory(\n",
        "    './test',\n",
        "    batch_size=batch_size)"
      ],
      "metadata": {
        "colab": {
          "base_uri": "https://localhost:8080/"
        },
        "id": "1qpl1QiXvZ82",
        "outputId": "971b6939-5b7b-40e4-8eca-7db47f4fcb10"
      },
      "execution_count": 18,
      "outputs": [
        {
          "output_type": "stream",
          "name": "stdout",
          "text": [
            "Found 148169 files belonging to 5 classes.\n"
          ]
        }
      ]
    },
    {
      "cell_type": "code",
      "source": [
        "def custom_standardization(input_data):\n",
        "    lowercase = tf.strings.lower(input_data)\n",
        "    stripped_html = tf.strings.regex_replace(lowercase, '<br />', ' ')\n",
        "    return tf.strings.regex_replace(stripped_html, '[%s]' % re.escape(string.punctuation),'')\n",
        "\n",
        "#vectorize the input\n",
        "max_features = 10000\n",
        "sequence_length = 250\n",
        "vectorize_layer = layers.TextVectorization(\n",
        "    standardize=custom_standardization,\n",
        "    max_tokens=max_features,\n",
        "    output_mode='int',\n",
        "    output_sequence_length=sequence_length)"
      ],
      "metadata": {
        "id": "2UzMmJjbvdsh"
      },
      "execution_count": 11,
      "outputs": []
    },
    {
      "cell_type": "code",
      "source": [
        "# Make a text-only dataset (without labels), then call adapt\n",
        "train_text = raw_train_ds.map(lambda x, y: x)\n",
        "vectorize_layer.adapt(train_text)\n",
        "def vectorize_text(text, label):\n",
        "    text = tf.expand_dims(text, -1)\n",
        "    return vectorize_layer(text), label\n"
      ],
      "metadata": {
        "id": "ebuXS1HEvjOx"
      },
      "execution_count": 12,
      "outputs": []
    },
    {
      "cell_type": "code",
      "source": [
        "# retrieve a batch (of 32 reviews and labels) from the dataset\n",
        "text_batch, label_batch = next(iter(raw_train_ds))\n",
        "first_review, first_label = text_batch[0], label_batch[0]\n",
        "print(\"Review\", first_review)\n",
        "print(\"Label\", raw_train_ds.class_names[first_label])\n",
        "print(\"Vectorized review\", vectorize_text(first_review, first_label))"
      ],
      "metadata": {
        "colab": {
          "base_uri": "https://localhost:8080/"
        },
        "id": "E-x8wTxXvwGz",
        "outputId": "c55cbfba-f05a-40c8-84f4-b5be4e25a864"
      },
      "execution_count": 13,
      "outputs": [
        {
          "output_type": "stream",
          "name": "stdout",
          "text": [
            "Review tf.Tensor(b'These targets take a beating and keep on going.  I have shot 9mm, .40, .45acp, .44mag, 7.62x39 and .308..... No problems.  This is a good to great item, we as a family shoot and its a great way to add a little fun to our family time.. just wish shells were cheaper.. im just glad this unit is and was sold as said.  I foresee lot more good time in the future', shape=(), dtype=string)\n",
            "Label 5\n",
            "Vectorized review (<tf.Tensor: shape=(1, 250), dtype=int64, numpy=\n",
            "array([[  32,  820,  147,    3, 2535,    4,  124,   14,  171,    5,   19,\n",
            "         480,  963,  642, 5061,    1, 6493,    4, 2277,   57,  363,   11,\n",
            "           8,    3,   37,    6,   33,  254,  137,   21,    3,  997,  459,\n",
            "           4,   26,    3,   33,  118,    6,  426,    3,   62,  563,    6,\n",
            "         303,  997,   72,   35,  377, 1002,  129,  622,   91,   35,  687,\n",
            "          11,  506,    8,    4,   23, 1163,   21,  315,    5, 8416,  146,\n",
            "          49,   37,   72,   12,    2, 1184,    0,    0,    0,    0,    0,\n",
            "           0,    0,    0,    0,    0,    0,    0,    0,    0,    0,    0,\n",
            "           0,    0,    0,    0,    0,    0,    0,    0,    0,    0,    0,\n",
            "           0,    0,    0,    0,    0,    0,    0,    0,    0,    0,    0,\n",
            "           0,    0,    0,    0,    0,    0,    0,    0,    0,    0,    0,\n",
            "           0,    0,    0,    0,    0,    0,    0,    0,    0,    0,    0,\n",
            "           0,    0,    0,    0,    0,    0,    0,    0,    0,    0,    0,\n",
            "           0,    0,    0,    0,    0,    0,    0,    0,    0,    0,    0,\n",
            "           0,    0,    0,    0,    0,    0,    0,    0,    0,    0,    0,\n",
            "           0,    0,    0,    0,    0,    0,    0,    0,    0,    0,    0,\n",
            "           0,    0,    0,    0,    0,    0,    0,    0,    0,    0,    0,\n",
            "           0,    0,    0,    0,    0,    0,    0,    0,    0,    0,    0,\n",
            "           0,    0,    0,    0,    0,    0,    0,    0,    0,    0,    0,\n",
            "           0,    0,    0,    0,    0,    0,    0,    0,    0,    0,    0,\n",
            "           0,    0,    0,    0,    0,    0,    0,    0,    0,    0,    0,\n",
            "           0,    0,    0,    0,    0,    0,    0,    0,    0,    0,    0,\n",
            "           0,    0,    0,    0,    0,    0,    0,    0]])>, <tf.Tensor: shape=(), dtype=int32, numpy=4>)\n"
          ]
        }
      ]
    },
    {
      "cell_type": "code",
      "source": [
        "print(\"2535 ---> \",vectorize_layer.get_vocabulary()[2535])\n",
        "print(\"124 ---> \",vectorize_layer.get_vocabulary()[124])\n",
        "print('Vocabulary size: {}'.format(len(vectorize_layer.get_vocabulary())))"
      ],
      "metadata": {
        "colab": {
          "base_uri": "https://localhost:8080/"
        },
        "id": "KynpaBzxvwmc",
        "outputId": "26399eaa-ffb1-4708-a0fe-37f52c85f154"
      },
      "execution_count": 14,
      "outputs": [
        {
          "output_type": "stream",
          "name": "stdout",
          "text": [
            "2535 --->  beating\n",
            "124 --->  keep\n",
            "Vocabulary size: 10000\n"
          ]
        }
      ]
    },
    {
      "cell_type": "code",
      "source": [
        "#do the final vectorization for each data group\n",
        "train_ds = raw_train_ds.map(vectorize_text)\n",
        "val_ds = raw_val_ds.map(vectorize_text)\n",
        "test_ds = raw_test_ds.map(vectorize_text)"
      ],
      "metadata": {
        "id": "uLb0YWWZvyp8"
      },
      "execution_count": 19,
      "outputs": []
    },
    {
      "cell_type": "code",
      "source": [
        "AUTOTUNE = tf.data.AUTOTUNE\n",
        "\n",
        "train_ds = train_ds.cache().prefetch(buffer_size=AUTOTUNE)\n",
        "val_ds = val_ds.cache().prefetch(buffer_size=AUTOTUNE)\n",
        "test_ds = test_ds.cache().prefetch(buffer_size=AUTOTUNE)"
      ],
      "metadata": {
        "id": "0bmjNkfsv0eL"
      },
      "execution_count": 20,
      "outputs": []
    },
    {
      "cell_type": "code",
      "source": [
        "#define our model\n",
        "embedding_dim = 16\n",
        "model = tf.keras.Sequential([\n",
        "  layers.Embedding(max_features, embedding_dim),\n",
        "  layers.Dropout(0.3),\n",
        "  layers.GlobalAveragePooling1D(),\n",
        "  layers.Dropout(0.2),\n",
        "  layers.Dense(5, activation='softmax')])\n",
        "\n",
        "model.summary()"
      ],
      "metadata": {
        "colab": {
          "base_uri": "https://localhost:8080/"
        },
        "id": "43i6HPdVv2rD",
        "outputId": "64bb8b2b-4a1d-43ee-f6d4-923e03baab35"
      },
      "execution_count": 21,
      "outputs": [
        {
          "output_type": "stream",
          "name": "stdout",
          "text": [
            "Model: \"sequential\"\n",
            "_________________________________________________________________\n",
            " Layer (type)                Output Shape              Param #   \n",
            "=================================================================\n",
            " embedding (Embedding)       (None, None, 16)          160000    \n",
            "                                                                 \n",
            " dropout (Dropout)           (None, None, 16)          0         \n",
            "                                                                 \n",
            " global_average_pooling1d (  (None, 16)                0         \n",
            " GlobalAveragePooling1D)                                         \n",
            "                                                                 \n",
            " dropout_1 (Dropout)         (None, 16)                0         \n",
            "                                                                 \n",
            " dense (Dense)               (None, 5)                 85        \n",
            "                                                                 \n",
            "=================================================================\n",
            "Total params: 160085 (625.33 KB)\n",
            "Trainable params: 160085 (625.33 KB)\n",
            "Non-trainable params: 0 (0.00 Byte)\n",
            "_________________________________________________________________\n"
          ]
        }
      ]
    },
    {
      "cell_type": "code",
      "source": [
        "model.compile(loss=\"sparse_categorical_crossentropy\",optimizer='adam',\n",
        "              metrics=['accuracy'])"
      ],
      "metadata": {
        "id": "mfeRpEgjv4jM"
      },
      "execution_count": 22,
      "outputs": []
    },
    {
      "cell_type": "code",
      "source": [
        "#start training\n",
        "epochs = 10\n",
        "\n",
        "checkpoint_filepath = './checkpoint.model.keras'\n",
        "model_checkpoint_callback = tf.keras.callbacks.ModelCheckpoint(\n",
        "    filepath=checkpoint_filepath,\n",
        "    monitor='val_accuracy',\n",
        "    mode='max',\n",
        "    save_best_only=True)\n",
        "\n",
        "earlystop_callback = tf.keras.callbacks.EarlyStopping(monitor='val_loss', min_delta=0.005, patience=0)\n",
        "\n",
        "history = model.fit(\n",
        "    train_ds,\n",
        "    validation_data=val_ds,\n",
        "    epochs=epochs,\n",
        "    callbacks=[model_checkpoint_callback, earlystop_callback])"
      ],
      "metadata": {
        "colab": {
          "base_uri": "https://localhost:8080/"
        },
        "id": "OlR82U1KwWBD",
        "outputId": "fa8e195e-8c2e-4c94-a46c-b55bdbb08ef2"
      },
      "execution_count": 23,
      "outputs": [
        {
          "output_type": "stream",
          "name": "stdout",
          "text": [
            "Epoch 1/10\n",
            "3705/3705 [==============================] - 34s 9ms/step - loss: 1.0270 - accuracy: 0.6411 - val_loss: 0.9730 - val_accuracy: 0.6429\n",
            "Epoch 2/10\n",
            "3705/3705 [==============================] - 26s 7ms/step - loss: 0.9303 - accuracy: 0.6481 - val_loss: 0.8997 - val_accuracy: 0.6535\n",
            "Epoch 3/10\n",
            "3705/3705 [==============================] - 21s 6ms/step - loss: 0.8741 - accuracy: 0.6603 - val_loss: 0.8636 - val_accuracy: 0.6619\n",
            "Epoch 4/10\n",
            "3705/3705 [==============================] - 21s 6ms/step - loss: 0.8382 - accuracy: 0.6707 - val_loss: 0.8404 - val_accuracy: 0.6712\n",
            "Epoch 5/10\n",
            "3705/3705 [==============================] - 21s 6ms/step - loss: 0.8148 - accuracy: 0.6802 - val_loss: 0.8263 - val_accuracy: 0.6768\n",
            "Epoch 6/10\n",
            "3705/3705 [==============================] - 21s 6ms/step - loss: 0.7986 - accuracy: 0.6852 - val_loss: 0.8186 - val_accuracy: 0.6807\n",
            "Epoch 7/10\n",
            "3705/3705 [==============================] - 23s 6ms/step - loss: 0.7864 - accuracy: 0.6894 - val_loss: 0.8136 - val_accuracy: 0.6834\n",
            "Epoch 8/10\n",
            "3705/3705 [==============================] - 22s 6ms/step - loss: 0.7777 - accuracy: 0.6934 - val_loss: 0.8107 - val_accuracy: 0.6851\n"
          ]
        }
      ]
    },
    {
      "cell_type": "code",
      "source": [
        "loss, accuracy = model.evaluate(test_ds)\n",
        "\n",
        "print(\"Loss: \", loss)\n",
        "print(\"Accuracy: \", accuracy)"
      ],
      "metadata": {
        "colab": {
          "base_uri": "https://localhost:8080/"
        },
        "id": "xToN9swzwcNp",
        "outputId": "b164ac37-0729-4c88-ef5d-fd1b9972f1bb"
      },
      "execution_count": 24,
      "outputs": [
        {
          "output_type": "stream",
          "name": "stdout",
          "text": [
            "4631/4631 [==============================] - 17s 4ms/step - loss: 0.8162 - accuracy: 0.6774\n",
            "Loss:  0.8162072896957397\n",
            "Accuracy:  0.6773954033851624\n"
          ]
        }
      ]
    },
    {
      "cell_type": "code",
      "source": [
        "history_dict = history.history\n",
        "history_dict.keys()"
      ],
      "metadata": {
        "colab": {
          "base_uri": "https://localhost:8080/"
        },
        "id": "rrVxxBZEwhwk",
        "outputId": "7e8ea008-4e9f-4cc4-8466-a5a8f51088b3"
      },
      "execution_count": 25,
      "outputs": [
        {
          "output_type": "execute_result",
          "data": {
            "text/plain": [
              "dict_keys(['loss', 'accuracy', 'val_loss', 'val_accuracy'])"
            ]
          },
          "metadata": {},
          "execution_count": 25
        }
      ]
    },
    {
      "cell_type": "code",
      "source": [
        "acc = history_dict['accuracy']\n",
        "val_acc = history_dict['val_accuracy']\n",
        "loss = history_dict['loss']\n",
        "val_loss = history_dict['val_loss']\n",
        "\n",
        "epochs = range(1, len(acc) + 1)\n",
        "\n",
        "# \"bo\" is for \"blue dot\"\n",
        "plt.plot(epochs, loss, 'bo', label='Training loss')\n",
        "# b is for \"solid blue line\"\n",
        "plt.plot(epochs, val_loss, 'b', label='Validation loss')\n",
        "plt.title('Training and validation loss')\n",
        "plt.xlabel('Epochs')\n",
        "plt.ylabel('Loss')\n",
        "plt.legend()\n",
        "\n",
        "plt.show()"
      ],
      "metadata": {
        "colab": {
          "base_uri": "https://localhost:8080/",
          "height": 472
        },
        "id": "D64VpLgfwj-Z",
        "outputId": "e34732fd-15b1-4ea5-b778-867bb79d57b5"
      },
      "execution_count": 26,
      "outputs": [
        {
          "output_type": "display_data",
          "data": {
            "text/plain": [
              "<Figure size 640x480 with 1 Axes>"
            ],
            "image/png": "[encoded data removed]"
          },
          "metadata": {}
        }
      ]
    },
    {
      "cell_type": "code",
      "source": [
        "plt.plot(epochs, acc, 'bo', label='Training acc')\n",
        "plt.plot(epochs, val_acc, 'b', label='Validation acc')\n",
        "plt.title('Training and validation accuracy')\n",
        "plt.xlabel('Epochs')\n",
        "plt.ylabel('Accuracy')\n",
        "plt.legend(loc='lower right')\n",
        "\n",
        "plt.show()"
      ],
      "metadata": {
        "colab": {
          "base_uri": "https://localhost:8080/",
          "height": 472
        },
        "id": "datd3ZiKwmjN",
        "outputId": "f22df35a-0049-4d3c-94ad-28ee1c412b39"
      },
      "execution_count": 27,
      "outputs": [
        {
          "output_type": "display_data",
          "data": {
            "text/plain": [
              "<Figure size 640x480 with 1 Axes>"
            ],
            "image/png": "[encoded data removed]"
          },
          "metadata": {}
        }
      ]
    },
    {
      "cell_type": "code",
      "source": [
        "export_model = tf.keras.Sequential([\n",
        "  vectorize_layer,\n",
        "  model,\n",
        "  layers.Activation('softmax')\n",
        "])\n",
        "\n",
        "export_model.compile(\n",
        "    loss=\"sparse_categorical_crossentropy\", optimizer=\"adam\", metrics=['accuracy']\n",
        ")\n",
        "\n",
        "# Test it with `raw_test_ds`, which yields raw strings\n",
        "loss, accuracy = export_model.evaluate(raw_test_ds)\n",
        "print(accuracy)"
      ],
      "metadata": {
        "colab": {
          "base_uri": "https://localhost:8080/"
        },
        "id": "pRKunowewpDx",
        "outputId": "4959e2b3-c517-4f5a-f238-b36b3463a0d2"
      },
      "execution_count": 28,
      "outputs": [
        {
          "output_type": "stream",
          "name": "stdout",
          "text": [
            "4631/4631 [==============================] - 18s 4ms/step - loss: 1.2817 - accuracy: 0.6774\n",
            "0.6773954033851624\n"
          ]
        }
      ]
    },
    {
      "cell_type": "code",
      "source": [
        "#the examples are randomwly picked from the 'summary' section of the original .json file\n",
        "examples = [\n",
        "  \"seems okay.\", #3\n",
        "  \"love love love!\", #5\n",
        "  \"great for my device\", #4\n",
        "    \"perfect.\", #5\n",
        "    \"do not waste your money.\", #1\n",
        "    \"try it yourself.\", #3\n",
        "]\n",
        "\n",
        "[int(tf.math.argmax(l)) + 1 for l in export_model.predict(examples)]"
      ],
      "metadata": {
        "colab": {
          "base_uri": "https://localhost:8080/"
        },
        "id": "DR6ro4Rhwrdm",
        "outputId": "d94f0ef7-0896-4fa9-ce1e-b7de2e7adc35"
      },
      "execution_count": 29,
      "outputs": [
        {
          "output_type": "stream",
          "name": "stdout",
          "text": [
            "1/1 [==============================] - 0s 218ms/step\n"
          ]
        },
        {
          "output_type": "execute_result",
          "data": {
            "text/plain": [
              "[5, 5, 5, 5, 1, 5]"
            ]
          },
          "metadata": {},
          "execution_count": 29
        }
      ]
    },
    {
      "cell_type": "code",
      "source": [],
      "metadata": {
        "id": "lO1brZgzyAu8"
      },
      "execution_count": null,
      "outputs": []
    }
  ]
}
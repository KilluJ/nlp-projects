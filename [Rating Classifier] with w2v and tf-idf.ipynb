{
 "cells": [
  {
   "cell_type": "markdown",
   "metadata": {
    "tags": []
   },
   "source": [
    "## preparing tokenized data"
   ]
  },
  {
   "cell_type": "code",
   "execution_count": 1,
   "metadata": {
    "id": "z7t5C9cN0oVR"
   },
   "outputs": [],
   "source": [
    "# import libraries\n",
    "import gensim\n",
    "import numpy as np\n",
    "import pandas as pd\n",
    "from sklearn.model_selection import train_test_split\n",
    "from tensorflow.keras.models import Sequential\n",
    "pd.set_option('display.max_colwidth', 80)"
   ]
  },
  {
   "cell_type": "code",
   "execution_count": 2,
   "metadata": {},
   "outputs": [],
   "source": [
    "# read the json file into a dataframe\n",
    "df = pd.read_json('reviews.json', lines=True)\n",
    "data = df[[\"reviewText\", \"overall\"]]"
   ]
  },
  {
   "cell_type": "code",
   "execution_count": 3,
   "metadata": {},
   "outputs": [
    {
     "data": {
      "text/html": [
       "<div>\n",
       "<style scoped>\n",
       "    .dataframe tbody tr th:only-of-type {\n",
       "        vertical-align: middle;\n",
       "    }\n",
       "\n",
       "    .dataframe tbody tr th {\n",
       "        vertical-align: top;\n",
       "    }\n",
       "\n",
       "    .dataframe thead th {\n",
       "        text-align: right;\n",
       "    }\n",
       "</style>\n",
       "<table border=\"1\" class=\"dataframe\">\n",
       "  <thead>\n",
       "    <tr style=\"text-align: right;\">\n",
       "      <th></th>\n",
       "      <th>reviewText</th>\n",
       "      <th>overall</th>\n",
       "    </tr>\n",
       "  </thead>\n",
       "  <tbody>\n",
       "    <tr>\n",
       "      <th>0</th>\n",
       "      <td>This came in on time and I am veru happy with it, I haved used it already an...</td>\n",
       "      <td>5</td>\n",
       "    </tr>\n",
       "    <tr>\n",
       "      <th>1</th>\n",
       "      <td>I had a factory Glock tool that I was using for my Glock 26, 27, and 17.  I'...</td>\n",
       "      <td>5</td>\n",
       "    </tr>\n",
       "    <tr>\n",
       "      <th>2</th>\n",
       "      <td>If you don't have a 3/32 punch or would like to have one in your Glock bag, ...</td>\n",
       "      <td>4</td>\n",
       "    </tr>\n",
       "    <tr>\n",
       "      <th>3</th>\n",
       "      <td>This works no better than any 3/32 punch you would find at the hardware stor...</td>\n",
       "      <td>4</td>\n",
       "    </tr>\n",
       "    <tr>\n",
       "      <th>4</th>\n",
       "      <td>I purchased this thinking maybe I need a special tool to easily pop off my b...</td>\n",
       "      <td>4</td>\n",
       "    </tr>\n",
       "  </tbody>\n",
       "</table>\n",
       "</div>"
      ],
      "text/plain": [
       "                                                                        reviewText  \\\n",
       "0  This came in on time and I am veru happy with it, I haved used it already an...   \n",
       "1  I had a factory Glock tool that I was using for my Glock 26, 27, and 17.  I'...   \n",
       "2  If you don't have a 3/32 punch or would like to have one in your Glock bag, ...   \n",
       "3  This works no better than any 3/32 punch you would find at the hardware stor...   \n",
       "4  I purchased this thinking maybe I need a special tool to easily pop off my b...   \n",
       "\n",
       "   overall  \n",
       "0        5  \n",
       "1        5  \n",
       "2        4  \n",
       "3        4  \n",
       "4        4  "
      ]
     },
     "execution_count": 3,
     "metadata": {},
     "output_type": "execute_result"
    }
   ],
   "source": [
    "data.head()"
   ]
  },
  {
   "cell_type": "code",
   "execution_count": 4,
   "metadata": {},
   "outputs": [],
   "source": [
    "# the preprocess_documents function in gensim automatically stem\n",
    "# which is not desired\n",
    "# thus this customized gensim_strip function\n",
    "\n",
    "#from gensim.parsing.preprocessing import preprocess_documents\n",
    "from gensim.parsing.preprocessing import strip_tags\n",
    "from gensim.parsing.preprocessing import strip_short\n",
    "from gensim.parsing.preprocessing import strip_punctuation\n",
    "from gensim.parsing.preprocessing import strip_numeric\n",
    "from gensim.parsing.preprocessing import strip_non_alphanum\n",
    "from gensim.parsing.preprocessing import strip_multiple_whitespaces\n",
    "\n",
    "def gensim_strip(input_data):\n",
    "    input_data = input_data.lower()\n",
    "    input_data = strip_tags(input_data)\n",
    "    input_data = strip_short(input_data, minsize = 3)\n",
    "    input_data = strip_punctuation(input_data)\n",
    "    input_data = strip_numeric(input_data)\n",
    "    input_data = strip_non_alphanum(input_data)\n",
    "    input_data = strip_multiple_whitespaces(input_data)\n",
    "    return input_data"
   ]
  },
  {
   "cell_type": "code",
   "execution_count": 5,
   "metadata": {},
   "outputs": [],
   "source": [
    "import spacy\n",
    "\n",
    "# Initialize spacy 'en' model, keeping only tagger component needed for lemmatization\n",
    "nlp = spacy.load(\"en_core_web_sm\")"
   ]
  },
  {
   "cell_type": "code",
   "execution_count": 6,
   "metadata": {},
   "outputs": [],
   "source": [
    "# preprocess text using strip and lemmatization\n",
    "def tokenvec(line):\n",
    "    line = gensim_strip(line)\n",
    "    doc = nlp(line)\n",
    "    doc = [token.lemma_ for token in doc]\n",
    "    return [token for token in doc if len(token) >= 3]"
   ]
  },
  {
   "cell_type": "code",
   "execution_count": 7,
   "metadata": {},
   "outputs": [
    {
     "name": "stderr",
     "output_type": "stream",
     "text": [
      "/var/folders/7x/mknq0g2s07jdkg8524w7snh40000gn/T/ipykernel_27608/3662229646.py:6: SettingWithCopyWarning: \n",
      "A value is trying to be set on a copy of a slice from a DataFrame.\n",
      "Try using .loc[row_indexer,col_indexer] = value instead\n",
      "\n",
      "See the caveats in the documentation: https://pandas.pydata.org/pandas-docs/stable/user_guide/indexing.html#returning-a-view-versus-a-copy\n",
      "  data['tokenized review'] = reviewText_token\n"
     ]
    },
    {
     "data": {
      "text/html": [
       "<div>\n",
       "<style scoped>\n",
       "    .dataframe tbody tr th:only-of-type {\n",
       "        vertical-align: middle;\n",
       "    }\n",
       "\n",
       "    .dataframe tbody tr th {\n",
       "        vertical-align: top;\n",
       "    }\n",
       "\n",
       "    .dataframe thead th {\n",
       "        text-align: right;\n",
       "    }\n",
       "</style>\n",
       "<table border=\"1\" class=\"dataframe\">\n",
       "  <thead>\n",
       "    <tr style=\"text-align: right;\">\n",
       "      <th></th>\n",
       "      <th>reviewText</th>\n",
       "      <th>overall</th>\n",
       "      <th>tokenized review</th>\n",
       "    </tr>\n",
       "  </thead>\n",
       "  <tbody>\n",
       "    <tr>\n",
       "      <th>0</th>\n",
       "      <td>This came in on time and I am veru happy with it, I haved used it already an...</td>\n",
       "      <td>5</td>\n",
       "      <td>[this, come, time, and, veru, happy, with, have, use, already, and, make, ta...</td>\n",
       "    </tr>\n",
       "    <tr>\n",
       "      <th>1</th>\n",
       "      <td>I had a factory Glock tool that I was using for my Glock 26, 27, and 17.  I'...</td>\n",
       "      <td>5</td>\n",
       "      <td>[have, factory, glock, tool, that, use, for, glock, and, since, lose, and, h...</td>\n",
       "    </tr>\n",
       "    <tr>\n",
       "      <th>2</th>\n",
       "      <td>If you don't have a 3/32 punch or would like to have one in your Glock bag, ...</td>\n",
       "      <td>4</td>\n",
       "      <td>[you, don, have, punch, would, like, have, one, your, glock, bag, this, okay...</td>\n",
       "    </tr>\n",
       "    <tr>\n",
       "      <th>3</th>\n",
       "      <td>This works no better than any 3/32 punch you would find at the hardware stor...</td>\n",
       "      <td>4</td>\n",
       "      <td>[this, work, well, than, any, punch, you, would, find, the, hardware, store,...</td>\n",
       "    </tr>\n",
       "    <tr>\n",
       "      <th>4</th>\n",
       "      <td>I purchased this thinking maybe I need a special tool to easily pop off my b...</td>\n",
       "      <td>4</td>\n",
       "      <td>[purchase, this, thinking, maybe, need, special, tool, easily, pop, off, bas...</td>\n",
       "    </tr>\n",
       "  </tbody>\n",
       "</table>\n",
       "</div>"
      ],
      "text/plain": [
       "                                                                        reviewText  \\\n",
       "0  This came in on time and I am veru happy with it, I haved used it already an...   \n",
       "1  I had a factory Glock tool that I was using for my Glock 26, 27, and 17.  I'...   \n",
       "2  If you don't have a 3/32 punch or would like to have one in your Glock bag, ...   \n",
       "3  This works no better than any 3/32 punch you would find at the hardware stor...   \n",
       "4  I purchased this thinking maybe I need a special tool to easily pop off my b...   \n",
       "\n",
       "   overall  \\\n",
       "0        5   \n",
       "1        5   \n",
       "2        4   \n",
       "3        4   \n",
       "4        4   \n",
       "\n",
       "                                                                  tokenized review  \n",
       "0  [this, come, time, and, veru, happy, with, have, use, already, and, make, ta...  \n",
       "1  [have, factory, glock, tool, that, use, for, glock, and, since, lose, and, h...  \n",
       "2  [you, don, have, punch, would, like, have, one, your, glock, bag, this, okay...  \n",
       "3  [this, work, well, than, any, punch, you, would, find, the, hardware, store,...  \n",
       "4  [purchase, this, thinking, maybe, need, special, tool, easily, pop, off, bas...  "
      ]
     },
     "execution_count": 7,
     "metadata": {},
     "output_type": "execute_result"
    }
   ],
   "source": [
    "reviewText_token = []\n",
    "#summary_token = []\n",
    "for index, row in data.iterrows():\n",
    "    reviewText_token.append(tokenvec(row['reviewText']))\n",
    "    #summary_token.append(tokenvec(row['summary']))\n",
    "data['tokenized review'] = reviewText_token\n",
    "#data['tokenized summary'] = summary_token\n",
    "data.head()"
   ]
  },
  {
   "cell_type": "code",
   "execution_count": 8,
   "metadata": {},
   "outputs": [
    {
     "data": {
      "text/html": [
       "<div>\n",
       "<style scoped>\n",
       "    .dataframe tbody tr th:only-of-type {\n",
       "        vertical-align: middle;\n",
       "    }\n",
       "\n",
       "    .dataframe tbody tr th {\n",
       "        vertical-align: top;\n",
       "    }\n",
       "\n",
       "    .dataframe thead th {\n",
       "        text-align: right;\n",
       "    }\n",
       "</style>\n",
       "<table border=\"1\" class=\"dataframe\">\n",
       "  <thead>\n",
       "    <tr style=\"text-align: right;\">\n",
       "      <th></th>\n",
       "      <th>overall</th>\n",
       "      <th>tokenized review</th>\n",
       "    </tr>\n",
       "  </thead>\n",
       "  <tbody>\n",
       "    <tr>\n",
       "      <th>0</th>\n",
       "      <td>5</td>\n",
       "      <td>[this, come, time, and, veru, happy, with, have, use, already, and, make, ta...</td>\n",
       "    </tr>\n",
       "    <tr>\n",
       "      <th>1</th>\n",
       "      <td>5</td>\n",
       "      <td>[have, factory, glock, tool, that, use, for, glock, and, since, lose, and, h...</td>\n",
       "    </tr>\n",
       "    <tr>\n",
       "      <th>2</th>\n",
       "      <td>4</td>\n",
       "      <td>[you, don, have, punch, would, like, have, one, your, glock, bag, this, okay...</td>\n",
       "    </tr>\n",
       "    <tr>\n",
       "      <th>3</th>\n",
       "      <td>4</td>\n",
       "      <td>[this, work, well, than, any, punch, you, would, find, the, hardware, store,...</td>\n",
       "    </tr>\n",
       "    <tr>\n",
       "      <th>4</th>\n",
       "      <td>4</td>\n",
       "      <td>[purchase, this, thinking, maybe, need, special, tool, easily, pop, off, bas...</td>\n",
       "    </tr>\n",
       "  </tbody>\n",
       "</table>\n",
       "</div>"
      ],
      "text/plain": [
       "   overall  \\\n",
       "0        5   \n",
       "1        5   \n",
       "2        4   \n",
       "3        4   \n",
       "4        4   \n",
       "\n",
       "                                                                  tokenized review  \n",
       "0  [this, come, time, and, veru, happy, with, have, use, already, and, make, ta...  \n",
       "1  [have, factory, glock, tool, that, use, for, glock, and, since, lose, and, h...  \n",
       "2  [you, don, have, punch, would, like, have, one, your, glock, bag, this, okay...  \n",
       "3  [this, work, well, than, any, punch, you, would, find, the, hardware, store,...  \n",
       "4  [purchase, this, thinking, maybe, need, special, tool, easily, pop, off, bas...  "
      ]
     },
     "execution_count": 8,
     "metadata": {},
     "output_type": "execute_result"
    }
   ],
   "source": [
    "df = data[['overall', 'tokenized review']]\n",
    "df.head()"
   ]
  },
  {
   "cell_type": "markdown",
   "metadata": {
    "tags": []
   },
   "source": [
    "## get TF-IDF weight"
   ]
  },
  {
   "cell_type": "code",
   "execution_count": 11,
   "metadata": {},
   "outputs": [],
   "source": [
    "# data list for tf-idf modeling\n",
    "corpus = []\n",
    "for index, row in df.iterrows():\n",
    "    corpus.append(\" \".join([token for token in row['tokenized review']]))"
   ]
  },
  {
   "cell_type": "code",
   "execution_count": 12,
   "metadata": {},
   "outputs": [],
   "source": [
    "# tf-idf model\n",
    "from sklearn.feature_extraction.text import TfidfVectorizer\n",
    "\n",
    "# in total the vocab size is over 90k \n",
    "# we will only consider the most frequent 2000 words in order to prevent overfitting\n",
    "vectorizer = TfidfVectorizer(stop_words = 'english', max_features = 2000) \n",
    "X = vectorizer.fit_transform(corpus)\n",
    "X = X.toarray()"
   ]
  },
  {
   "cell_type": "code",
   "execution_count": 13,
   "metadata": {},
   "outputs": [],
   "source": [
    "# the dictionary consists of the 2000 frequent words as keys\n",
    "# and their corresponnding indices as values\n",
    "vocab = vectorizer.vocabulary_"
   ]
  },
  {
   "cell_type": "markdown",
   "metadata": {
    "tags": []
   },
   "source": [
    "## word2vec modeling"
   ]
  },
  {
   "cell_type": "code",
   "execution_count": 14,
   "metadata": {},
   "outputs": [],
   "source": [
    "# Split data into train and test sets\n",
    "SEED = 42\n",
    "X_train, X_test, y_train, y_test = train_test_split(df['tokenized review'], \n",
    "                                                    df['overall'],\n",
    "                                                    test_size=0.2, random_state = SEED)"
   ]
  },
  {
   "cell_type": "code",
   "execution_count": 18,
   "metadata": {},
   "outputs": [],
   "source": [
    "# Train the word2vec model based on reviewText\n",
    "w2v_model = gensim.models.Word2Vec(df['tokenized review'],\n",
    "                                   vector_size=100,\n",
    "                                   window=5,\n",
    "                                   min_count=2)"
   ]
  },
  {
   "cell_type": "code",
   "execution_count": 20,
   "metadata": {
    "id": "AlblGeY-5vap"
   },
   "outputs": [
    {
     "data": {
      "text/plain": [
       "['then',\n",
       " 'purchase',\n",
       " 'around',\n",
       " 'water',\n",
       " 'day',\n",
       " 'love',\n",
       " 'handle',\n",
       " 'carry',\n",
       " 'set',\n",
       " 'how']"
      ]
     },
     "execution_count": 20,
     "metadata": {},
     "output_type": "execute_result"
    }
   ],
   "source": [
    "w2v_model.wv.index_to_key[100:110]"
   ]
  },
  {
   "cell_type": "code",
   "execution_count": 21,
   "metadata": {},
   "outputs": [
    {
     "data": {
      "text/plain": [
       "[('fantastic', 0.8686527609825134),\n",
       " ('excellent', 0.8195327520370483),\n",
       " ('awesome', 0.7877996563911438),\n",
       " ('good', 0.7609325647354126),\n",
       " ('wonderful', 0.7363530993461609),\n",
       " ('nice', 0.6698836088180542),\n",
       " ('terrific', 0.6649855375289917),\n",
       " ('perfect', 0.6524454951286316),\n",
       " ('decent', 0.6352002024650574),\n",
       " ('amazing', 0.6348913311958313)]"
      ]
     },
     "execution_count": 21,
     "metadata": {},
     "output_type": "execute_result"
    }
   ],
   "source": [
    "# Find the most similar words to \"great\" based on word vectors from our trained model\n",
    "w2v_model.wv.most_similar('great')"
   ]
  },
  {
   "cell_type": "code",
   "execution_count": 31,
   "metadata": {},
   "outputs": [],
   "source": [
    "words = set(w2v_model.wv.index_to_key)\n",
    "default = np.zeros(100, dtype=float)\n",
    "\n",
    "# return the w2v vec of a word\n",
    "# output shape = (100,)\n",
    "def vec_of_word(word):\n",
    "    if word not in words:\n",
    "        return default\n",
    "    else:\n",
    "        return w2v_model.wv[word]\n",
    "\n",
    "# return the averaged vec of a review\n",
    "# output shape = (100,)\n",
    "def vec_of_review(row_idx):\n",
    "    review = df['tokenized review'][row_idx]\n",
    "    v = []\n",
    "    for word in review:\n",
    "        if word in words:\n",
    "            v.append(vec_of_word(word))\n",
    "    v = np.array(v)\n",
    "    return v.mean(axis=0) if v.size else default\n",
    "\n",
    "# returns the weighted vec of a word \n",
    "# where the vec comes from w2v model\n",
    "# the weight is from tf-idf\n",
    "# output shape = (100,)\n",
    "def weighted_vec_of_word(word, row_idx):\n",
    "    if word not in vocab or word not in words:\n",
    "        return default\n",
    "    else:\n",
    "        index = vocab[word]\n",
    "        return w2v_model.wv[word] * X[row_idx][index]\n",
    "\n",
    "# returns the averaged weighted vec of a review\n",
    "# output shape = (100,)\n",
    "def weighted_vec_of_review(row_idx):\n",
    "    review = df['tokenized review'][row_idx]\n",
    "    v = []\n",
    "    for word in review:\n",
    "        if word in vocab and word in words:\n",
    "            v.append(weighted_vec_of_word(word, row_idx))\n",
    "    v = np.array(v)\n",
    "    return v.mean(axis=0) if v.size else default"
   ]
  },
  {
   "cell_type": "code",
   "execution_count": 32,
   "metadata": {},
   "outputs": [],
   "source": [
    "review_vec, review_vec_weighted = [], []\n",
    "\n",
    "for row_idx in range(df.shape[0]):\n",
    "    review_vec.append(np.array(vec_of_review(row_idx)))\n",
    "    review_vec_weighted.append(np.array(weighted_vec_of_review(row_idx)))"
   ]
  },
  {
   "cell_type": "code",
   "execution_count": 37,
   "metadata": {},
   "outputs": [],
   "source": [
    "review_vec = np.array(review_vec)\n",
    "review_vec_weighted = np.array(review_vec_weighted)"
   ]
  },
  {
   "cell_type": "code",
   "execution_count": 26,
   "metadata": {},
   "outputs": [],
   "source": [
    "# Instantiate and fit a basic Random Forest model on top of the vectors\n",
    "from sklearn.ensemble import RandomForestClassifier\n",
    "rf = RandomForestClassifier()\n",
    "rf_model = rf.fit(X_train_vect_avg_review, y_train)"
   ]
  },
  {
   "cell_type": "code",
   "execution_count": 27,
   "metadata": {},
   "outputs": [],
   "source": [
    "# Use the trained model to make predictions on the test data\n",
    "y_pred = rf_model.predict(X_test_vect_avg_review)"
   ]
  },
  {
   "cell_type": "code",
   "execution_count": 28,
   "metadata": {},
   "outputs": [
    {
     "data": {
      "text/plain": [
       "array([5, 5, 5, 5, 5, 5, 5, 5, 3, 5, 5, 5, 5, 5, 5, 5, 5, 5, 5, 5])"
      ]
     },
     "execution_count": 28,
     "metadata": {},
     "output_type": "execute_result"
    }
   ],
   "source": [
    "y_pred[:20]"
   ]
  },
  {
   "cell_type": "code",
   "execution_count": 29,
   "metadata": {},
   "outputs": [
    {
     "data": {
      "text/plain": [
       "0.6498953904299116"
      ]
     },
     "execution_count": 29,
     "metadata": {},
     "output_type": "execute_result"
    }
   ],
   "source": [
    "from sklearn.metrics import accuracy_score\n",
    "accuracy_score(y_test, y_pred)"
   ]
  },
  {
   "cell_type": "code",
   "execution_count": 30,
   "metadata": {},
   "outputs": [],
   "source": [
    "# Use the trained model to make predictions on the test data\n",
    "y_pred_s = rf_model.predict(X_test_vect_avg_summary)"
   ]
  },
  {
   "cell_type": "code",
   "execution_count": 31,
   "metadata": {},
   "outputs": [
    {
     "data": {
      "text/plain": [
       "0.5809543092393872"
      ]
     },
     "execution_count": 31,
     "metadata": {},
     "output_type": "execute_result"
    }
   ],
   "source": [
    "accuracy_score(y_test, y_pred_s)"
   ]
  },
  {
   "cell_type": "markdown",
   "metadata": {},
   "source": [
    "Therefore we will proceeed whith the vecs from the review text."
   ]
  },
  {
   "cell_type": "markdown",
   "metadata": {
    "tags": []
   },
   "source": [
    "## classification using neural net -- without tf-idf weighting"
   ]
  },
  {
   "cell_type": "code",
   "execution_count": 39,
   "metadata": {},
   "outputs": [],
   "source": [
    "import tensorflow as tf\n",
    "from tensorflow.keras import layers\n",
    "from tensorflow.keras import losses\n",
    "from sklearn.model_selection import train_test_split"
   ]
  },
  {
   "cell_type": "code",
   "execution_count": 40,
   "metadata": {},
   "outputs": [],
   "source": [
    "# split the data to train, validation, and test\n",
    "SEED = 42\n",
    "X_train, X_test, y_train, y_test = train_test_split(review_vec, df['overall'].tolist(), \n",
    "                                                  test_size=0.2, \n",
    "                                                  shuffle=True,\n",
    "                                                 random_state = SEED)\n",
    "X_train, X_val, y_train, y_val = train_test_split(X_train, y_train, \n",
    "                                                  test_size=0.15, \n",
    "                                                  shuffle=True,\n",
    "                                                 random_state = SEED)"
   ]
  },
  {
   "cell_type": "code",
   "execution_count": 41,
   "metadata": {},
   "outputs": [],
   "source": [
    "y_train = [x - 1 for x in y_train]\n",
    "y_val = [x - 1 for x in y_val]\n",
    "y_test = [x - 1 for x in y_test]"
   ]
  },
  {
   "cell_type": "code",
   "execution_count": 43,
   "metadata": {},
   "outputs": [],
   "source": [
    "# prepare data for keras\n",
    "train = tf.data.Dataset.from_tensor_slices((X_train, y_train))\n",
    "val = tf.data.Dataset.from_tensor_slices((X_val, y_val))\n",
    "test = tf.data.Dataset.from_tensor_slices((X_test, y_test))"
   ]
  },
  {
   "cell_type": "code",
   "execution_count": 44,
   "metadata": {},
   "outputs": [
    {
     "data": {
      "text/plain": [
       "<_TensorSliceDataset element_spec=(TensorSpec(shape=(100,), dtype=tf.float64, name=None), TensorSpec(shape=(), dtype=tf.int32, name=None))>"
      ]
     },
     "execution_count": 44,
     "metadata": {},
     "output_type": "execute_result"
    }
   ],
   "source": [
    "train"
   ]
  },
  {
   "cell_type": "code",
   "execution_count": 45,
   "metadata": {},
   "outputs": [],
   "source": [
    "train = train.batch(32)\n",
    "val = val.batch(32)"
   ]
  },
  {
   "cell_type": "code",
   "execution_count": 46,
   "metadata": {},
   "outputs": [],
   "source": [
    "AUTOTUNE = tf.data.AUTOTUNE\n",
    "#BATCH_SIZE = 32\n",
    "train = train.cache().prefetch(buffer_size=AUTOTUNE)\n",
    "val = val.cache().prefetch(buffer_size=AUTOTUNE)\n",
    "test = test.cache().prefetch(buffer_size=AUTOTUNE)"
   ]
  },
  {
   "cell_type": "code",
   "execution_count": 90,
   "metadata": {},
   "outputs": [
    {
     "name": "stdout",
     "output_type": "stream",
     "text": [
      "Model: \"sequential_9\"\n",
      "_________________________________________________________________\n",
      " Layer (type)                Output Shape              Param #   \n",
      "=================================================================\n",
      " dense_20 (Dense)            (None, 128)               12928     \n",
      "                                                                 \n",
      " dropout_16 (Dropout)        (None, 128)               0         \n",
      "                                                                 \n",
      " dense_21 (Dense)            (None, 64)                8256      \n",
      "                                                                 \n",
      " dropout_17 (Dropout)        (None, 64)                0         \n",
      "                                                                 \n",
      " dense_22 (Dense)            (None, 5)                 325       \n",
      "                                                                 \n",
      "=================================================================\n",
      "Total params: 21509 (84.02 KB)\n",
      "Trainable params: 21509 (84.02 KB)\n",
      "Non-trainable params: 0 (0.00 Byte)\n",
      "_________________________________________________________________\n"
     ]
    }
   ],
   "source": [
    "#define our model\n",
    "\n",
    "model = Sequential()\n",
    "model.add(layers.Dense(128, input_shape=(100,), activation='softmax'))\n",
    "model.add(layers.Dropout(0.2))\n",
    "model.add(layers.Dense(64, activation='softmax'))\n",
    "model.add(layers.Dropout(0.1))\n",
    "model.add(layers.Dense(5, activation='softmax'))\n",
    "\n",
    "#model.build((32, 100))\n",
    "model.summary()"
   ]
  },
  {
   "cell_type": "code",
   "execution_count": 91,
   "metadata": {},
   "outputs": [],
   "source": [
    "model.compile(loss=\"sparse_categorical_crossentropy\",optimizer='adam',\n",
    "              metrics=['accuracy'])"
   ]
  },
  {
   "cell_type": "code",
   "execution_count": 92,
   "metadata": {},
   "outputs": [
    {
     "name": "stdout",
     "output_type": "stream",
     "text": [
      "Epoch 1/20\n",
      "6298/6298 [==============================] - 5s 735us/step - loss: 1.0003 - accuracy: 0.6357 - val_loss: 0.9144 - val_accuracy: 0.6415\n",
      "Epoch 2/20\n",
      "6298/6298 [==============================] - 4s 713us/step - loss: 0.9184 - accuracy: 0.6427 - val_loss: 0.8821 - val_accuracy: 0.6536\n",
      "Epoch 3/20\n",
      "6298/6298 [==============================] - 5s 720us/step - loss: 0.8987 - accuracy: 0.6501 - val_loss: 0.8732 - val_accuracy: 0.6566\n",
      "Epoch 4/20\n",
      "6298/6298 [==============================] - 4s 710us/step - loss: 0.8892 - accuracy: 0.6522 - val_loss: 0.8679 - val_accuracy: 0.6577\n",
      "Epoch 5/20\n",
      "6298/6298 [==============================] - 5s 716us/step - loss: 0.8830 - accuracy: 0.6531 - val_loss: 0.8630 - val_accuracy: 0.6595\n",
      "Epoch 6/20\n",
      "6298/6298 [==============================] - 4s 710us/step - loss: 0.8784 - accuracy: 0.6541 - val_loss: 0.8595 - val_accuracy: 0.6615\n",
      "Epoch 7/20\n",
      "6298/6298 [==============================] - 5s 720us/step - loss: 0.8743 - accuracy: 0.6558 - val_loss: 0.8577 - val_accuracy: 0.6624\n",
      "Epoch 8/20\n",
      "6298/6298 [==============================] - 5s 726us/step - loss: 0.8709 - accuracy: 0.6565 - val_loss: 0.8551 - val_accuracy: 0.6638\n",
      "Epoch 9/20\n",
      "6298/6298 [==============================] - 5s 722us/step - loss: 0.8678 - accuracy: 0.6579 - val_loss: 0.8537 - val_accuracy: 0.6642\n",
      "Epoch 10/20\n",
      "6298/6298 [==============================] - 4s 707us/step - loss: 0.8655 - accuracy: 0.6581 - val_loss: 0.8521 - val_accuracy: 0.6650\n",
      "Epoch 11/20\n",
      "6298/6298 [==============================] - 5s 783us/step - loss: 0.8635 - accuracy: 0.6588 - val_loss: 0.8513 - val_accuracy: 0.6645\n"
     ]
    }
   ],
   "source": [
    "#start training\n",
    "epochs = 20\n",
    "\n",
    "checkpoint_filepath = './checkpoint.model2.keras'\n",
    "model_checkpoint_callback = tf.keras.callbacks.ModelCheckpoint(\n",
    "    filepath=checkpoint_filepath,\n",
    "    monitor='val_accuracy',\n",
    "    mode='max',\n",
    "    save_best_only=True)\n",
    "\n",
    "earlystop_callback = tf.keras.callbacks.EarlyStopping(monitor='val_loss', min_delta=0.001, patience=0)\n",
    "\n",
    "history = model.fit(\n",
    "    train,\n",
    "    validation_data=val,\n",
    "    epochs=epochs,\n",
    "    batch_size=32,\n",
    "    callbacks=[model_checkpoint_callback, earlystop_callback])"
   ]
  },
  {
   "cell_type": "markdown",
   "metadata": {
    "tags": []
   },
   "source": [
    "## evaluate model perfomance -- without tf-idf weighting"
   ]
  },
  {
   "cell_type": "code",
   "execution_count": 50,
   "metadata": {},
   "outputs": [],
   "source": [
    "test = test.batch(32)"
   ]
  },
  {
   "cell_type": "code",
   "execution_count": 51,
   "metadata": {},
   "outputs": [
    {
     "name": "stdout",
     "output_type": "stream",
     "text": [
      "1853/1853 [==============================] - 1s 331us/step - loss: 0.8504 - accuracy: 0.6637\n",
      "Loss:  0.8503571152687073\n",
      "Accuracy:  0.6637139916419983\n"
     ]
    }
   ],
   "source": [
    "loss, accuracy = model.evaluate(test)\n",
    "\n",
    "print(\"Loss: \", loss)\n",
    "print(\"Accuracy: \", accuracy)"
   ]
  },
  {
   "cell_type": "code",
   "execution_count": 52,
   "metadata": {},
   "outputs": [
    {
     "data": {
      "text/plain": [
       "dict_keys(['loss', 'accuracy', 'val_loss', 'val_accuracy'])"
      ]
     },
     "execution_count": 52,
     "metadata": {},
     "output_type": "execute_result"
    }
   ],
   "source": [
    "history_dict = history.history\n",
    "history_dict.keys()"
   ]
  },
  {
   "cell_type": "code",
   "execution_count": 53,
   "metadata": {},
   "outputs": [
    {
     "data": {
      "image/png": "[encoded data removed]",
      "text/plain": [
       "<Figure size 640x480 with 1 Axes>"
      ]
     },
     "metadata": {},
     "output_type": "display_data"
    }
   ],
   "source": [
    "import matplotlib.pyplot as plt\n",
    "\n",
    "acc = history_dict['accuracy']\n",
    "val_acc = history_dict['val_accuracy']\n",
    "loss = history_dict['loss']\n",
    "val_loss = history_dict['val_loss']\n",
    "\n",
    "epochs = range(1, len(acc) + 1)\n",
    "\n",
    "# \"bo\" is for \"blue dot\"\n",
    "plt.plot(epochs, loss, 'bo', label='Training loss')\n",
    "# b is for \"solid blue line\"\n",
    "plt.plot(epochs, val_loss, 'b', label='Validation loss')\n",
    "plt.title('Training and validation loss')\n",
    "plt.xlabel('Epochs')\n",
    "plt.ylabel('Loss')\n",
    "plt.legend()\n",
    "\n",
    "plt.show()"
   ]
  },
  {
   "cell_type": "code",
   "execution_count": 54,
   "metadata": {},
   "outputs": [
    {
     "data": {
      "image/png": "[encoded data removed]",
      "text/plain": [
       "<Figure size 640x480 with 1 Axes>"
      ]
     },
     "metadata": {},
     "output_type": "display_data"
    }
   ],
   "source": [
    "plt.plot(epochs, acc, 'bo', label='Training acc')\n",
    "plt.plot(epochs, val_acc, 'b', label='Validation acc')\n",
    "plt.title('Training and validation accuracy')\n",
    "plt.xlabel('Epochs')\n",
    "plt.ylabel('Accuracy')\n",
    "plt.legend(loc='lower right')\n",
    "\n",
    "plt.show()"
   ]
  },
  {
   "cell_type": "code",
   "execution_count": 55,
   "metadata": {},
   "outputs": [
    {
     "name": "stdout",
     "output_type": "stream",
     "text": [
      "1853/1853 [==============================] - 1s 318us/step - loss: 1.3047 - accuracy: 0.6637\n",
      "0.6637139916419983\n"
     ]
    }
   ],
   "source": [
    "export_model = tf.keras.Sequential([\n",
    "  model,\n",
    "  layers.Activation('softmax')\n",
    "])\n",
    "\n",
    "export_model.compile(\n",
    "    loss=\"sparse_categorical_crossentropy\", optimizer=\"adam\", metrics=['accuracy']\n",
    ")\n",
    "\n",
    "# Test it with `raw_test_ds`, which yields raw strings\n",
    "loss, accuracy = export_model.evaluate(test)\n",
    "print(accuracy)"
   ]
  },
  {
   "cell_type": "markdown",
   "metadata": {},
   "source": [
    "## classification using neural net -- with tf-idf weighting"
   ]
  },
  {
   "cell_type": "code",
   "execution_count": 57,
   "metadata": {},
   "outputs": [],
   "source": [
    "# split the data to train, validation, and test\n",
    "SEED = 42\n",
    "X_train_w, X_test_w, y_train_w, y_test_w = train_test_split(review_vec_weighted, df['overall'].tolist(), \n",
    "                                                  test_size=0.2, \n",
    "                                                  shuffle=True,\n",
    "                                                 random_state = SEED)\n",
    "X_train_w, X_val_w, y_train_w, y_val_w = train_test_split(X_train_w, y_train_w, \n",
    "                                                  test_size=0.15, \n",
    "                                                  shuffle=True,\n",
    "                                                 random_state = SEED)"
   ]
  },
  {
   "cell_type": "code",
   "execution_count": 58,
   "metadata": {},
   "outputs": [],
   "source": [
    "y_train_w = [x - 1 for x in y_train_w]\n",
    "y_val_w = [x - 1 for x in y_val_w]\n",
    "y_test_w = [x - 1 for x in y_test_w]"
   ]
  },
  {
   "cell_type": "code",
   "execution_count": 59,
   "metadata": {},
   "outputs": [],
   "source": [
    "# prepare data for keras\n",
    "train_w = tf.data.Dataset.from_tensor_slices((X_train_w, y_train_w))\n",
    "val_w = tf.data.Dataset.from_tensor_slices((X_val_w, y_val_w))\n",
    "test_w = tf.data.Dataset.from_tensor_slices((X_test_w, y_test_w))"
   ]
  },
  {
   "cell_type": "code",
   "execution_count": 60,
   "metadata": {},
   "outputs": [],
   "source": [
    "train_w = train_w.batch(32)\n",
    "val_w = val_w.batch(32)"
   ]
  },
  {
   "cell_type": "code",
   "execution_count": 61,
   "metadata": {},
   "outputs": [],
   "source": [
    "AUTOTUNE = tf.data.AUTOTUNE\n",
    "#BATCH_SIZE = 32\n",
    "train_w = train_w.cache().prefetch(buffer_size=AUTOTUNE)\n",
    "val_w = val_w.cache().prefetch(buffer_size=AUTOTUNE)\n",
    "test_w = test_w.cache().prefetch(buffer_size=AUTOTUNE)"
   ]
  },
  {
   "cell_type": "code",
   "execution_count": 84,
   "metadata": {},
   "outputs": [
    {
     "name": "stdout",
     "output_type": "stream",
     "text": [
      "Model: \"sequential_8\"\n",
      "_________________________________________________________________\n",
      " Layer (type)                Output Shape              Param #   \n",
      "=================================================================\n",
      " dense_17 (Dense)            (None, 128)               12928     \n",
      "                                                                 \n",
      " dropout_14 (Dropout)        (None, 128)               0         \n",
      "                                                                 \n",
      " dense_18 (Dense)            (None, 64)                8256      \n",
      "                                                                 \n",
      " dropout_15 (Dropout)        (None, 64)                0         \n",
      "                                                                 \n",
      " dense_19 (Dense)            (None, 5)                 325       \n",
      "                                                                 \n",
      "=================================================================\n",
      "Total params: 21509 (84.02 KB)\n",
      "Trainable params: 21509 (84.02 KB)\n",
      "Non-trainable params: 0 (0.00 Byte)\n",
      "_________________________________________________________________\n"
     ]
    }
   ],
   "source": [
    "#define our model\n",
    "# using same specs of the model for unweighted vecs\n",
    "\n",
    "model_w = Sequential()\n",
    "model_w.add(layers.Dense(128, input_shape=(100,), activation='softmax'))\n",
    "model_w.add(layers.Dropout(0.2))\n",
    "model_w.add(layers.Dense(64, activation='softmax'))\n",
    "model_w.add(layers.Dropout(0.1))\n",
    "model_w.add(layers.Dense(5, activation='softmax'))\n",
    "\n",
    "#model.build((32, 100))\n",
    "model_w.summary()"
   ]
  },
  {
   "cell_type": "code",
   "execution_count": 85,
   "metadata": {},
   "outputs": [],
   "source": [
    "model_w.compile(loss=\"sparse_categorical_crossentropy\",optimizer='adam',\n",
    "              metrics=['accuracy'])"
   ]
  },
  {
   "cell_type": "code",
   "execution_count": 86,
   "metadata": {},
   "outputs": [
    {
     "name": "stdout",
     "output_type": "stream",
     "text": [
      "Epoch 1/20\n",
      "6298/6298 [==============================] - 5s 722us/step - loss: 1.0249 - accuracy: 0.6327 - val_loss: 0.9650 - val_accuracy: 0.6355\n",
      "Epoch 2/20\n",
      "6298/6298 [==============================] - 4s 708us/step - loss: 0.9622 - accuracy: 0.6341 - val_loss: 0.9488 - val_accuracy: 0.6354\n",
      "Epoch 3/20\n",
      "6298/6298 [==============================] - 5s 737us/step - loss: 0.9481 - accuracy: 0.6361 - val_loss: 0.9376 - val_accuracy: 0.6394\n",
      "Epoch 4/20\n",
      "6298/6298 [==============================] - 5s 827us/step - loss: 0.9407 - accuracy: 0.6371 - val_loss: 0.9324 - val_accuracy: 0.6401\n",
      "Epoch 5/20\n",
      "6298/6298 [==============================] - 5s 717us/step - loss: 0.9352 - accuracy: 0.6381 - val_loss: 0.9289 - val_accuracy: 0.6404\n",
      "Epoch 6/20\n",
      "6298/6298 [==============================] - 5s 717us/step - loss: 0.9312 - accuracy: 0.6386 - val_loss: 0.9258 - val_accuracy: 0.6416\n",
      "Epoch 7/20\n",
      "6298/6298 [==============================] - 5s 765us/step - loss: 0.9276 - accuracy: 0.6394 - val_loss: 0.9230 - val_accuracy: 0.6423\n",
      "Epoch 8/20\n",
      "6298/6298 [==============================] - 4s 707us/step - loss: 0.9248 - accuracy: 0.6403 - val_loss: 0.9207 - val_accuracy: 0.6431\n",
      "Epoch 9/20\n",
      "6298/6298 [==============================] - 5s 715us/step - loss: 0.9220 - accuracy: 0.6412 - val_loss: 0.9190 - val_accuracy: 0.6439\n",
      "Epoch 10/20\n",
      "6298/6298 [==============================] - 5s 802us/step - loss: 0.9196 - accuracy: 0.6423 - val_loss: 0.9175 - val_accuracy: 0.6437\n",
      "Epoch 11/20\n",
      "6298/6298 [==============================] - 5s 724us/step - loss: 0.9177 - accuracy: 0.6429 - val_loss: 0.9159 - val_accuracy: 0.6455\n",
      "Epoch 12/20\n",
      "6298/6298 [==============================] - 4s 709us/step - loss: 0.9158 - accuracy: 0.6433 - val_loss: 0.9149 - val_accuracy: 0.6455\n",
      "Epoch 13/20\n",
      "6298/6298 [==============================] - 5s 754us/step - loss: 0.9140 - accuracy: 0.6443 - val_loss: 0.9139 - val_accuracy: 0.6467\n"
     ]
    }
   ],
   "source": [
    "#start training\n",
    "epochs = 20\n",
    "\n",
    "checkpoint_filepath = './checkpoint.model_w.keras'\n",
    "model_checkpoint_callback = tf.keras.callbacks.ModelCheckpoint(\n",
    "    filepath=checkpoint_filepath,\n",
    "    monitor='val_accuracy',\n",
    "    mode='max',\n",
    "    save_best_only=True)\n",
    "\n",
    "earlystop_callback = tf.keras.callbacks.EarlyStopping(monitor='val_loss', min_delta=0.001, patience=0)\n",
    "\n",
    "history = model_w.fit(\n",
    "    train_w,\n",
    "    validation_data=val_w,\n",
    "    epochs=epochs,\n",
    "    batch_size=32,\n",
    "    callbacks=[model_checkpoint_callback, earlystop_callback])"
   ]
  },
  {
   "cell_type": "markdown",
   "metadata": {},
   "source": [
    "## evaluate model perfomance -- with tf-idf weighting"
   ]
  },
  {
   "cell_type": "code",
   "execution_count": 65,
   "metadata": {},
   "outputs": [],
   "source": [
    "test_w = test_w.batch(32)"
   ]
  },
  {
   "cell_type": "code",
   "execution_count": 87,
   "metadata": {},
   "outputs": [
    {
     "name": "stdout",
     "output_type": "stream",
     "text": [
      "1853/1853 [==============================] - 1s 394us/step - loss: 0.9096 - accuracy: 0.6472\n",
      "Loss:  0.909603476524353\n",
      "Accuracy:  0.6471788883209229\n"
     ]
    }
   ],
   "source": [
    "loss, accuracy = model_w.evaluate(test_w)\n",
    "\n",
    "print(\"Loss: \", loss)\n",
    "print(\"Accuracy: \", accuracy)"
   ]
  },
  {
   "cell_type": "code",
   "execution_count": 88,
   "metadata": {},
   "outputs": [
    {
     "data": {
      "image/png": "[encoded data removed]",
      "text/plain": [
       "<Figure size 640x480 with 1 Axes>"
      ]
     },
     "metadata": {},
     "output_type": "display_data"
    }
   ],
   "source": [
    "history_dict = history.history\n",
    "acc = history_dict['accuracy']\n",
    "val_acc = history_dict['val_accuracy']\n",
    "loss = history_dict['loss']\n",
    "val_loss = history_dict['val_loss']\n",
    "\n",
    "epochs = range(1, len(acc) + 1)\n",
    "\n",
    "# \"bo\" is for \"blue dot\"\n",
    "plt.plot(epochs, loss, 'bo', label='Training loss')\n",
    "# b is for \"solid blue line\"\n",
    "plt.plot(epochs, val_loss, 'b', label='Validation loss')\n",
    "plt.title('Training and validation loss - with tf-idf weighting')\n",
    "plt.xlabel('Epochs')\n",
    "plt.ylabel('Loss')\n",
    "plt.legend()\n",
    "\n",
    "plt.show()"
   ]
  },
  {
   "cell_type": "code",
   "execution_count": 89,
   "metadata": {},
   "outputs": [
    {
     "data": {
      "image/png": "[encoded data removed]",
      "text/plain": [
       "<Figure size 640x480 with 1 Axes>"
      ]
     },
     "metadata": {},
     "output_type": "display_data"
    }
   ],
   "source": [
    "plt.plot(epochs, acc, 'bo', label='Training acc')\n",
    "plt.plot(epochs, val_acc, 'b', label='Validation acc')\n",
    "plt.title('Training and validation accuracy - with tf-idf weighting')\n",
    "plt.xlabel('Epochs')\n",
    "plt.ylabel('Accuracy')\n",
    "plt.legend(loc='lower right')\n",
    "\n",
    "plt.show()"
   ]
  },
  {
   "cell_type": "code",
   "execution_count": null,
   "metadata": {},
   "outputs": [],
   "source": []
  }
 ],
 "metadata": {
  "accelerator": "GPU",
  "colab": {
   "gpuType": "T4",
   "provenance": []
  },
  "kernelspec": {
   "display_name": "Python 3 (ipykernel)",
   "language": "python",
   "name": "python3"
  },
  "language_info": {
   "codemirror_mode": {
    "name": "ipython",
    "version": 3
   },
   "file_extension": ".py",
   "mimetype": "text/x-python",
   "name": "python",
   "nbconvert_exporter": "python",
   "pygments_lexer": "ipython3",
   "version": "3.10.9"
  }
 },
 "nbformat": 4,
 "nbformat_minor": 4
}
